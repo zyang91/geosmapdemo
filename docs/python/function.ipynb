{
 "cells": [
  {
   "attachments": {},
   "cell_type": "markdown",
   "id": "098e7c65",
   "metadata": {},
   "source": [
    "[![image](https://colab.research.google.com/assets/colab-badge.svg)](https://colab.research.google.com/github/zyang91/GEOG-510/blob/main/python_code/function.ipynb)"
   ]
  },
  {
   "cell_type": "markdown",
   "id": "b489229c",
   "metadata": {},
   "source": [
    " # Functions\n",
    "\n",
    "In this lecture you’ll learn to write functions, which are named blocks of code that are designed to do one specific job. When you want to perform a particular task that you’ve defined in a function, you call the function responsible for it. If you need to perform that task multiple times throughout your program, you don’t need to type all the code for the same task again and again; you just call the function dedicated to handling that task, and the call tells Python to run the code inside the function. You’ll find that using functions makes your programs easier to write, read, test, and fix.\n",
    "\n",
    "In this lecture you’ll also learn ways to pass information to functions. You’ll learn how to write certain functions whose primary job is to display information and other functions designed to process data and return a value or set of values. Finally, you’ll learn to store functions in separate files called modules to help organize your main program files.\n",
    "\n",
    "\n",
    "## DEFINING A FUNCTION <a class='anchor' id='defining-a-function'></a>\n",
    "\n",
    "Here’s a simple function named greet_user() that prints a greeting:\n",
    "\n",
    "```\n",
    "➊ def greet_user():\n",
    "➋     \"\"\"Display a simple greeting.\"\"\"\n",
    "➌     print(\"Hello!\")\n",
    "\n",
    "➍ greet_user()\n",
    "```\n",
    "\n",
    "This example shows the simplest structure of a function. The line at ➊ uses the keyword def to inform Python that you’re defining a function. This is the function definition, which tells Python the name of the function and, if applicable, what kind of information the function needs to do its job. The parentheses hold that information. In this case, the name of the function is greet_user(), and it needs no information to do its job, so its parentheses are empty. (Even so, the parentheses are required.) Finally, the definition ends in a colon.\n",
    "\n",
    "Any indented lines that follow def greet_user(): make up the body of the function. The text at ➋ is a comment called a docstring, which describes what the function does. Docstrings are enclosed in triple quotes, which Python looks for when it generates documentation for the functions in your programs.\n",
    "\n",
    "The line print(\"Hello!\") ➌ is the only line of actual code in the body of this function, so greet_user() has just one job: print(\"Hello!\").\n",
    "\n",
    "When you want to use this function, you call it. A function call tells Python to execute the code in the function. To call a function, you write the name of the function, followed by any necessary information in parentheses, as shown at ➍. Because no information is needed here, calling our function is as simple as entering greet_user(). As expected, it prints Hello!:"
   ]
  },
  {
   "cell_type": "code",
   "execution_count": 1,
   "id": "da387ae4",
   "metadata": {},
   "outputs": [
    {
     "name": "stdout",
     "output_type": "stream",
     "text": [
      "Hello!\n"
     ]
    }
   ],
   "source": [
    "def greet_user():\n",
    "    \"\"\"Display a simple greeting.\"\"\"\n",
    "    print(\"Hello!\")\n",
    "\n",
    "greet_user()"
   ]
  },
  {
   "cell_type": "markdown",
   "id": "8402902e",
   "metadata": {},
   "source": [
    "### Passing Information to a Function\n",
    "\n",
    "Modified slightly, the function greet_user() can not only tell the user Hello! but also greet them by name. For the function to do this, you enter username in the parentheses of the function’s definition at def greet_user(). By adding username here you allow the function to accept any value of username you specify. The function now expects you to provide a value for username each time you call it. When you call greet_user(), you can pass it a name, such as 'jesse', inside the parentheses:"
   ]
  },
  {
   "cell_type": "code",
   "execution_count": 2,
   "id": "1a13fa31",
   "metadata": {},
   "outputs": [
    {
     "name": "stdout",
     "output_type": "stream",
     "text": [
      "Hello, Jesse!\n"
     ]
    }
   ],
   "source": [
    "def greet_user(username): #parameter, name doesn't matter\n",
    "    \"\"\"Display a simple greeting.\"\"\"\n",
    "    print(f\"Hello, {username.title()}!\")\n",
    "\n",
    "greet_user('jesse')"
   ]
  },
  {
   "cell_type": "markdown",
   "id": "7341b9a3",
   "metadata": {},
   "source": [
    "## PASSING ARGUMENTS <a class='anchor' id='passing-arguments'></a>\n",
    "\n",
    "Because a function definition can have multiple parameters, a function call may need multiple arguments. You can pass arguments to your functions in a number of ways. You can use positional arguments, which need to be in the same order the parameters were written; keyword arguments, where each argument consists of a variable name and a value; and lists and dictionaries of values. Let’s look at each of these in turn.\n",
    "\n",
    "### Positional Arguments\n",
    "\n",
    "When you call a function, Python must match each argument in the function call with a parameter in the function definition. The simplest way to do this is based on the order of the arguments provided. Values matched up this way are called positional arguments.\n",
    "\n",
    "To see how this works, consider a function that displays information about pets. The function tells us what kind of animal each pet is and the pet’s name, as shown here:"
   ]
  },
  {
   "cell_type": "code",
   "execution_count": 3,
   "id": "b5077e14",
   "metadata": {},
   "outputs": [
    {
     "name": "stdout",
     "output_type": "stream",
     "text": [
      "\n",
      "I have a hamster.\n",
      "My hamster's name is Harry.\n"
     ]
    }
   ],
   "source": [
    "def describe_pet(animal_type, pet_name):\n",
    "    \"\"\"Display information about a pet.\"\"\"\n",
    "    print(f\"\\nI have a {animal_type}.\")\n",
    "    print(f\"My {animal_type}'s name is {pet_name.title()}.\")\n",
    "\n",
    "describe_pet('hamster', 'harry')\n",
    "#number of parameter must be same, sequense also be same"
   ]
  },
  {
   "cell_type": "code",
   "execution_count": 4,
   "id": "c5959d1d",
   "metadata": {},
   "outputs": [
    {
     "name": "stdout",
     "output_type": "stream",
     "text": [
      "\n",
      "I have a hamstesssr.\n",
      "My hamstesssr's name is Harddry.\n"
     ]
    }
   ],
   "source": [
    "def describe_pet(animal_type, pet_name):\n",
    "    \"\"\"Display information about a pet.\"\"\"\n",
    "    print(f\"\\nI have a {animal_type}.\")\n",
    "    print(f\"My {animal_type}'s name is {pet_name.title()}.\")\n",
    "\n",
    "describe_pet('hamstesssr', 'harddry')"
   ]
  },
  {
   "cell_type": "code",
   "execution_count": 5,
   "id": "a4125949",
   "metadata": {},
   "outputs": [
    {
     "name": "stdout",
     "output_type": "stream",
     "text": [
      "\n",
      "I have a hamster.\n",
      "My hamster's name is Harry.\n",
      "\n",
      "I have a dog.\n",
      "My dog's name is Willie.\n"
     ]
    }
   ],
   "source": [
    "def describe_pet(animal_type, pet_name):\n",
    "    \"\"\"Display information about a pet.\"\"\"\n",
    "    print(f\"\\nI have a {animal_type}.\")\n",
    "    print(f\"My {animal_type}'s name is {pet_name.title()}.\")\n",
    "\n",
    "describe_pet('hamster', 'harry')\n",
    "describe_pet('dog', 'willie')"
   ]
  },
  {
   "cell_type": "markdown",
   "id": "5e25cfdc",
   "metadata": {},
   "source": [
    "### Order Matters in Positional Arguments\n",
    "\n",
    "You can get unexpected results if you mix up the order of the arguments in a function call when using positional arguments:"
   ]
  },
  {
   "cell_type": "code",
   "execution_count": 6,
   "id": "85679ed9",
   "metadata": {},
   "outputs": [
    {
     "name": "stdout",
     "output_type": "stream",
     "text": [
      "\n",
      "I have a harry.\n",
      "My harry's name is Hamster.\n"
     ]
    }
   ],
   "source": [
    "def describe_pet(animal_type, pet_name):\n",
    "    \"\"\"Display information about a pet.\"\"\"\n",
    "    print(f\"\\nI have a {animal_type}.\")\n",
    "    print(f\"My {animal_type}'s name is {pet_name.title()}.\")\n",
    "\n",
    "describe_pet('harry', 'hamster')"
   ]
  },
  {
   "cell_type": "markdown",
   "id": "12f16dc5",
   "metadata": {},
   "source": [
    "### Keyword Arguments\n",
    "\n",
    "A keyword argument is a name-value pair that you pass to a function. You directly associate the name and the value within the argument, so when you pass the argument to the function, there’s no confusion (you won’t end up with a harry named Hamster). Keyword arguments free you from having to worry about correctly ordering your arguments in the function call, and they clarify the role of each value in the function call.\n",
    "\n",
    "Let’s rewrite pets.py using keyword arguments to call describe_pet():"
   ]
  },
  {
   "cell_type": "code",
   "execution_count": 7,
   "id": "918e97c6",
   "metadata": {},
   "outputs": [
    {
     "name": "stdout",
     "output_type": "stream",
     "text": [
      "\n",
      "I have a hamster.\n",
      "My hamster's name is Harry.\n"
     ]
    }
   ],
   "source": [
    "def describe_pet(animal_type, pet_name):\n",
    "    \"\"\"Display information about a pet.\"\"\"\n",
    "    print(f\"\\nI have a {animal_type}.\")\n",
    "    print(f\"My {animal_type}'s name is {pet_name.title()}.\")\n",
    "\n",
    "describe_pet(animal_type='hamster', pet_name='harry')"
   ]
  },
  {
   "cell_type": "code",
   "execution_count": 8,
   "id": "50c1b407",
   "metadata": {},
   "outputs": [
    {
     "name": "stdout",
     "output_type": "stream",
     "text": [
      "\n",
      "I have a hamster.\n",
      "My hamster's name is Harry.\n",
      "\n",
      "I have a hamster.\n",
      "My hamster's name is Harry.\n"
     ]
    }
   ],
   "source": [
    "describe_pet(animal_type='hamster', pet_name='harry')\n",
    "describe_pet(pet_name='harry', animal_type='hamster')"
   ]
  },
  {
   "cell_type": "markdown",
   "id": "519f814f",
   "metadata": {},
   "source": [
    "### Default Values\n",
    "\n",
    "When writing a function, you can define a default value for each parameter. If an argument for a parameter is provided in the function call, Python uses the argument value. If not, it uses the parameter’s default value. So when you define a default value for a parameter, you can exclude the corresponding argument you’d usually write in the function call. Using default values can simplify your function calls and clarify the ways in which your functions are typically used.\n",
    "\n",
    "For example, if you notice that most of the calls to describe_pet() are being used to describe dogs, you can set the default value of animal_type to 'dog'. Now anyone calling describe_pet() for a dog can omit that information:"
   ]
  },
  {
   "cell_type": "code",
   "execution_count": 9,
   "id": "99f61e35",
   "metadata": {},
   "outputs": [
    {
     "name": "stdout",
     "output_type": "stream",
     "text": [
      "\n",
      "I have a dog.\n",
      "My dog's name is Willie.\n"
     ]
    }
   ],
   "source": [
    "def describe_pet(pet_name, animal_type='dog'):# default value 'dog'\n",
    "    \"\"\"Display information about a pet.\"\"\"\n",
    "    print(f\"\\nI have a {animal_type}.\")\n",
    "    print(f\"My {animal_type}'s name is {pet_name.title()}.\")\n",
    "\n",
    "describe_pet(pet_name='willie')"
   ]
  },
  {
   "cell_type": "code",
   "execution_count": 12,
   "id": "d3d8e455",
   "metadata": {},
   "outputs": [
    {
     "name": "stdout",
     "output_type": "stream",
     "text": [
      "My name is Zhanchao.\n",
      "I came from Geography department.\n"
     ]
    }
   ],
   "source": [
    "def info(name, dept = 'geography'):\n",
    "    print(f'My name is {name.title()}.')\n",
    "    print(f'I came from {dept.title()} department.')\n",
    "info('Zhanchao')"
   ]
  },
  {
   "cell_type": "code",
   "execution_count": 13,
   "id": "27e1e9bc",
   "metadata": {},
   "outputs": [
    {
     "name": "stdout",
     "output_type": "stream",
     "text": [
      "My name is Zhanchao.\n",
      "I came from Environmental Studies department.\n"
     ]
    }
   ],
   "source": [
    "def info(name, dept = 'geography'):\n",
    "    print(f'My name is {name.title()}.')\n",
    "    print(f'I came from {dept.title()} department.')\n",
    "info('Zhanchao', 'environmental studies')"
   ]
  },
  {
   "cell_type": "code",
   "execution_count": 15,
   "id": "cef2d5da",
   "metadata": {},
   "outputs": [
    {
     "name": "stdout",
     "output_type": "stream",
     "text": [
      "My name is Zhanchao.\n",
      "I came from Geography department.\n",
      "I am living in NY state.\n"
     ]
    }
   ],
   "source": [
    "def info(name, dept = 'geography', state = 'NY'):\n",
    "    print(f'My name is {name.title()}.')\n",
    "    print(f'I came from {dept.title()} department.')\n",
    "    print(f'I am living in {state} state.')\n",
    "info('Zhanchao')"
   ]
  },
  {
   "cell_type": "code",
   "execution_count": 16,
   "id": "0f1b24d4",
   "metadata": {},
   "outputs": [
    {
     "name": "stdout",
     "output_type": "stream",
     "text": [
      "My name is Zhanchao.\n",
      "I came from Geography department.\n",
      "I am living in PA state.\n"
     ]
    }
   ],
   "source": [
    "def info(name, dept = 'geography', state = 'NY'):\n",
    "    print(f'My name is {name.title()}.')\n",
    "    print(f'I came from {dept.title()} department.')\n",
    "    print(f'I am living in {state} state.')\n",
    "info('Zhanchao', state = 'PA')\n",
    "# name is only useful, if you want to provide something not in regular sequence"
   ]
  },
  {
   "cell_type": "code",
   "execution_count": 17,
   "id": "e3897388",
   "metadata": {},
   "outputs": [
    {
     "name": "stdout",
     "output_type": "stream",
     "text": [
      "My name is Zhanchao.\n",
      "I came from Pa department.\n",
      "I am living in NY state.\n"
     ]
    }
   ],
   "source": [
    "# doesn't work, if it does not provide specific argument. It will treat \n",
    "# with order\n",
    "def info(name, dept = 'geography', state = 'NY'):\n",
    "    print(f'My name is {name.title()}.')\n",
    "    print(f'I came from {dept.title()} department.')\n",
    "    print(f'I am living in {state} state.')\n",
    "info('Zhanchao', 'PA') \n",
    "# see the different between this code and previous one"
   ]
  },
  {
   "cell_type": "code",
   "execution_count": 18,
   "id": "1ecee7ef",
   "metadata": {},
   "outputs": [
    {
     "ename": "SyntaxError",
     "evalue": "non-default argument follows default argument (1552262619.py, line 1)",
     "output_type": "error",
     "traceback": [
      "\u001b[1;36m  Cell \u001b[1;32mIn[18], line 1\u001b[1;36m\u001b[0m\n\u001b[1;33m    def info(name, dept = 'geography', state = 'NY', major):\u001b[0m\n\u001b[1;37m                                                          ^\u001b[0m\n\u001b[1;31mSyntaxError\u001b[0m\u001b[1;31m:\u001b[0m non-default argument follows default argument\n"
     ]
    }
   ],
   "source": [
    "def info(name, dept = 'geography', state = 'NY', major):\n",
    "    print(f'My name is {name.title()}.')\n",
    "    print(f'I came from {dept.title()} department.')\n",
    "    print(f'I am living in {state} state.')\n",
    "    print(f'My major is {major.title()}.')\n",
    "info('Zhanchao', 'geography')"
   ]
  },
  {
   "cell_type": "code",
   "execution_count": 19,
   "id": "c24e4af7",
   "metadata": {},
   "outputs": [
    {
     "name": "stdout",
     "output_type": "stream",
     "text": [
      "My name is Zhanchao.\n",
      "I came from Geography department.\n",
      "I am living in NY state.\n",
      "My major is Geography.\n"
     ]
    }
   ],
   "source": [
    "# requirement must come first and optional come second\n",
    "def info(name, major, dept = 'geography', state = 'NY'):\n",
    "    print(f'My name is {name.title()}.')\n",
    "    print(f'I came from {dept.title()} department.')\n",
    "    print(f'I am living in {state} state.')\n",
    "    print(f'My major is {major.title()}.')\n",
    "info('Zhanchao', 'geography')"
   ]
  },
  {
   "cell_type": "code",
   "execution_count": 20,
   "id": "bd8c270b",
   "metadata": {},
   "outputs": [
    {
     "name": "stdout",
     "output_type": "stream",
     "text": [
      "My name is Zhanchao.\n",
      "I came from Geography department.\n",
      "I am living in CA state.\n",
      "My major is Geography.\n"
     ]
    }
   ],
   "source": [
    "def info(name, major, dept = 'geography', state = 'NY'):\n",
    "    print(f'My name is {name.title()}.')\n",
    "    print(f'I came from {dept.title()} department.')\n",
    "    print(f'I am living in {state} state.')\n",
    "    print(f'My major is {major.title()}.')\n",
    "info('Zhanchao', 'geography', state = 'CA')"
   ]
  },
  {
   "cell_type": "markdown",
   "id": "1cea0ab4",
   "metadata": {},
   "source": [
    "### Equivalent Function Calls\n",
    "\n",
    "Because positional arguments, keyword arguments, and default values can all be used together, often you’ll have several equivalent ways to call a function. Consider the following definition for describe_pet() with one default value provided:\n",
    "\n",
    "```\n",
    "def describe_pet(pet_name, animal_type='dog'):\n",
    "```\n",
    "\n",
    "With this definition, an argument always needs to be provided for pet_name, and this value can be provided using the positional or keyword format. If the animal being described is not a dog, an argument for animal_type must be included in the call, and this argument can also be specified using the positional or keyword format.\n",
    "\n",
    "All of the following calls would work for this function:"
   ]
  },
  {
   "cell_type": "code",
   "execution_count": 21,
   "id": "dd71a2ee",
   "metadata": {},
   "outputs": [
    {
     "name": "stdout",
     "output_type": "stream",
     "text": [
      "\n",
      "I have a dog.\n",
      "My dog's name is Willie.\n",
      "\n",
      "I have a dog.\n",
      "My dog's name is Willie.\n",
      "\n",
      "I have a hamster.\n",
      "My hamster's name is Harry.\n",
      "\n",
      "I have a hamster.\n",
      "My hamster's name is Harry.\n",
      "\n",
      "I have a hamster.\n",
      "My hamster's name is Harry.\n"
     ]
    }
   ],
   "source": [
    "# A dog named Willie.\n",
    "describe_pet('willie')\n",
    "describe_pet(pet_name='willie')\n",
    "\n",
    "# A hamster named Harry.\n",
    "describe_pet('harry', 'hamster')\n",
    "describe_pet(pet_name='harry', animal_type='hamster')\n",
    "describe_pet(animal_type='hamster', pet_name='harry')"
   ]
  },
  {
   "cell_type": "markdown",
   "id": "3d3c72bb",
   "metadata": {},
   "source": [
    "### RETURN VALUES <a class='anchor' id='return-values'></a>\n",
    "\n",
    "A function doesn’t always have to display its output directly. Instead, it can process some data and then return a value or set of values. The value the function returns is called a return value. The return statement takes a value from inside a function and sends it back to the line that called the function. Return values allow you to move much of your program’s grunt work into functions, which can simplify the body of your program.\n",
    "\n",
    "### Returning a Simple Value\n",
    "\n",
    "Let’s look at a function that takes a first and last name, and returns a neatly formatted full name:"
   ]
  },
  {
   "cell_type": "code",
   "execution_count": 24,
   "id": "581bbd5c",
   "metadata": {},
   "outputs": [
    {
     "name": "stdout",
     "output_type": "stream",
     "text": [
      "Jimi Hendrix\n"
     ]
    }
   ],
   "source": [
    "def get_formatted_name(first_name, last_name):\n",
    "    \"\"\"Return a full name, neatly formatted.\"\"\"\n",
    "    full_name = f\"{first_name} {last_name}\"\n",
    "    return full_name.title()\n",
    "\n",
    "# Return must be the last line of code in the function. \n",
    "# Any codes after return will not be executed.\n",
    "\n",
    "musician = get_formatted_name('jimi', 'hendrix')\n",
    "print(musician)"
   ]
  },
  {
   "cell_type": "code",
   "execution_count": 23,
   "id": "bb9060b7",
   "metadata": {},
   "outputs": [
    {
     "name": "stdout",
     "output_type": "stream",
     "text": [
      "None\n"
     ]
    }
   ],
   "source": [
    "def get_formatted_name(first_name, last_name):\n",
    "    \"\"\"Return a full name, neatly formatted.\"\"\"\n",
    "    full_name = f\"{first_name} {last_name}\"\n",
    "    \n",
    "# if there is no return within the function. There will be nothing left\n",
    "# and cannot be assigned into a variable\n",
    "\n",
    "musician = get_formatted_name('jimi', 'hendrix')\n",
    "print(musician)"
   ]
  },
  {
   "cell_type": "code",
   "execution_count": 27,
   "id": "aa0c208b",
   "metadata": {},
   "outputs": [
    {
     "ename": "NameError",
     "evalue": "name 'first_name' is not defined",
     "output_type": "error",
     "traceback": [
      "\u001b[1;31m---------------------------------------------------------------------------\u001b[0m",
      "\u001b[1;31mNameError\u001b[0m                                 Traceback (most recent call last)",
      "Cell \u001b[1;32mIn[27], line 6\u001b[0m\n\u001b[0;32m      2\u001b[0m \u001b[38;5;124;03m'''\u001b[39;00m\n\u001b[0;32m      3\u001b[0m \u001b[38;5;124;03mdef get_formatted_name(first_name, last_name)\u001b[39;00m\n\u001b[0;32m      4\u001b[0m \u001b[38;5;124;03m'''\u001b[39;00m\n\u001b[0;32m      5\u001b[0m \u001b[38;5;66;03m# after that, there will be no value within the varible\u001b[39;00m\n\u001b[1;32m----> 6\u001b[0m \u001b[43mfirst_name\u001b[49m\n",
      "\u001b[1;31mNameError\u001b[0m: name 'first_name' is not defined"
     ]
    }
   ],
   "source": [
    "# variable defined within the function, is only alive in the function\n",
    "'''\n",
    "def get_formatted_name(first_name, last_name)\n",
    "'''\n",
    "# after that, there will be no value within the varible\n",
    "first_name"
   ]
  },
  {
   "cell_type": "code",
   "execution_count": 29,
   "id": "7e1d50a7",
   "metadata": {},
   "outputs": [
    {
     "name": "stdout",
     "output_type": "stream",
     "text": [
      "Jimi Brown\n"
     ]
    },
    {
     "ename": "NameError",
     "evalue": "name 'last_name' is not defined",
     "output_type": "error",
     "traceback": [
      "\u001b[1;31m---------------------------------------------------------------------------\u001b[0m",
      "\u001b[1;31mNameError\u001b[0m                                 Traceback (most recent call last)",
      "Cell \u001b[1;32mIn[29], line 8\u001b[0m\n\u001b[0;32m      6\u001b[0m musician \u001b[38;5;241m=\u001b[39m get_formatted_name(\u001b[38;5;124m'\u001b[39m\u001b[38;5;124mjimi\u001b[39m\u001b[38;5;124m'\u001b[39m)\n\u001b[0;32m      7\u001b[0m \u001b[38;5;28mprint\u001b[39m(musician)\n\u001b[1;32m----> 8\u001b[0m \u001b[43mlast_name\u001b[49m\n",
      "\u001b[1;31mNameError\u001b[0m: name 'last_name' is not defined"
     ]
    }
   ],
   "source": [
    "# even if the default value, all the value is within the function\n",
    "#the data destory after you run the function\n",
    "def get_formatted_name(first_name, last_name = 'brown'):\n",
    "    \"\"\"Return a full name, neatly formatted.\"\"\"\n",
    "    full_name = f\"{first_name} {last_name}\"\n",
    "    return full_name.title()\n",
    "musician = get_formatted_name('jimi')\n",
    "print(musician)\n",
    "last_name"
   ]
  },
  {
   "cell_type": "markdown",
   "id": "e74e9d1c",
   "metadata": {},
   "source": [
    "# function error\n",
    "Function may have error. The fact is when you try to define a function.\n",
    "Only the code\n",
    "```\n",
    "def human(a,b)\n",
    "```\n",
    "have been check by python. All the other information haven't be checked, it will only be checked after the function is called out example"
   ]
  },
  {
   "cell_type": "code",
   "execution_count": 30,
   "id": "319f70d1",
   "metadata": {},
   "outputs": [],
   "source": [
    "def get_formatted_name(first_name, last_name = 'brown'):\n",
    "    \n",
    "    a=b\n",
    "    full_name = f\"{first_name} {last_name}\"\n",
    "    return full_name.title()\n",
    "# no error found, even a and b are not defined"
   ]
  },
  {
   "cell_type": "code",
   "execution_count": 31,
   "id": "43fc9a20",
   "metadata": {},
   "outputs": [
    {
     "ename": "NameError",
     "evalue": "name 'b' is not defined",
     "output_type": "error",
     "traceback": [
      "\u001b[1;31m---------------------------------------------------------------------------\u001b[0m",
      "\u001b[1;31mNameError\u001b[0m                                 Traceback (most recent call last)",
      "Cell \u001b[1;32mIn[31], line 2\u001b[0m\n\u001b[0;32m      1\u001b[0m \u001b[38;5;66;03m#after called out, error appear\u001b[39;00m\n\u001b[1;32m----> 2\u001b[0m \u001b[43mget_formatted_name\u001b[49m\u001b[43m(\u001b[49m\u001b[38;5;124;43m'\u001b[39;49m\u001b[38;5;124;43mEmily\u001b[39;49m\u001b[38;5;124;43m'\u001b[39;49m\u001b[43m)\u001b[49m\n",
      "Cell \u001b[1;32mIn[30], line 3\u001b[0m, in \u001b[0;36mget_formatted_name\u001b[1;34m(first_name, last_name)\u001b[0m\n\u001b[0;32m      1\u001b[0m \u001b[38;5;28;01mdef\u001b[39;00m \u001b[38;5;21mget_formatted_name\u001b[39m(first_name, last_name \u001b[38;5;241m=\u001b[39m \u001b[38;5;124m'\u001b[39m\u001b[38;5;124mbrown\u001b[39m\u001b[38;5;124m'\u001b[39m):\n\u001b[1;32m----> 3\u001b[0m     a\u001b[38;5;241m=\u001b[39m\u001b[43mb\u001b[49m\n\u001b[0;32m      4\u001b[0m     full_name \u001b[38;5;241m=\u001b[39m \u001b[38;5;124mf\u001b[39m\u001b[38;5;124m\"\u001b[39m\u001b[38;5;132;01m{\u001b[39;00mfirst_name\u001b[38;5;132;01m}\u001b[39;00m\u001b[38;5;124m \u001b[39m\u001b[38;5;132;01m{\u001b[39;00mlast_name\u001b[38;5;132;01m}\u001b[39;00m\u001b[38;5;124m\"\u001b[39m\n\u001b[0;32m      5\u001b[0m     \u001b[38;5;28;01mreturn\u001b[39;00m full_name\u001b[38;5;241m.\u001b[39mtitle()\n",
      "\u001b[1;31mNameError\u001b[0m: name 'b' is not defined"
     ]
    }
   ],
   "source": [
    "#after called out, error appear\n",
    "get_formatted_name('Emily')"
   ]
  },
  {
   "cell_type": "markdown",
   "id": "55f61d0f",
   "metadata": {},
   "source": [
    "### Making an Argument Optional\n",
    "\n",
    "Sometimes it makes sense to make an argument optional so that people using the function can choose to provide extra information only if they want to. You can use default values to make an argument optional.\n"
   ]
  },
  {
   "cell_type": "code",
   "execution_count": 32,
   "id": "d5140649",
   "metadata": {},
   "outputs": [
    {
     "name": "stdout",
     "output_type": "stream",
     "text": [
      "Jimi Hendrix\n",
      "John Lee Hooker\n"
     ]
    }
   ],
   "source": [
    "def get_formatted_name(first_name, last_name, middle_name=''):\n",
    "    \"\"\"Return a full name, neatly formatted.\"\"\"\n",
    "    if middle_name:\n",
    "        full_name = f\"{first_name} {middle_name} {last_name}\"\n",
    "    else:\n",
    "        full_name = f\"{first_name} {last_name}\"\n",
    "    return full_name.title()\n",
    "\n",
    "musician = get_formatted_name('jimi', 'hendrix')\n",
    "print(musician)\n",
    "\n",
    "musician = get_formatted_name('john', 'hooker', 'lee')\n",
    "print(musician)"
   ]
  },
  {
   "cell_type": "markdown",
   "id": "1efc5a3d",
   "metadata": {},
   "source": [
    "### Returning a Dictionary\n",
    "\n",
    "A function can return any kind of value you need it to, including more complicated data structures like lists and dictionaries. For example, the following function takes in parts of a name and returns a dictionary representing a person:"
   ]
  },
  {
   "cell_type": "code",
   "execution_count": 33,
   "id": "5431eb9c",
   "metadata": {},
   "outputs": [
    {
     "name": "stdout",
     "output_type": "stream",
     "text": [
      "{'first': 'jimi', 'last': 'hendrix'}\n"
     ]
    }
   ],
   "source": [
    "def build_person(first_name, last_name):\n",
    "    \"\"\"Return a dictionary of information about a person.\"\"\"\n",
    "    person = {'first': first_name, 'last': last_name}\n",
    "    return person\n",
    "\n",
    "musician = build_person('jimi', 'hendrix')\n",
    "print(musician)"
   ]
  },
  {
   "cell_type": "markdown",
   "id": "43b94eb2",
   "metadata": {},
   "source": [
    "### Using a Function with a while Loop\n",
    "\n",
    "You can use functions with all the Python structures you’ve learned about so far. For example, let’s use the get_formatted_name() function with a while loop to greet users more formally. Here’s a first attempt at greeting people using their first and last names:"
   ]
  },
  {
   "cell_type": "code",
   "execution_count": 1,
   "id": "d53fdb5e",
   "metadata": {},
   "outputs": [
    {
     "name": "stdout",
     "output_type": "stream",
     "text": [
      "\n",
      "Please tell me your name:\n",
      "(enter 'q' at any time to quit)\n",
      "First name: zhanchao\n",
      "Last name: yang\n",
      "\n",
      "Hello, Zhanchao Yang!\n",
      "\n",
      "Please tell me your name:\n",
      "(enter 'q' at any time to quit)\n",
      "First name: q\n"
     ]
    }
   ],
   "source": [
    "def get_formatted_name(first_name, last_name):\n",
    "    \"\"\"Return a full name, neatly formatted.\"\"\"\n",
    "    full_name = f\"{first_name} {last_name}\"\n",
    "    return full_name.title()\n",
    "\n",
    "# This is an infinite loop!\n",
    "while True:\n",
    "    print(\"\\nPlease tell me your name:\")\n",
    "    print(\"(enter 'q' at any time to quit)\")\n",
    "\n",
    "    f_name = input(\"First name: \")\n",
    "    if f_name == 'q':\n",
    "        break\n",
    "\n",
    "    l_name = input(\"Last name: \")\n",
    "    if l_name == 'q':\n",
    "        break\n",
    "\n",
    "    formatted_name = get_formatted_name(f_name, l_name)\n",
    "    print(f\"\\nHello, {formatted_name}!\")"
   ]
  },
  {
   "cell_type": "markdown",
   "id": "75c120f9",
   "metadata": {},
   "source": [
    "### PASSING A LIST <a class='anchor' id='passing-a-list'></a>\n",
    "\n",
    "You’ll often find it useful to pass a list to a function, whether it’s a list of names, numbers, or more complex objects, such as dictionaries. When you pass a list to a function, the function gets direct access to the contents of the list. Let’s use functions to make working with lists more efficient.\n",
    "\n",
    "Say we have a list of users and want to print a greeting to each. The following example sends a list of names to a function called greet_users(), which greets each person in the list individually:"
   ]
  },
  {
   "cell_type": "code",
   "execution_count": 2,
   "id": "9c4d0bd2",
   "metadata": {},
   "outputs": [
    {
     "name": "stdout",
     "output_type": "stream",
     "text": [
      "Hello, Hannah!\n",
      "Hello, Ty!\n",
      "Hello, Margot!\n"
     ]
    }
   ],
   "source": [
    "def greet_users(names):\n",
    "    \"\"\"Print a simple greeting to each user in the list.\"\"\"\n",
    "    for name in names:\n",
    "        msg = f\"Hello, {name.title()}!\"\n",
    "        print(msg)\n",
    "\n",
    "usernames = ['hannah', 'ty', 'margot']\n",
    "greet_users(usernames)"
   ]
  },
  {
   "cell_type": "code",
   "execution_count": 3,
   "id": "a85d685a",
   "metadata": {},
   "outputs": [
    {
     "data": {
      "text/plain": [
       "['mathew erin', 'chenhua']"
      ]
     },
     "execution_count": 3,
     "metadata": {},
     "output_type": "execute_result"
    }
   ],
   "source": [
    "def select_student(names):\n",
    "    result = []\n",
    "    for name in names:\n",
    "        if len(name) >= 6:\n",
    "            result.append(name)\n",
    "    return result\n",
    "student= ['eric', 'mathew erin', 'chenhua']\n",
    "select_student(student)"
   ]
  },
  {
   "cell_type": "code",
   "execution_count": 4,
   "id": "fe36db6e",
   "metadata": {},
   "outputs": [
    {
     "data": {
      "text/plain": [
       "['kkkkkk', 'shjidjdijn', 'hgdsiua']"
      ]
     },
     "execution_count": 4,
     "metadata": {},
     "output_type": "execute_result"
    }
   ],
   "source": [
    "select_student(['kkkkkk', 'shjidjdijn', 'hgdsiua'])"
   ]
  },
  {
   "cell_type": "markdown",
   "id": "e933ddd1",
   "metadata": {},
   "source": [
    "### Using Arbitrary Keyword Arguments\n",
    "\n",
    "Sometimes you’ll want to accept an arbitrary number of arguments, but you won’t know ahead of time what kind of information will be passed to the function. In this case, you can write functions that accept as many key-value pairs as the calling statement provides. One example involves building user profiles: you know you’ll get information about a user, but you’re not sure what kind of information you’ll receive. The function build_profile() in the following example always takes in a first and last name, but it accepts an arbitrary number of keyword arguments as well:"
   ]
  },
  {
   "cell_type": "code",
   "execution_count": 5,
   "id": "f35ac752",
   "metadata": {},
   "outputs": [
    {
     "name": "stdout",
     "output_type": "stream",
     "text": [
      "{'location': 'princeton', 'field': 'physics', 'first_name': 'albert', 'last_name': 'einstein'}\n"
     ]
    }
   ],
   "source": [
    "def build_profile(first, last, **user_info): # '** means a dictionary, that you can put as many argument as you want\n",
    "    \"\"\"Build a dictionary containing everything we know about a user.\"\"\"\n",
    "    user_info['first_name'] = first\n",
    "    user_info['last_name'] = last\n",
    "    return user_info #return a dictionary\n",
    "\n",
    "user_profile = build_profile('albert', 'einstein',\n",
    "                             location='princeton',\n",
    "                             field='physics')\n",
    "print(user_profile)"
   ]
  },
  {
   "cell_type": "code",
   "execution_count": 6,
   "id": "bea4e356",
   "metadata": {},
   "outputs": [
    {
     "name": "stdout",
     "output_type": "stream",
     "text": [
      "{'location': 'princeton', 'field': 'physics', 'department': 'geography', 'major': 'gis', 'first_name': 'albert', 'last_name': 'einstein'}\n"
     ]
    }
   ],
   "source": [
    "def build_profile(first, last, **user_info):# more flexibale\n",
    "    \"\"\"Build a dictionary containing everything we know about a user.\"\"\"\n",
    "    user_info['first_name'] = first\n",
    "    user_info['last_name'] = last\n",
    "    return user_info\n",
    "\n",
    "user_profile = build_profile('albert', 'einstein',\n",
    "                             location='princeton',\n",
    "                             field='physics',\n",
    "                            department='geography',\n",
    "                            major= 'gis')\n",
    "print(user_profile)"
   ]
  },
  {
   "cell_type": "code",
   "execution_count": 8,
   "id": "4b9932dd",
   "metadata": {},
   "outputs": [
    {
     "name": "stdout",
     "output_type": "stream",
     "text": [
      "{'department': 'geography', 'location': 'princeton', 'field': 'physics', 'major': 'gis', 'first_name': 'albert', 'last_name': 'einstein'}\n"
     ]
    }
   ],
   "source": [
    "def build_profile(first, last, dept ='geography', **kwargs):# more flexibale\n",
    "    \"\"\"Build a dictionary containing everything we know about a user.\"\"\"\n",
    "    kwargs['first_name'] = first\n",
    "    kwargs['last_name'] = last\n",
    "    return kwargs\n",
    "\n",
    "user_profile = build_profile('albert', 'einstein',\n",
    "                             department='geography',\n",
    "                             location='princeton',\n",
    "                             field='physics',\n",
    "                            major= 'gis')\n",
    "print(user_profile)"
   ]
  },
  {
   "cell_type": "code",
   "execution_count": 9,
   "id": "586d1bff",
   "metadata": {},
   "outputs": [
    {
     "name": "stdout",
     "output_type": "stream",
     "text": [
      "{'department': 'geography', 'location': 'princeton', 'field': 'physics', 'major': 'gis'}\n",
      "{'department': 'geography', 'location': 'princeton', 'field': 'physics', 'major': 'gis', 'first_name': 'albert', 'last_name': 'einstein'}\n"
     ]
    }
   ],
   "source": [
    "def build_profile(first, last, dept ='geography', **kwargs):# more flexibale\n",
    "    \"\"\"Build a dictionary containing everything we know about a user.\"\"\"\n",
    "    print(kwargs)\n",
    "    kwargs['first_name'] = first\n",
    "    kwargs['last_name'] = last\n",
    "    return kwargs\n",
    "\n",
    "user_profile = build_profile('albert', 'einstein',\n",
    "                             department='geography',\n",
    "                             location='princeton',\n",
    "                             field='physics',\n",
    "                            major= 'gis')\n",
    "print(user_profile)"
   ]
  },
  {
   "cell_type": "markdown",
   "id": "697e5248",
   "metadata": {},
   "source": [
    "# Finish"
   ]
  },
  {
   "cell_type": "markdown",
   "id": "ff2e52b3",
   "metadata": {},
   "source": [
    "## References\n",
    "\n",
    "-   Matthes, Eric (2022). _Python Crash Course, 3rd Edition: A Hands-On, Project-Based Introduction to Programming_. No Starch Press. ISBN: 978-1593279288. ([Publisher website](https://nostarch.com/python-crash-course-3rd-edition))\n",
    "- Dr.Qiusheng Wu online lecture"
   ]
  }
 ],
 "metadata": {
  "kernelspec": {
   "display_name": "Python 3 (ipykernel)",
   "language": "python",
   "name": "python3"
  },
  "language_info": {
   "codemirror_mode": {
    "name": "ipython",
    "version": 3
   },
   "file_extension": ".py",
   "mimetype": "text/x-python",
   "name": "python",
   "nbconvert_exporter": "python",
   "pygments_lexer": "ipython3",
   "version": "3.9.16"
  }
 },
 "nbformat": 4,
 "nbformat_minor": 5
}
