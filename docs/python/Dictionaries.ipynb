{
 "cells": [
  {
   "attachments": {},
   "cell_type": "markdown",
   "id": "dcdba5b5",
   "metadata": {},
   "source": [
    "[![image](https://colab.research.google.com/assets/colab-badge.svg)](https://colab.research.google.com/github/zyang91/GEOG-510/blob/main/python_code/Dictionaries.ipynb)"
   ]
  },
  {
   "cell_type": "markdown",
   "id": "35eed01c",
   "metadata": {},
   "source": [
    "# Coverts Tuple to List"
   ]
  },
  {
   "cell_type": "code",
   "execution_count": 1,
   "id": "58a06443",
   "metadata": {},
   "outputs": [
    {
     "data": {
      "text/plain": [
       "('hann', 'matt', 'Eriv')"
      ]
     },
     "execution_count": 1,
     "metadata": {},
     "output_type": "execute_result"
    }
   ],
   "source": [
    "test =('hann', 'matt', 'Eriv')\n",
    "test"
   ]
  },
  {
   "cell_type": "code",
   "execution_count": 3,
   "id": "36ee98ff",
   "metadata": {},
   "outputs": [
    {
     "data": {
      "text/plain": [
       "['hann', 'matt', 'Eriv']"
      ]
     },
     "execution_count": 3,
     "metadata": {},
     "output_type": "execute_result"
    }
   ],
   "source": [
    "tests= list(test)\n",
    "tests"
   ]
  },
  {
   "cell_type": "markdown",
   "id": "9cea5923",
   "metadata": {},
   "source": [
    "# Dictionaries\n",
    "\n",
    "In this lecture you’ll learn how to use Python’s dictionaries, which allow you to connect pieces of related information. You’ll learn how to access the information once it’s in a dictionary and how to modify that information. Because dictionaries can store an almost limitless amount of information, I’ll show you how to loop through the data in a dictionary. Additionally, you’ll learn to nest dictionaries inside lists, lists inside dictionaries, and even dictionaries inside other dictionaries.\n",
    "\n",
    "Understanding dictionaries allows you to model a variety of real-world objects more accurately. You’ll be able to create a dictionary representing a person and then store as much information as you want about that person. You can store their name, age, location, profession, and any other aspect of a person you can describe. You’ll be able to store any two kinds of information that can be matched up, such as a list of words and their meanings, a list of people’s names and their favorite numbers, a list of mountains and their elevations, and so forth.\n",
    "\n",
    "\n",
    "## A SIMPLE DICTIONARY and Basic function"
   ]
  },
  {
   "cell_type": "markdown",
   "id": "73130002",
   "metadata": {},
   "source": [
    "### Example 1"
   ]
  },
  {
   "cell_type": "code",
   "execution_count": 6,
   "id": "af6f7d14",
   "metadata": {},
   "outputs": [],
   "source": [
    "students= {\n",
    "    'wyu':'faculty',\n",
    "    'zyang':'faculty',\n",
    "    'wma999':'student',\n",
    "    'lwill':'staff'\n",
    "}"
   ]
  },
  {
   "cell_type": "code",
   "execution_count": 5,
   "id": "63156bf0",
   "metadata": {},
   "outputs": [
    {
     "data": {
      "text/plain": [
       "'faculty'"
      ]
     },
     "execution_count": 5,
     "metadata": {},
     "output_type": "execute_result"
    }
   ],
   "source": [
    "students['wyu']"
   ]
  },
  {
   "cell_type": "code",
   "execution_count": 6,
   "id": "31118e39",
   "metadata": {},
   "outputs": [
    {
     "data": {
      "text/plain": [
       "'student'"
      ]
     },
     "execution_count": 6,
     "metadata": {},
     "output_type": "execute_result"
    }
   ],
   "source": [
    "students['wma999']"
   ]
  },
  {
   "cell_type": "code",
   "execution_count": 7,
   "id": "d4e8b891",
   "metadata": {},
   "outputs": [
    {
     "data": {
      "text/plain": [
       "{'wyu': 'faculty', 'zyang': 'student', 'wma999': 'student', 'lwill': 'staff'}"
      ]
     },
     "execution_count": 7,
     "metadata": {},
     "output_type": "execute_result"
    }
   ],
   "source": [
    "students['zyang']= 'student' #make changes\n",
    "students"
   ]
  },
  {
   "cell_type": "code",
   "execution_count": 8,
   "id": "2ec24342",
   "metadata": {},
   "outputs": [
    {
     "data": {
      "text/plain": [
       "4"
      ]
     },
     "execution_count": 8,
     "metadata": {},
     "output_type": "execute_result"
    }
   ],
   "source": [
    "# looking for how many item within the list\n",
    "len(students) "
   ]
  },
  {
   "cell_type": "code",
   "execution_count": 9,
   "id": "ddc32041",
   "metadata": {
    "scrolled": true
   },
   "outputs": [
    {
     "data": {
      "text/plain": [
       "{'wyu': 'faculty',\n",
       " 'zyang': 'student',\n",
       " 'wma999': 'student',\n",
       " 'lwill': 'staff',\n",
       " 'luke45': 'student'}"
      ]
     },
     "execution_count": 9,
     "metadata": {},
     "output_type": "execute_result"
    }
   ],
   "source": [
    "#added new item in the list\n",
    "students['luke45']= 'student' \n",
    "students"
   ]
  },
  {
   "cell_type": "code",
   "execution_count": 11,
   "id": "731d8355",
   "metadata": {},
   "outputs": [
    {
     "data": {
      "text/plain": [
       "{'wyu': 'faculty', 'zyang': 'student', 'lwill': 'staff', 'luke45': 'student'}"
      ]
     },
     "execution_count": 11,
     "metadata": {},
     "output_type": "execute_result"
    }
   ],
   "source": [
    "#delete an item from the list\n",
    "del students['wma999']\n",
    "students"
   ]
  },
  {
   "cell_type": "code",
   "execution_count": 12,
   "id": "d18b558d",
   "metadata": {},
   "outputs": [
    {
     "data": {
      "text/plain": [
       "dict_keys(['wyu', 'zyang', 'lwill', 'luke45'])"
      ]
     },
     "execution_count": 12,
     "metadata": {},
     "output_type": "execute_result"
    }
   ],
   "source": [
    "# looking for key item in the dictionaries\n",
    "students.keys()"
   ]
  },
  {
   "cell_type": "code",
   "execution_count": 13,
   "id": "a189bc45",
   "metadata": {},
   "outputs": [
    {
     "data": {
      "text/plain": [
       "dict_values(['faculty', 'student', 'staff', 'student'])"
      ]
     },
     "execution_count": 13,
     "metadata": {},
     "output_type": "execute_result"
    }
   ],
   "source": [
    "# looking for values \n",
    "students.values()"
   ]
  },
  {
   "cell_type": "code",
   "execution_count": 14,
   "id": "4b0ca2ba",
   "metadata": {},
   "outputs": [
    {
     "data": {
      "text/plain": [
       "dict_items([('wyu', 'faculty'), ('zyang', 'student'), ('lwill', 'staff'), ('luke45', 'student')])"
      ]
     },
     "execution_count": 14,
     "metadata": {},
     "output_type": "execute_result"
    }
   ],
   "source": [
    "# looking for key and correspond values, return as a list\n",
    "students.items()"
   ]
  },
  {
   "cell_type": "code",
   "execution_count": 16,
   "id": "3f2a876a",
   "metadata": {},
   "outputs": [
    {
     "data": {
      "text/plain": [
       "{'wyu': 'Faculty', 'zyang': 'Student', 'lwill': 'Staff', 'luke45': 'Student'}"
      ]
     },
     "execution_count": 16,
     "metadata": {},
     "output_type": "execute_result"
    }
   ],
   "source": [
    "for student in students.keys():\n",
    "    students[student]=students[student].title()\n",
    "students"
   ]
  },
  {
   "cell_type": "code",
   "execution_count": 17,
   "id": "46d259d2",
   "metadata": {},
   "outputs": [
    {
     "data": {
      "text/plain": [
       "{'wyu': 'Faculty', 'zyang': 'Student', 'lwill': 'Staff', 'luke45': 'Student'}"
      ]
     },
     "execution_count": 17,
     "metadata": {},
     "output_type": "execute_result"
    }
   ],
   "source": [
    "for student in students: #looping through the key\n",
    "    students[student]=students[student].title()\n",
    "students"
   ]
  },
  {
   "cell_type": "code",
   "execution_count": 22,
   "id": "d3aa21e3",
   "metadata": {},
   "outputs": [],
   "source": [
    "students= {\n",
    "    'wyu':'faculty',\n",
    "    'zyang':'faculty',\n",
    "    'wma999':'student',\n",
    "    'lwill':'staff'\n",
    "}"
   ]
  },
  {
   "cell_type": "code",
   "execution_count": 21,
   "id": "40714c0e",
   "metadata": {},
   "outputs": [
    {
     "data": {
      "text/plain": [
       "{'wyu': 'Binghamton Binghamtonfaculty',\n",
       " 'zyang': 'Binghamton Binghamtonstudent',\n",
       " 'lwill': 'Binghamton Binghamtonstaff',\n",
       " 'luke45': 'Binghamton Binghamtonstudent'}"
      ]
     },
     "execution_count": 21,
     "metadata": {},
     "output_type": "execute_result"
    }
   ],
   "source": [
    "for key, value in students.items():\n",
    "    students[key]= value.title()\n",
    "students"
   ]
  },
  {
   "cell_type": "code",
   "execution_count": 23,
   "id": "ad7476b9",
   "metadata": {},
   "outputs": [
    {
     "data": {
      "text/plain": [
       "{'wyu': 'Binghamton Faculty',\n",
       " 'zyang': 'Binghamton Faculty',\n",
       " 'wma999': 'Binghamton Student',\n",
       " 'lwill': 'Binghamton Staff'}"
      ]
     },
     "execution_count": 23,
     "metadata": {},
     "output_type": "execute_result"
    }
   ],
   "source": [
    "for key, value in students.items():\n",
    "     students[key]= \"Binghamton \" + value.title()\n",
    "students"
   ]
  },
  {
   "cell_type": "code",
   "execution_count": 25,
   "id": "64aa1ce4",
   "metadata": {},
   "outputs": [],
   "source": [
    "employees = {}"
   ]
  },
  {
   "cell_type": "code",
   "execution_count": 26,
   "id": "09837728",
   "metadata": {
    "scrolled": true
   },
   "outputs": [
    {
     "data": {
      "text/plain": [
       "{'zyang99': 'staff'}"
      ]
     },
     "execution_count": 26,
     "metadata": {},
     "output_type": "execute_result"
    }
   ],
   "source": [
    "employees['zyang99']='staff'\n",
    "employees"
   ]
  },
  {
   "cell_type": "markdown",
   "id": "cb09795e",
   "metadata": {},
   "source": [
    "### Example 2"
   ]
  },
  {
   "cell_type": "code",
   "execution_count": 1,
   "id": "03c5310c",
   "metadata": {},
   "outputs": [
    {
     "data": {
      "text/plain": [
       "{'chen': 3.8, 'liu': 3.7, 'Eric': 4, 'Wan': 4.0}"
      ]
     },
     "execution_count": 1,
     "metadata": {},
     "output_type": "execute_result"
    }
   ],
   "source": [
    "gpa = {\n",
    "    'chen':3.8, \n",
    "    'liu': 3.7, \n",
    "    'Eric':4,\n",
    "    'Wan':4.0\n",
    "}\n",
    "gpa"
   ]
  },
  {
   "cell_type": "code",
   "execution_count": 4,
   "id": "d947a5b7",
   "metadata": {},
   "outputs": [
    {
     "data": {
      "text/plain": [
       "3.7"
      ]
     },
     "execution_count": 4,
     "metadata": {},
     "output_type": "execute_result"
    }
   ],
   "source": [
    "gpa['liu']"
   ]
  },
  {
   "cell_type": "markdown",
   "id": "ea2d4b78",
   "metadata": {},
   "source": [
    "### Example 3"
   ]
  },
  {
   "cell_type": "code",
   "execution_count": 27,
   "id": "d6b0fb9b",
   "metadata": {},
   "outputs": [
    {
     "name": "stdout",
     "output_type": "stream",
     "text": [
      "Original position: 0\n",
      "New position: 2\n"
     ]
    }
   ],
   "source": [
    "alien_0 = {'x_position': 0, 'y_position': 25, 'speed': 'medium'}\n",
    "print(f\"Original position: {alien_0['x_position']}\")\n",
    "\n",
    "# Move the alien to the right.\n",
    "# Determine how far to move the alien based on its current speed.\n",
    "if alien_0['speed'] == 'slow':\n",
    "    x_increment = 1\n",
    "elif alien_0['speed'] == 'medium':\n",
    "    x_increment = 2\n",
    "else:\n",
    "    # This must be a fast alien.\n",
    "    x_increment = 3\n",
    "\n",
    "# The new position is the old position plus the increment.\n",
    "alien_0['x_position'] = alien_0['x_position'] + x_increment\n",
    "\n",
    "print(f\"New position: {alien_0['x_position']}\")"
   ]
  },
  {
   "cell_type": "markdown",
   "id": "63242100",
   "metadata": {},
   "source": [
    "## LOOPING THROUGH A DICTIONARY\n",
    "\n",
    "A single Python dictionary can contain just a few key-value pairs or millions of pairs. Because a dictionary can contain large amounts of data, Python lets you loop through a dictionary. Dictionaries can be used to store information in a variety of ways; therefore, several different ways exist to loop through them. You can loop through all of a dictionary’s key-value pairs, through its keys, or through its values.\n",
    "\n",
    "### Looping Through All Key-Value Pairs\n",
    "\n",
    "Before we explore the different approaches to looping, let’s consider a new dictionary designed to store information about a user on a website. The following dictionary would store one person’s username, first name, and last name:"
   ]
  },
  {
   "cell_type": "code",
   "execution_count": 28,
   "id": "bb06a1db",
   "metadata": {},
   "outputs": [
    {
     "name": "stdout",
     "output_type": "stream",
     "text": [
      "\n",
      "Key: username\n",
      "Value: efermi\n",
      "\n",
      "Key: first\n",
      "Value: enrico\n",
      "\n",
      "Key: last\n",
      "Value: fermi\n"
     ]
    }
   ],
   "source": [
    "user_0 = {\n",
    "    'username': 'efermi',\n",
    "    'first': 'enrico',\n",
    "    'last': 'fermi',\n",
    "    }\n",
    "\n",
    "for key, value in user_0.items():\n",
    "    print(f\"\\nKey: {key}\")\n",
    "    print(f\"Value: {value}\")"
   ]
  },
  {
   "cell_type": "markdown",
   "id": "4ed80aa1",
   "metadata": {},
   "source": [
    "As shown above, to write a for loop for a dictionary, you create names for the two variables that will hold the key and value in each key-value pair. You can choose any names you want for these two variables. This code would work just as well if you had used abbreviations for the variable names, like this:\n",
    "\n",
    "`for k, v in user_0.items()`\n",
    "\n",
    "### Looping Through All the Keys in a Dictionary\n",
    "\n",
    "The keys() method is useful when you don’t need to work with all of the values in a dictionary. Let’s loop through the favorite_languages dictionary and print the names of everyone who took the poll:"
   ]
  },
  {
   "cell_type": "code",
   "execution_count": 29,
   "id": "34fd07e5",
   "metadata": {},
   "outputs": [
    {
     "name": "stdout",
     "output_type": "stream",
     "text": [
      "Jen\n",
      "Sarah\n",
      "Edward\n",
      "Phil\n"
     ]
    }
   ],
   "source": [
    "favorite_languages = {\n",
    "    'jen': 'python',\n",
    "    'sarah': 'c',\n",
    "    'edward': 'ruby',\n",
    "    'phil': 'python',\n",
    "    }\n",
    "\n",
    "for name in favorite_languages.keys():\n",
    "    print(name.title())"
   ]
  },
  {
   "cell_type": "code",
   "execution_count": 30,
   "id": "5eaaf920",
   "metadata": {},
   "outputs": [
    {
     "name": "stdout",
     "output_type": "stream",
     "text": [
      "Erin, please take our poll!\n"
     ]
    }
   ],
   "source": [
    "favorite_languages = {\n",
    "    'jen': 'python',\n",
    "    'sarah': 'c',\n",
    "    'edward': 'ruby',\n",
    "    'phil': 'python',\n",
    "    }\n",
    "\n",
    "if 'erin' not in favorite_languages.keys(): #same with list\n",
    "    print(\"Erin, please take our poll!\")"
   ]
  },
  {
   "cell_type": "markdown",
   "id": "0d22008e",
   "metadata": {},
   "source": [
    "### Looping Through a Dictionary’s Keys in a Particular Order\n",
    "\n",
    "Starting in Python 3.7, looping through a dictionary returns the items in the same order they were inserted. Sometimes, though, you’ll want to loop through a dictionary in a different order.\n",
    "\n",
    "One way to do this is to sort the keys as they’re returned in the for loop. You can use the sorted() function to get a copy of the keys in order:"
   ]
  },
  {
   "cell_type": "code",
   "execution_count": 31,
   "id": "b4c92d8b",
   "metadata": {},
   "outputs": [
    {
     "name": "stdout",
     "output_type": "stream",
     "text": [
      "Edward, thank you for taking the poll.\n",
      "Jen, thank you for taking the poll.\n",
      "Phil, thank you for taking the poll.\n",
      "Sarah, thank you for taking the poll.\n"
     ]
    }
   ],
   "source": [
    "favorite_languages = {\n",
    "    'jen': 'python',\n",
    "    'sarah': 'c',\n",
    "    'edward': 'ruby',\n",
    "    'phil': 'python',\n",
    "    }\n",
    "\n",
    "for name in sorted(favorite_languages):\n",
    "    print(f\"{name.title()}, thank you for taking the poll.\")"
   ]
  },
  {
   "cell_type": "markdown",
   "id": "0bd57c3c",
   "metadata": {},
   "source": [
    "### Looping Through All Values in a Dictionary\n",
    "\n",
    "If you are primarily interested in the values that a dictionary contains, you can use the values() method to return a list of values without any keys. For example, say we simply want a list of all languages chosen in our programming language poll without the name of the person who chose each language:"
   ]
  },
  {
   "cell_type": "code",
   "execution_count": 32,
   "id": "779ac564",
   "metadata": {},
   "outputs": [
    {
     "name": "stdout",
     "output_type": "stream",
     "text": [
      "The following languages have been mentioned:\n",
      "Python\n",
      "C\n",
      "Ruby\n",
      "Python\n"
     ]
    }
   ],
   "source": [
    "print(\"The following languages have been mentioned:\")\n",
    "for language in favorite_languages.values():\n",
    "    print(language.title())"
   ]
  },
  {
   "cell_type": "markdown",
   "id": "fa97e796",
   "metadata": {},
   "source": [
    "This approach pulls all the values from the dictionary without checking for repeats. That might work fine with a small number of values, but in a poll with a large number of respondents, this would result in a very repetitive list. To see each language chosen without repetition, we can use a set. A set is a collection in which each item must be unique:"
   ]
  },
  {
   "cell_type": "code",
   "execution_count": 34,
   "id": "093a88cd",
   "metadata": {},
   "outputs": [
    {
     "name": "stdout",
     "output_type": "stream",
     "text": [
      "The following languages have been mentioned:\n",
      "C\n",
      "Python\n",
      "Ruby\n"
     ]
    }
   ],
   "source": [
    "print(\"The following languages have been mentioned:\")\n",
    "for language in set(favorite_languages.values()):\n",
    "    print(language.title())"
   ]
  },
  {
   "cell_type": "markdown",
   "id": "2dafb4c3",
   "metadata": {},
   "source": [
    "When you wrap set() around a list that contains duplicate items, Python identifies the unique items in the list and builds a set from those items. We use set() to pull out the unique languages in favorite_languages.values().\n",
    "\n",
    "## NESTING\n",
    "\n",
    "Sometimes you’ll want to store multiple dictionaries in a list, or a list of items as a value in a dictionary. This is called nesting. You can nest dictionaries inside a list, a list of items inside a dictionary, or even a dictionary inside another dictionary. Nesting is a powerful feature, as the following examples will demonstrate.\n",
    "\n",
    "### A List of Dictionaries\n",
    "\n",
    "The alien_0 dictionary contains a variety of information about one alien, but it has no room to store information about a second alien, much less a screen full of aliens. How can you manage a fleet of aliens? One way is to make a list of aliens in which each alien is a dictionary of information about that alien. For example, the following code builds a list of three aliens:"
   ]
  },
  {
   "cell_type": "code",
   "execution_count": 47,
   "id": "131e3609",
   "metadata": {},
   "outputs": [
    {
     "name": "stdout",
     "output_type": "stream",
     "text": [
      "{'color': 'green', 'points': 5}\n",
      "{'color': 'yellow', 'points': 10}\n",
      "{'color': 'red', 'points': 15}\n"
     ]
    }
   ],
   "source": [
    "alien_0 = {'color': 'green', 'points': 5}\n",
    "alien_1 = {'color': 'yellow', 'points': 10}\n",
    "alien_2 = {'color': 'red', 'points': 15}\n",
    "\n",
    "aliens = [alien_0, alien_1, alien_2]\n",
    "\n",
    "for alien in aliens:\n",
    "    print(alien)"
   ]
  },
  {
   "cell_type": "code",
   "execution_count": 48,
   "id": "c9d4832a",
   "metadata": {
    "scrolled": true
   },
   "outputs": [
    {
     "name": "stdout",
     "output_type": "stream",
     "text": [
      "{'color': 'green', 'points': 5, 'speed': 'slow'}\n",
      "...\n",
      "{'color': 'green', 'points': 5, 'speed': 'slow'}\n",
      "...\n",
      "{'color': 'green', 'points': 5, 'speed': 'slow'}\n",
      "...\n",
      "{'color': 'green', 'points': 5, 'speed': 'slow'}\n",
      "...\n",
      "{'color': 'green', 'points': 5, 'speed': 'slow'}\n",
      "...\n",
      "Total number of aliens: 30\n"
     ]
    }
   ],
   "source": [
    "# Make an empty list for storing aliens.\n",
    "aliens = []\n",
    "\n",
    "# Make 30 green aliens.\n",
    "for alien_number in range(30):\n",
    "    new_alien = {'color': 'green', 'points': 5, 'speed': 'slow'}\n",
    "    aliens.append(new_alien)\n",
    "# Show the first 5 aliens.\n",
    "for alien in aliens[:5]:\n",
    "    print(alien)\n",
    "    print(\"...\")\n",
    "\n",
    "# Show how many aliens have been created.\n",
    "print(f\"Total number of aliens: {len(aliens)}\")"
   ]
  },
  {
   "cell_type": "markdown",
   "id": "f8e53d98",
   "metadata": {},
   "source": [
    "It’s common to store a number of dictionaries in a list when each dictionary contains many kinds of information about one object. For example, you might create a dictionary for each user on a website. All of the dictionaries in the list should have an identical structure so you can loop through the list and work with each dictionary object in the same way.\n",
    "\n",
    "### A List in a Dictionary\n",
    "\n",
    "Rather than putting a dictionary inside a list, it’s sometimes useful to put a list inside a dictionary. For example, consider how you might describe a pizza that someone is ordering. If you were to use only a list, all you could really store is a list of the pizza’s toppings. With a dictionary, a list of toppings can be just one aspect of the pizza you’re describing.\n",
    "\n",
    "In the following example, two kinds of information are stored for each pizza: a type of crust and a list of toppings. The list of toppings is a value associated with the key 'toppings'. To use the items in the list, we give the name of the dictionary and the key 'toppings', as we would any value in the dictionary. Instead of returning a single value, we get a list of toppings:"
   ]
  },
  {
   "cell_type": "code",
   "execution_count": 49,
   "id": "fea105f1",
   "metadata": {
    "scrolled": false
   },
   "outputs": [
    {
     "name": "stdout",
     "output_type": "stream",
     "text": [
      "\n",
      "Jen's favorite languages are:\n",
      "\tP\n",
      "\tY\n",
      "\tT\n",
      "\tH\n",
      "\tO\n",
      "\tN\n",
      "\n",
      "Sarah's favorite languages are:\n",
      "\tC\n",
      "\n",
      "Edward's favorite languages are:\n",
      "\tR\n",
      "\tU\n",
      "\tB\n",
      "\tY\n",
      "\n",
      "Phil's favorite languages are:\n",
      "\tP\n",
      "\tY\n",
      "\tT\n",
      "\tH\n",
      "\tO\n",
      "\tN\n"
     ]
    }
   ],
   "source": [
    "avorite_languages = {\n",
    "    'jen': ['python', 'ruby'],\n",
    "    'sarah': ['c'],\n",
    "    'edward': ['ruby', 'go'],\n",
    "    'phil': ['python', 'haskell'],\n",
    "    }\n",
    "\n",
    "for name, languages in favorite_languages.items():\n",
    "    print(f\"\\n{name.title()}'s favorite languages are:\")\n",
    "    for language in languages:\n",
    "        print(f\"\\t{language.title()}\")"
   ]
  },
  {
   "cell_type": "markdown",
   "id": "36d5b000",
   "metadata": {},
   "source": [
    "### A Dictionary in a Dictionary\n",
    "\n",
    "You can nest a dictionary inside another dictionary, but your code can get complicated quickly when you do. For example, if you have several users for a website, each with a unique username, you can use the usernames as the keys in a dictionary. You can then store information about each user by using a dictionary as the value associated with their username. In the following listing, we store three pieces of information about each user: their first name, last name, and location. We’ll access this information by looping through the usernames and the dictionary of information associated with each username:"
   ]
  },
  {
   "cell_type": "code",
   "execution_count": 50,
   "id": "242277f2",
   "metadata": {
    "scrolled": true
   },
   "outputs": [
    {
     "name": "stdout",
     "output_type": "stream",
     "text": [
      "\n",
      "Username: aeinstein\n",
      "\tFull name: Albert Einstein\n",
      "\tLocation: Princeton\n",
      "\n",
      "Username: mcurie\n",
      "\tFull name: Marie Curie\n",
      "\tLocation: Paris\n"
     ]
    }
   ],
   "source": [
    "users = {\n",
    "    'aeinstein': {\n",
    "        'first': 'albert',\n",
    "        'last': 'einstein',\n",
    "        'location': 'princeton',\n",
    "        },\n",
    "\n",
    "    'mcurie': {\n",
    "        'first': 'marie',\n",
    "        'last': 'curie',\n",
    "        'location': 'paris',\n",
    "        },\n",
    "\n",
    "    }\n",
    "\n",
    "for username, user_info in users.items():\n",
    "    print(f\"\\nUsername: {username}\")\n",
    "    full_name = f\"{user_info['first']} {user_info['last']}\"\n",
    "    location = user_info['location']\n",
    "\n",
    "    print(f\"\\tFull name: {full_name.title()}\")\n",
    "    print(f\"\\tLocation: {location.title()}\")"
   ]
  },
  {
   "cell_type": "markdown",
   "id": "bba156e7",
   "metadata": {},
   "source": [
    "# Example 1 Continue"
   ]
  },
  {
   "cell_type": "code",
   "execution_count": 37,
   "id": "05946a0e",
   "metadata": {},
   "outputs": [
    {
     "data": {
      "text/plain": [
       "'Geography'"
      ]
     },
     "execution_count": 37,
     "metadata": {},
     "output_type": "execute_result"
    }
   ],
   "source": [
    "students= {\n",
    "    'wyu':{'name':'Wanh','type':'faculty','department':'Geography', 'age':18},\n",
    "    'zyang':'faculty',\n",
    "    'wma999':'student',\n",
    "    'lwill':'staff'\n",
    "}\n",
    "students['wyu']['department']"
   ]
  },
  {
   "cell_type": "code",
   "execution_count": 38,
   "id": "57d668dc",
   "metadata": {},
   "outputs": [
    {
     "ename": "TypeError",
     "evalue": "string indices must be integers",
     "output_type": "error",
     "traceback": [
      "\u001b[1;31m---------------------------------------------------------------------------\u001b[0m",
      "\u001b[1;31mTypeError\u001b[0m                                 Traceback (most recent call last)",
      "Cell \u001b[1;32mIn[38], line 1\u001b[0m\n\u001b[1;32m----> 1\u001b[0m \u001b[43mstudents\u001b[49m\u001b[43m[\u001b[49m\u001b[38;5;124;43m'\u001b[39;49m\u001b[38;5;124;43mzyang\u001b[39;49m\u001b[38;5;124;43m'\u001b[39;49m\u001b[43m]\u001b[49m\u001b[43m[\u001b[49m\u001b[38;5;124;43m'\u001b[39;49m\u001b[38;5;124;43mdepartment\u001b[39;49m\u001b[38;5;124;43m'\u001b[39;49m\u001b[43m]\u001b[49m\n",
      "\u001b[1;31mTypeError\u001b[0m: string indices must be integers"
     ]
    }
   ],
   "source": [
    "students['zyang']['department']"
   ]
  },
  {
   "cell_type": "code",
   "execution_count": 45,
   "id": "141fb415",
   "metadata": {},
   "outputs": [
    {
     "data": {
      "text/plain": [
       "'envi'"
      ]
     },
     "execution_count": 45,
     "metadata": {},
     "output_type": "execute_result"
    }
   ],
   "source": [
    "students= {\n",
    "    'wyu':{'name':'Wanh','type':'faculty','department':'Geography', 'age':18,\n",
    "           \"address\":{\n",
    "              'street': '4400 Parkway E',\n",
    "              'city':'Vestal',\n",
    "              'state':'NY',\n",
    "              'zip': 13850\n",
    "          }},\n",
    "    'zyang':['Zhanchao', 'student','envi', 19],\n",
    "    'wma999':'student',\n",
    "    'lwill':'staff'\n",
    "}\n",
    "students['zyang'][2]"
   ]
  },
  {
   "cell_type": "code",
   "execution_count": 46,
   "id": "9cd80f6e",
   "metadata": {},
   "outputs": [
    {
     "data": {
      "text/plain": [
       "13850"
      ]
     },
     "execution_count": 46,
     "metadata": {},
     "output_type": "execute_result"
    }
   ],
   "source": [
    "students= {\n",
    "    'wyu':{'name':'Wanh','type':'faculty','department':'Geography', 'age':18,\n",
    "           \"address\":{\n",
    "              'street': '4400 Parkway E',\n",
    "              'city':'Vestal',\n",
    "              'state':'NY',\n",
    "              'zip': 13850\n",
    "          }},\n",
    "    'zyang':['Zhanchao', 'student','envi', 19],\n",
    "    'wma999':'student',\n",
    "    'lwill':'staff'\n",
    "}\n",
    "students['wyu'][\"address\"]['zip']"
   ]
  },
  {
   "cell_type": "code",
   "execution_count": 54,
   "id": "85d3822c",
   "metadata": {
    "scrolled": true
   },
   "outputs": [
    {
     "ename": "KeyError",
     "evalue": "'Zip'",
     "output_type": "error",
     "traceback": [
      "\u001b[1;31m---------------------------------------------------------------------------\u001b[0m",
      "\u001b[1;31mKeyError\u001b[0m                                  Traceback (most recent call last)",
      "Cell \u001b[1;32mIn[54], line 2\u001b[0m\n\u001b[0;32m      1\u001b[0m \u001b[38;5;66;03m# case sensitive . if doesn't match it will run into error (case sensitive)\u001b[39;00m\n\u001b[1;32m----> 2\u001b[0m \u001b[43mstudents\u001b[49m\u001b[43m[\u001b[49m\u001b[38;5;124;43m'\u001b[39;49m\u001b[38;5;124;43mwyu\u001b[39;49m\u001b[38;5;124;43m'\u001b[39;49m\u001b[43m]\u001b[49m\u001b[43m[\u001b[49m\u001b[38;5;124;43m\"\u001b[39;49m\u001b[38;5;124;43maddress\u001b[39;49m\u001b[38;5;124;43m\"\u001b[39;49m\u001b[43m]\u001b[49m\u001b[43m[\u001b[49m\u001b[38;5;124;43m'\u001b[39;49m\u001b[38;5;124;43mZip\u001b[39;49m\u001b[38;5;124;43m'\u001b[39;49m\u001b[43m]\u001b[49m\n",
      "\u001b[1;31mKeyError\u001b[0m: 'Zip'"
     ]
    }
   ],
   "source": [
    "# case sensitive . if doesn't match it will run into error (case sensitive)\n",
    "students['wyu'][\"address\"]['Zip']"
   ]
  },
  {
   "cell_type": "code",
   "execution_count": 55,
   "id": "6dcde32f",
   "metadata": {},
   "outputs": [],
   "source": [
    "# 'get' function can avoid run into error, but it can be None\n",
    "students['wyu'][\"address\"].get('Zip')"
   ]
  },
  {
   "cell_type": "code",
   "execution_count": 53,
   "id": "c066d4ca",
   "metadata": {},
   "outputs": [
    {
     "data": {
      "text/plain": [
       "True"
      ]
     },
     "execution_count": 53,
     "metadata": {},
     "output_type": "execute_result"
    }
   ],
   "source": [
    "students['wyu'][\"address\"].get('Zip') is None"
   ]
  },
  {
   "cell_type": "code",
   "execution_count": 56,
   "id": "dd46165a",
   "metadata": {},
   "outputs": [
    {
     "data": {
      "text/plain": [
       "'This item does not exist in the database'"
      ]
     },
     "execution_count": 56,
     "metadata": {},
     "output_type": "execute_result"
    }
   ],
   "source": [
    "# allow  computer give users a message if not exisit\n",
    "students['wyu'][\"address\"].get('Zip', 'This item does not exist in the database')"
   ]
  },
  {
   "cell_type": "code",
   "execution_count": 57,
   "id": "5b11ca1f",
   "metadata": {},
   "outputs": [
    {
     "data": {
      "text/plain": [
       "13850"
      ]
     },
     "execution_count": 57,
     "metadata": {},
     "output_type": "execute_result"
    }
   ],
   "source": [
    "students['wyu'][\"address\"].get('zip', 'This item does not exist in the database')"
   ]
  },
  {
   "cell_type": "markdown",
   "id": "d5e37e89",
   "metadata": {},
   "source": [
    "## SUMMARY\n",
    "\n",
    "In this chapter you learned how to define a dictionary and how to work with the information stored in a dictionary. You learned how to access and modify individual elements in a dictionary, and how to loop through all of the information in a dictionary. You learned to loop through a dictionary’s key-value pairs, its keys, and its values. You also learned how to nest multiple dictionaries in a list, nest lists in a dictionary, and nest a dictionary inside a dictionary.|"
   ]
  },
  {
   "cell_type": "markdown",
   "id": "9671f0b0",
   "metadata": {},
   "source": [
    "## References\n",
    "\n",
    "-   Matthes, Eric (2022). _Python Crash Course, 3rd Edition: A Hands-On, Project-Based Introduction to Programming_. No Starch Press. ISBN: 978-1593279288. ([Publisher website](https://nostarch.com/python-crash-course-3rd-edition))\n",
    "- Dr.Qiusheng Wu Online lecture from Youtube"
   ]
  }
 ],
 "metadata": {
  "kernelspec": {
   "display_name": "Python 3 (ipykernel)",
   "language": "python",
   "name": "python3"
  },
  "language_info": {
   "codemirror_mode": {
    "name": "ipython",
    "version": 3
   },
   "file_extension": ".py",
   "mimetype": "text/x-python",
   "name": "python",
   "nbconvert_exporter": "python",
   "pygments_lexer": "ipython3",
   "version": "3.9.16"
  }
 },
 "nbformat": 4,
 "nbformat_minor": 5
}
