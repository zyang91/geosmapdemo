{
 "cells": [
  {
   "attachments": {},
   "cell_type": "markdown",
   "id": "5228532c",
   "metadata": {},
   "source": [
    "[![image](https://colab.research.google.com/assets/colab-badge.svg)](https://colab.research.google.com/github/zyang91/GEOG-510/blob/main/python_code/files_and_exception_handling.ipynb)"
   ]
  },
  {
   "cell_type": "markdown",
   "id": "0a38f6f7-eaf9-4787-8a29-7b363a14cbb7",
   "metadata": {},
   "source": [
    "# Files and Exceptions\n",
    "\n",
    "Now that you’ve mastered the basic skills you need to write organized programs that are easy to use, it’s time to think about making your programs even more relevant and usable. In this chapter you’ll learn to work with files so your programs can quickly analyze lots of data. You’ll learn to handle errors so your programs don’t crash when they encounter unexpected situations. You’ll learn about exceptions, which are special objects Python creates to manage errors that arise while a program is running. You’ll also learn about the json module, which allows you to save user data so it isn’t lost when your program stops running.\n",
    "\n",
    "Learning to work with files and save data will make your programs easier for people to use. Users will be able to choose what data to enter and when to enter it. People can run your program, do some work, and then close the program and pick up where they left off later. Learning to handle exceptions will help you deal with situations in which files don’t exist and deal with other problems that can cause your programs to crash. This will make your programs more robust when they encounter bad data, whether it comes from innocent mistakes or from malicious attempts to break your programs. With the skills you’ll learn in this chapter, you’ll make your programs more applicable, usable, and stable.\n",
    "\n",
    "\n",
    "## READING FROM A FILE \n",
    "\n",
    "An incredible amount of data is available in text files. Text files can contain weather data, traffic data, socioeconomic data, literary works, and more. Reading from a file is particularly useful in data analysis applications, but it’s also applicable to any situation in which you want to analyze or modify information stored in a file. For example, you can write a program that reads in the contents of a text file and rewrites the file with formatting that allows a browser to display it.\n",
    "\n",
    "When you want to work with the information in a text file, the first step is to read the file into memory. You can read the entire contents of a file, or you can work through the file one line at a time.\n",
    "\n",
    "### Reading an Entire File\n",
    "\n",
    "To begin, we need a file with a few lines of text in it. Let’s start with a file that contains pi to 30 decimal places, with 10 decimal places per line:\n",
    "\n",
    "```\n",
    "pi_digits.txt\n",
    "\n",
    "3.1415926535\n",
    "  8979323846\n",
    "  2643383279\n",
    "```\n",
    "\n",
    "All the files used in this lecture can be found under the **data** folder.\n",
    "\n",
    "Here’s a program that opens this file, reads it, and prints the contents of the file to the screen:"
   ]
  },
  {
   "cell_type": "markdown",
   "id": "691505a4-93d6-487c-8e44-1435362fcb25",
   "metadata": {},
   "source": [
    "# Difference between relative file path and absolute file path\n",
    "'data/pi_digits.txt' this file path is so called relative file path, which means this file path is relative to this notebook location. Under the same folder. For the software development, you should use the relative directories. Don't use abslute directories <br/>\n",
    "\"C:\\Users\\zyang\\OneDrive\\桌面\\ee.txt\" this is an absolute file path, which mean directly from your computer. Windows use '/' in file path. Mac and Linux uses \"\\\" in file path. Personal information, and the absolute file path different between different computer"
   ]
  },
  {
   "cell_type": "code",
   "execution_count": 1,
   "id": "fd4feb74-241d-4896-a829-4743b1ec163b",
   "metadata": {},
   "outputs": [
    {
     "name": "stdout",
     "output_type": "stream",
     "text": [
      "3.1415926535 \n",
      "  8979323846 \n",
      "  2643383279\n",
      "\n"
     ]
    }
   ],
   "source": [
    "with open('data/pi_digits.txt') as file_object: \n",
    "    contents = file_object.read()\n",
    "print(contents)"
   ]
  },
  {
   "cell_type": "markdown",
   "id": "58e72407-e223-4bc1-af4e-01bb6ca06aaa",
   "metadata": {},
   "source": [
    "Python default path is the linux and mac file path, it should be use '/' instead of '\\' (special character) . Compare below two cell. You need to insert 'r' before a windows path file. \"//\" also work"
   ]
  },
  {
   "cell_type": "code",
   "execution_count": 2,
   "id": "ae215165-7844-4c5f-b879-42576902f26f",
   "metadata": {},
   "outputs": [
    {
     "name": "stdout",
     "output_type": "stream",
     "text": [
      "eeeeee\n"
     ]
    }
   ],
   "source": [
    "with open(r'C:\\Users\\zyang\\OneDrive\\桌面\\ee.txt') as file_object:\n",
    "    contents = file_object.read()\n",
    "print(contents)"
   ]
  },
  {
   "cell_type": "code",
   "execution_count": 4,
   "id": "78c2787e-2f88-4d8e-869b-91360719f782",
   "metadata": {},
   "outputs": [
    {
     "name": "stdout",
     "output_type": "stream",
     "text": [
      "eeeeee\n"
     ]
    }
   ],
   "source": [
    "with open('C:/Users/zyang/OneDrive/桌面/ee.txt') as file_object:\n",
    "    contents = file_object.read()\n",
    "print(contents)"
   ]
  },
  {
   "cell_type": "markdown",
   "id": "008d20ae-0638-4578-ab85-dca31d3bf5f6",
   "metadata": {},
   "source": [
    "The first line of this program has a lot going on. Let’s start by looking at the open() function. To do any work with a file, even just printing its contents, you first need to open the file to access it. The open() function needs one argument: the name of the file you want to open. Python looks for this file in the directory where the program that’s currently being executed is stored. In this example, file_reader.py is currently running, so Python looks for pi_digits.txt in the directory where file_reader.py is stored. The open() function returns an object representing the file. Here, open('pi_digits.txt') returns an object representing pi_digits.txt. Python assigns this object to file_object, which we’ll work with later in the program.\n",
    "\n",
    "The keyword with closes the file once access to it is no longer needed. Notice how we call open() in this program but not close(). You could open and close the file by calling open() and close(), but if a bug in your program prevents the close() method from being executed, the file may never close. This may seem trivial, but improperly closed files can cause data to be lost or corrupted. And if you call close() too early in your program, you’ll find yourself trying to work with a closed file (a file you can’t access), which leads to more errors. It’s not always easy to know exactly when you should close a file, but with the structure shown here, Python will figure that out for you. All you have to do is open the file and work with it as desired, trusting that Python will close it automatically when the with block finishes execution.\n",
    "\n",
    "Once we have a file object representing pi_digits.txt, we use the read() method in the second line of our program to read the entire contents of the file and store it as one long string in contents. When we print the value of contents, we get the entire text file back.\n",
    "\n",
    "The only difference between this output and the original file is the extra blank line at the end of the output. The blank line appears because read() returns an empty string when it reaches the end of the file; this empty string shows up as a blank line. If you want to remove the extra blank line, you can use rstrip() in the call to print():"
   ]
  },
  {
   "cell_type": "code",
   "execution_count": 5,
   "id": "64c44d7a-8014-443b-92e1-c575a1104e04",
   "metadata": {},
   "outputs": [
    {
     "name": "stdout",
     "output_type": "stream",
     "text": [
      "3.1415926535 \n",
      "  8979323846 \n",
      "  2643383279\n"
     ]
    }
   ],
   "source": [
    "with open('data/pi_digits.txt') as file_object:\n",
    "    contents = file_object.read()\n",
    "    print(contents.rstrip())"
   ]
  },
  {
   "cell_type": "markdown",
   "id": "15f9e05c-586c-4f43-bed4-3ad92de1e310",
   "metadata": {},
   "source": [
    "If you choose to read file, and after finish coding you need to close the file"
   ]
  },
  {
   "cell_type": "code",
   "execution_count": 6,
   "id": "fdc32105-9538-4ed3-9511-435cd5350983",
   "metadata": {},
   "outputs": [
    {
     "data": {
      "text/plain": [
       "'3.1415926535 \\n  8979323846 \\n  2643383279\\n'"
      ]
     },
     "execution_count": 6,
     "metadata": {},
     "output_type": "execute_result"
    }
   ],
   "source": [
    "f =open('data/pi_digits.txt')\n",
    "f.read()"
   ]
  },
  {
   "cell_type": "code",
   "execution_count": 7,
   "id": "e6c5a7b6-d605-433c-8cf6-13628b90f330",
   "metadata": {},
   "outputs": [],
   "source": [
    "f.close()"
   ]
  },
  {
   "cell_type": "markdown",
   "id": "82f41fd5-a511-4322-890e-9204061e7257",
   "metadata": {},
   "source": [
    "### File Paths\n",
    "\n",
    "When you pass a simple filename like pi_digits.txt to the open() function, Python looks in the directory where the file that’s currently being executed (that is, your .py program file) is stored.\n",
    "\n",
    "Sometimes, depending on how you organize your work, the file you want to open won’t be in the same directory as your program file. For example, you might store your program files in a folder called python_work; inside python_work, you might have another folder called text_files to distinguish your program files from the text files they’re manipulating. Even though text_files is in python_work, just passing open() the name of a file in text_files won’t work, because Python will only look in python_work and stop there; it won’t go on and look in text_files. To get Python to open files from a directory other than the one where your program file is stored, you need to provide a file path, which tells Python to look in a specific location on your system.\n",
    "\n",
    "Because text_files is inside python_work, you could use a relative file path to open a file from text_files. A relative file path tells Python to look for a given location relative to the directory where the currently running program file is stored. For example, you’d write:\n",
    "\n",
    "```\n",
    "with open('text_files/filename.txt') as file_object:\n",
    "```\n",
    "\n",
    "This line tells Python to look for the desired .txt file in the folder text_files and assumes that text_files is located inside python_work (which it is).\n",
    "\n",
    "*Windows systems use a backslash (\\) instead of a forward slash (/) when displaying file paths, but you can still *use forward slashes in your code.\\*\n",
    "\n",
    "You can also tell Python exactly where the file is on your computer regardless of where the program that’s being executed is stored. This is called an absolute file path. You use an absolute path if a relative path doesn’t work. For instance, if you’ve put text_files in some folder other than python_work—say, a folder called other_files—then just passing open() the path 'text_files/filename.txt' won’t work because Python will only look for that location inside python_work. You’ll need to write out a full path to clarify where you want Python to look.\n",
    "\n",
    "Absolute paths are usually longer than relative paths, so it’s helpful to assign them to a variable and then pass that variable to open():\n",
    "\n",
    "```\n",
    "file_path = '/home/ehmatthes/other_files/text_files/filename.txt'\n",
    "with open(file_path) as file_object:\n",
    "```\n",
    "\n",
    "Using absolute paths, you can read files from any location on your system. For now it’s easiest to store files in the same directory as your program files or in a folder such as text_files within the directory that stores your program files.\n",
    "\n",
    "_If you try to use backslashes in a file path, you’ll get an error because the backslash is used to escape characters in strings. For example, in the path \"C:\\path\\to\\file.txt\", the sequence \\t is interpreted as a tab. If you need to use backslashes, you can escape each one in the path, like this: \"C:\\\\\\path\\\\\\to\\\\\\file.txt\"._\n",
    "\n",
    "### Reading Line by Line\n",
    "\n",
    "When you’re reading a file, you’ll often want to examine each line of the file. You might be looking for certain information in the file, or you might want to modify the text in the file in some way. For example, you might want to read through a file of weather data and work with any line that includes the word sunny in the description of that day’s weather. In a news report, you might look for any line with the tag `<headline>` and rewrite that line with a specific kind of formatting.\n",
    "\n",
    "You can use a for loop on the file object to examine each line from a file one at a time:"
   ]
  },
  {
   "cell_type": "code",
   "execution_count": 8,
   "id": "0b5471c8-f023-4dee-85b7-9562d4f8a3b4",
   "metadata": {},
   "outputs": [
    {
     "name": "stdout",
     "output_type": "stream",
     "text": [
      "3.1415926535 \n",
      "\n",
      "  8979323846 \n",
      "\n",
      "  2643383279\n",
      "\n"
     ]
    }
   ],
   "source": [
    "filename = 'data/pi_digits.txt'\n",
    "\n",
    "with open(filename) as file_object:\n",
    "    for line in file_object:\n",
    "        print(line)"
   ]
  },
  {
   "cell_type": "markdown",
   "id": "e45e0cb7-5fcb-4b0b-80c6-561af99bed43",
   "metadata": {},
   "source": [
    "```\n",
    "➊ filename = 'pi_digits.txt'\n",
    "\n",
    "➋ with open(filename) as file_object:\n",
    "➌     for line in file_object:\n",
    "          print(line)\n",
    "```\n",
    "\n",
    "At ➊ we assign the name of the file we’re reading from to the variable filename. This is a common convention when working with files. Because the variable filename doesn’t represent the actual file—it’s just a string telling Python where to find the file—you can easily swap out 'pi_digits.txt' for the name of another file you want to work with. After we call open(), an object representing the file and its contents is assigned to the variable file_object ➋. We again use the with syntax to let Python open and close the file properly. To examine the file’s contents, we work through each line in the file by looping over the file object ➌.\n",
    "\n",
    "When we print each line, we find even more blank lines. These blank lines appear because an invisible newline character is at the end of each line in the text file. The print function adds its own newline each time we call it, so we end up with two newline characters at the end of each line: one from the file and one from print(). Using rstrip() on each line in the print() call eliminates these extra blank lines:"
   ]
  },
  {
   "cell_type": "code",
   "execution_count": 10,
   "id": "7e0d8e02-bc08-49c7-9d3c-434705afd1fe",
   "metadata": {},
   "outputs": [
    {
     "name": "stdout",
     "output_type": "stream",
     "text": [
      "3.1415926535\n",
      "  8979323846\n",
      "  2643383279\n"
     ]
    }
   ],
   "source": [
    "filename = 'data/pi_digits.txt'\n",
    "\n",
    "with open(filename) as file_object:\n",
    "    for line in file_object:\n",
    "        print(line.rstrip()) # .rstrip() eliminate the special character at the end of each line"
   ]
  },
  {
   "cell_type": "code",
   "execution_count": 2,
   "id": "e085c0ec-aa91-45df-b5a9-2a56b6a56e60",
   "metadata": {},
   "outputs": [
    {
     "name": "stdout",
     "output_type": "stream",
     "text": [
      "hhhh\n",
      "hu78\n",
      "chen98\n",
      "hua0920\n",
      "\n"
     ]
    }
   ],
   "source": [
    "filename= \"C:/Users/zyang/OneDrive/桌面/gift_government.txt\"\n",
    "with open(filename) as file_object:\n",
    "    for line in file_object:\n",
    "        print(line.rstrip())"
   ]
  },
  {
   "cell_type": "markdown",
   "id": "c24adf7a-c4e3-4412-a62b-35111455ce4c",
   "metadata": {},
   "source": [
    "### Making a List of Lines from a File\n",
    "\n",
    "When you use with, the file object returned by open() is only available inside the with block that contains it. If you want to retain access to a file’s contents outside the with block, you can store the file’s lines in a list inside the block and then work with that list. You can process parts of the file immediately and postpone some processing for later in the program.\n",
    "\n",
    "The following example stores the lines of pi_digits.txt in a list inside the with block and then prints the lines outside the with block:"
   ]
  },
  {
   "cell_type": "code",
   "execution_count": 1,
   "id": "cfcde723-1024-4696-a24a-e66680ea3a67",
   "metadata": {},
   "outputs": [
    {
     "name": "stdout",
     "output_type": "stream",
     "text": [
      "3.1415926535\n",
      "  8979323846\n",
      "  2643383279\n"
     ]
    }
   ],
   "source": [
    "filename = 'data/pi_digits.txt'\n",
    "\n",
    "with open(filename) as file_object:\n",
    "    lines = file_object.readlines()\n",
    "\n",
    "for line in lines:\n",
    "    print(line.rstrip())"
   ]
  },
  {
   "cell_type": "markdown",
   "id": "f05e18a6-91df-40b0-97c5-68155284d0bf",
   "metadata": {},
   "source": [
    "```\n",
    "filename = 'data/pi_digits.txt'\n",
    "\n",
    "   with open(filename) as file_object:\n",
    "➊     lines = file_object.readlines()\n",
    "\n",
    "➋ for line in lines:\n",
    "       print(line.rstrip())\n",
    "```\n",
    "\n",
    "At ➊ the readlines() method takes each line from the file and stores it in a list. This list is then assigned to lines, which we can continue to work with after the with block ends. At ➋ we use a simple for loop to print each line from lines. Because each item in lines corresponds to each line in the file, the output matches the contents of the file exactly.\n",
    "\n",
    "### Working with a File’s Contents\n",
    "\n",
    "After you’ve read a file into memory, you can do whatever you want with that data, so let’s briefly explore the digits of pi. First, we’ll attempt to build a single string containing all the digits in the file with no whitespace in it:"
   ]
  },
  {
   "cell_type": "code",
   "execution_count": 17,
   "id": "5f2d4f4f-d346-4d85-8748-00ab58ae574b",
   "metadata": {},
   "outputs": [
    {
     "name": "stdout",
     "output_type": "stream",
     "text": [
      "3.1415926535  8979323846  2643383279\n",
      "36\n"
     ]
    }
   ],
   "source": [
    "filename = 'data/pi_digits.txt'\n",
    "\n",
    "with open(filename) as file_object:\n",
    "    lines = file_object.readlines()\n",
    "pi_string = ''\n",
    "for line in lines:\n",
    "    pi_string += line.rstrip() #eliminate the empty line\n",
    "print(pi_string)\n",
    "print(len(pi_string))"
   ]
  },
  {
   "cell_type": "code",
   "execution_count": 4,
   "id": "3423db3a-b8c9-48e3-8197-02fd98f571b1",
   "metadata": {},
   "outputs": [
    {
     "name": "stdout",
     "output_type": "stream",
     "text": [
      "3.141592653589793238462643383279\n",
      "32\n"
     ]
    }
   ],
   "source": [
    "filename = 'data/pi_digits.txt'\n",
    "\n",
    "with open(filename) as file_object:\n",
    "    lines = file_object.readlines()\n",
    "pi_string = ''\n",
    "for line in lines:\n",
    "    pi_string += line.strip() #only keep string, eliminate all empty\n",
    "print(pi_string)\n",
    "print(len(pi_string))"
   ]
  },
  {
   "cell_type": "markdown",
   "id": "a538afe3-3535-44f4-9893-6791e0957a3e",
   "metadata": {},
   "source": [
    "_Note: When Python reads from a text file, it interprets all text in the file as a string. If you read in a number and want to work with that value in a numerical context, you’ll have to convert it to an integer using the int() function or convert it to a float using the float() function._\n",
    "\n",
    "### Large Files: One Million Digits\n",
    "\n",
    "So far we’ve focused on analyzing a text file that contains only three lines, but the code in these examples would work just as well on much larger files. If we start with a text file that contains pi to 1,000,000 decimal places instead of just 30, we can create a single string containing all these digits. We don’t need to change our program at all except to pass it a different file. We’ll also print just the first 50 decimal places, so we don’t have to watch a million digits scroll by in the terminal:"
   ]
  },
  {
   "cell_type": "code",
   "execution_count": 5,
   "id": "a27e1808-685a-4455-a189-05771e600790",
   "metadata": {},
   "outputs": [
    {
     "name": "stdout",
     "output_type": "stream",
     "text": [
      "3.14159265358979323846264338327950288419716939937510...\n",
      "1000002\n"
     ]
    }
   ],
   "source": [
    "filename = 'data/pi_million_digits.txt'\n",
    "\n",
    "with open(filename) as file_object:\n",
    "    lines = file_object.readlines()\n",
    "\n",
    "pi_string = ''\n",
    "for line in lines:\n",
    "    pi_string += line.strip()\n",
    "\n",
    "print(f\"{pi_string[:52]}...\")\n",
    "print(len(pi_string))"
   ]
  },
  {
   "cell_type": "markdown",
   "id": "54ef67b5-52b1-4727-9d7f-3a42d94788f4",
   "metadata": {},
   "source": [
    "Python has no inherent limit to how much data you can work with; you can work with as much data as your system’s memory can handle.\n",
    "\n",
    "### Is Your Birthday Contained in Pi?\n",
    "\n",
    "I’ve always been curious to know if my birthday appears anywhere in the digits of pi. Let’s use the program we just wrote to find out if someone’s birthday appears anywhere in the first million digits of pi. We can do this by expressing each birthday as a string of digits and seeing if that string appears anywhere in pi_string:\n"
   ]
  },
  {
   "cell_type": "code",
   "execution_count": 8,
   "id": "1340ec81-41eb-405a-be81-5b551eb4cf7d",
   "metadata": {},
   "outputs": [
    {
     "name": "stdout",
     "output_type": "stream",
     "text": [
      "Enter your birthday, in the form mmddyy:  901031\n"
     ]
    },
    {
     "name": "stdout",
     "output_type": "stream",
     "text": [
      "Your birthday appears in the first million digits of pi!\n"
     ]
    }
   ],
   "source": [
    "filename = 'data/pi_million_digits.txt'\n",
    "\n",
    "with open(filename) as file_object:\n",
    "    lines = file_object.readlines()\n",
    "\n",
    "pi_string = ''\n",
    "for line in lines:\n",
    "    pi_string += line.strip()\n",
    "\n",
    "birthday = input(\"Enter your birthday, in the form mmddyy: \")\n",
    "if birthday in pi_string:\n",
    "    print(\"Your birthday appears in the first million digits of pi!\")\n",
    "else:\n",
    "    print(\"Your birthday does not appear in the first million digits of pi.\")"
   ]
  },
  {
   "cell_type": "code",
   "execution_count": 14,
   "id": "bdd82192-ff1b-44e7-a331-c5d83a91b548",
   "metadata": {},
   "outputs": [
    {
     "name": "stdout",
     "output_type": "stream",
     "text": [
      "Enter your birthday, in the form mmddyy:\n",
      "(Enter quit when you finish) 032001\n"
     ]
    },
    {
     "name": "stdout",
     "output_type": "stream",
     "text": [
      "Your birthday appears in the first million digits of pi!\n"
     ]
    },
    {
     "name": "stdout",
     "output_type": "stream",
     "text": [
      "Enter your birthday, in the form mmddyy:\n",
      "(Enter quit when you finish) quit\n"
     ]
    }
   ],
   "source": [
    "filename = 'data/pi_million_digits.txt'\n",
    "\n",
    "with open(filename) as file_object:\n",
    "    lines = file_object.readlines()\n",
    "\n",
    "pi_string = ''\n",
    "for line in lines:\n",
    "    pi_string += line.strip()\n",
    "prompt = 'Enter your birthday, in the form mmddyy:'\n",
    "prompt += '\\n(Enter quit when you finish)'\n",
    "while True:\n",
    "    \n",
    "    birthday = input(prompt)\n",
    "    if birthday == 'quit':\n",
    "        break\n",
    "    if birthday in pi_string:\n",
    "        print(\"Your birthday appears in the first million digits of pi!\")\n",
    "    else:\n",
    "        print(\"Your birthday does not appear in the first million digits of pi.\")"
   ]
  },
  {
   "cell_type": "markdown",
   "id": "85f44966-d1e8-4d2e-bda0-f90ec8245c08",
   "metadata": {},
   "source": [
    "## WRITING TO A FILE <a clsss='anchor' id='writing'></a>\n",
    "\n",
    "One of the simplest ways to save data is to write it to a file. When you write text to a file, the output will still be available after you close the terminal containing your program’s output. You can examine output after a program finishes running, and you can share the output files with others as well. You can also write programs that read the text back into memory and work with it again later.\n",
    "\n",
    "### Writing to an Empty File\n",
    "\n",
    "To write text to a file, you need to call open() with a second argument telling Python that you want to write to the file. To see how this works, let’s write a simple message and store it in a file instead of printing it to the screen:"
   ]
  },
  {
   "cell_type": "code",
   "execution_count": 16,
   "id": "892dc25d-2623-41cf-9335-5e82786de2a1",
   "metadata": {},
   "outputs": [],
   "source": [
    "filename = 'data/programming.txt'\n",
    "\n",
    "with open(filename, 'w') as file_object:\n",
    "    file_object.write(\"I love programming.\")\n",
    "    "
   ]
  },
  {
   "cell_type": "markdown",
   "id": "643a99ad-821f-447d-be30-203edab12f18",
   "metadata": {},
   "source": [
    "_Note: Be careful when you try to use w mode to write a file. When you try to do that make sure there is no file with a same name. If it already exist, the python program will delete the exisiting one, and create a new one with just you write._"
   ]
  },
  {
   "cell_type": "markdown",
   "id": "44bca918-b8b2-4235-ae06-40ec5879f78c",
   "metadata": {},
   "source": [
    "```\n",
    "➊ with open(filename, 'w') as file_object:\n",
    "➋     file_object.write(\"I love programming.\")\n",
    "```\n",
    "\n",
    "The call to open() in this example has two arguments ➊. The first argument is still the name of the file we want to open. The second argument, 'w', tells Python that we want to open the file in write mode. You can open a file in read mode ('r'), write mode ('w'), append mode ('a'), or a mode that allows you to read and write to the file ('r+'). If you omit the mode argument, Python opens the file in read-only mode by default.\n",
    "\n",
    "The open() function automatically creates the file you’re writing to if it doesn’t already exist. However, be careful opening a file in write mode ('w') because if the file does exist, Python will erase the contents of the file before returning the file object.\n",
    "\n",
    "At ➋ we use the write() method on the file object to write a string to the file. This program has no terminal output, but if you open the file programming.txt, you’ll see one line:\n",
    "\n",
    "_NOTE: Python can only write strings to a text file. If you want to store numerical data in a text file, you’ll have to convert the data to string format first using the str() function._\n",
    "\n",
    "### Writing Multiple Lines\n",
    "\n",
    "The write() function doesn’t add any newlines to the text you write. So if you write more than one line without including newline characters, your file may not look the way you want it to:\n"
   ]
  },
  {
   "cell_type": "code",
   "execution_count": 20,
   "id": "5edde8a2-075d-4598-8164-281bb252308b",
   "metadata": {},
   "outputs": [],
   "source": [
    "filename = 'data/programming.txt'\n",
    "\n",
    "with open(filename, 'w') as file_object:\n",
    "    file_object.write(\"I love programming.\")\n",
    "    file_object.write(\"I love creating new games.\")"
   ]
  },
  {
   "cell_type": "markdown",
   "id": "2a0945e9-e141-4a2b-88f3-146e2d10a7b9",
   "metadata": {},
   "source": [
    "If you open programming.txt, you’ll see the two lines squished together:\n",
    "\n",
    "```\n",
    "I love programming.I love creating new games.\n",
    "```\n",
    "\n",
    "Including newlines in your calls to write() makes each string appear on its own line:"
   ]
  },
  {
   "cell_type": "code",
   "execution_count": 19,
   "id": "b8417d16-f586-4b99-87dd-e2f22deeb353",
   "metadata": {},
   "outputs": [],
   "source": [
    "filename = 'data/programmings.txt'\n",
    "\n",
    "with open(filename, 'w') as file_object:\n",
    "    file_object.write(\"I love programming.\\n\")\n",
    "    file_object.write(\"I love creating new games.\")"
   ]
  },
  {
   "cell_type": "markdown",
   "id": "94dc8dc5-8a8d-412c-9b38-2be0abaa4b9b",
   "metadata": {},
   "source": [
    "The output now appears on separate lines:\n",
    "\n",
    "```\n",
    "I love programming.\n",
    "I love creating new games.\n",
    "```\n",
    "\n",
    "You can also use spaces, tab characters, and blank lines to format your output, just as you’ve been doing with terminal-based output."
   ]
  },
  {
   "cell_type": "markdown",
   "id": "ff50167d-4c01-47da-a172-46822b025fff",
   "metadata": {},
   "source": [
    "_Note: check the different of the two code above. The first one create all the content in the same line, because in programming, if you don't specify at what part you want to separate the senetences, it will automatically creates into one line. The second one using '\\n' to separate the line_ "
   ]
  },
  {
   "cell_type": "code",
   "execution_count": 21,
   "id": "c965e3a5-47b9-4d11-a0ff-2282d9f0b437",
   "metadata": {},
   "outputs": [],
   "source": [
    "filename = 'data/programmingss.txt'\n",
    "\n",
    "with open(filename, 'w') as file_object:\n",
    "    file_object.write(\"I love programming.\\t\\t\\t I love creating new games.\")\n",
    "    "
   ]
  },
  {
   "cell_type": "markdown",
   "id": "317d028b-482b-4114-ab7b-9051bc38e8ba",
   "metadata": {},
   "source": [
    "_Note: /t using as empty space to separate the two sentences in one line._"
   ]
  },
  {
   "cell_type": "markdown",
   "id": "747b5d4c-8218-4e4f-8128-ff156727d041",
   "metadata": {},
   "source": [
    "### Appending to a File\n",
    "\n",
    "If you want to add content to a file instead of writing over existing content, you can open the file in append mode. When you open a file in append mode, Python doesn’t erase the contents of the file before returning the file object. Any lines you write to the file will be added at the end of the file. If the file doesn’t exist yet, Python will create an empty file for you.\n",
    "\n",
    "Let’s modify the program by adding some new reasons we love programming to the existing file programming.txt:"
   ]
  },
  {
   "cell_type": "code",
   "execution_count": 22,
   "id": "743edaf5-da42-4b21-867e-f13bc40930a2",
   "metadata": {},
   "outputs": [],
   "source": [
    "filename = 'data/programming.txt'\n",
    "\n",
    "with open(filename, 'a') as file_object:\n",
    "    file_object.write(\"I also love finding meaning in large datasets.\\n\")\n",
    "    file_object.write(\"I love creating apps that can run in a browser.\\n\")"
   ]
  },
  {
   "cell_type": "markdown",
   "id": "1a1bfcbb-11f6-4d88-8bea-a55f1c6e6f3c",
   "metadata": {},
   "source": [
    "_Note: When try to use the append function ('a' mode), if you don't specify you want a new line using the \"\\n\" at the beginning of the line, it will utomatically added after the last sentence without creating a new line._"
   ]
  },
  {
   "cell_type": "markdown",
   "id": "36eb10e7-8284-4672-b6c0-9caf0efecf44",
   "metadata": {},
   "source": [
    "# leafmap usage\n",
    "using leafmap download file function to download files\n",
    "- it can be anyfiles\n",
    "- from anywhere on the Internet (github, google drive)"
   ]
  },
  {
   "cell_type": "code",
   "execution_count": 23,
   "id": "cc4015bb-6585-41e2-a711-b8633504bdb3",
   "metadata": {},
   "outputs": [],
   "source": [
    "import leafmap"
   ]
  },
  {
   "cell_type": "code",
   "execution_count": 24,
   "id": "ea4d9ba5-efc5-497b-856c-e540ce3fa647",
   "metadata": {},
   "outputs": [
    {
     "name": "stderr",
     "output_type": "stream",
     "text": [
      "Downloading...\n",
      "From: https://raw.githubusercontent.com/zyang91/GEOG-510/main/docs/python/data/pi_digits.txt\n",
      "To: C:\\Users\\zyang\\GEOG-510\\python_code\\pi_digits.txt\n",
      " 71%|███████████████████████████████████████████████████████▊                       | 41.0/58.0 [00:00<00:00, 20.6kB/s]\n"
     ]
    },
    {
     "data": {
      "text/plain": [
       "'C:\\\\Users\\\\zyang\\\\GEOG-510\\\\python_code\\\\pi_digits.txt'"
      ]
     },
     "execution_count": 24,
     "metadata": {},
     "output_type": "execute_result"
    }
   ],
   "source": [
    "leafmap.download_file(\"https://raw.githubusercontent.com/zyang91/GEOG-510/main/docs/python/data/pi_digits.txt\")"
   ]
  },
  {
   "cell_type": "code",
   "execution_count": 25,
   "id": "65c84334-cf40-478f-ad5e-d04af037e894",
   "metadata": {},
   "outputs": [
    {
     "name": "stderr",
     "output_type": "stream",
     "text": [
      "Downloading...\n",
      "From: https://raw.githubusercontent.com/opengeos/leafmap/master/examples/data/us_regions.geojson\n",
      "To: C:\\Users\\zyang\\GEOG-510\\python_code\\us_regions.geojson\n",
      "208kB [00:00, 895kB/s]                                                                                                 \n"
     ]
    },
    {
     "data": {
      "text/plain": [
       "'C:\\\\Users\\\\zyang\\\\GEOG-510\\\\python_code\\\\us_regions.geojson'"
      ]
     },
     "execution_count": 25,
     "metadata": {},
     "output_type": "execute_result"
    }
   ],
   "source": [
    "#It can download anyfile\n",
    "leafmap.download_file(\"https://raw.githubusercontent.com/opengeos/leafmap/master/examples/data/us_regions.geojson\")"
   ]
  },
  {
   "cell_type": "markdown",
   "id": "756444f3-1641-47f5-8154-4193432f86eb",
   "metadata": {},
   "source": [
    "## EXCEPTIONS <a clsss='anchor' id='exceptions'></a>\n",
    "\n",
    "Python uses special objects called exceptions to manage errors that arise during a program’s execution. Whenever an error occurs that makes Python unsure what to do next, it creates an exception object. If you write code that handles the exception, the program will continue running. If you don’t handle the exception, the program will halt and show a traceback, which includes a report of the exception that was raised.\n",
    "\n",
    "Exceptions are handled with try-except blocks. A try-except block asks Python to do something, but it also tells Python what to do if an exception is raised. When you use try-except blocks, your programs will continue running even if things start to go wrong. Instead of tracebacks, which can be confusing for users to read, users will see friendly error messages that you write."
   ]
  },
  {
   "cell_type": "markdown",
   "id": "22bfa003-7731-4a89-8634-276f0e93721b",
   "metadata": {},
   "source": [
    "### Using try-except Blocks\n",
    "\n",
    "When you think an error may occur, you can write a try-except block to handle the exception that might be raised. You tell Python to try running some code, and you tell it what to do if the code results in a particular kind of exception.\n",
    "\n",
    "Here’s what a try-except block for handling the ZeroDivisionError exception looks like:"
   ]
  },
  {
   "cell_type": "code",
   "execution_count": 1,
   "id": "10d6fd1f-c379-4bea-8ae6-f60b88e8cd6d",
   "metadata": {},
   "outputs": [
    {
     "name": "stdout",
     "output_type": "stream",
     "text": [
      "You can't divide by zero!\n"
     ]
    }
   ],
   "source": [
    "try:\n",
    "    print(5/0)\n",
    "except ZeroDivisionError:\n",
    "    print(\"You can't divide by zero!\")"
   ]
  },
  {
   "cell_type": "code",
   "execution_count": 3,
   "id": "e0e35358-ee2a-4b04-8998-77333391db9f",
   "metadata": {},
   "outputs": [
    {
     "ename": "ZeroDivisionError",
     "evalue": "division by zero",
     "output_type": "error",
     "traceback": [
      "\u001b[1;31m---------------------------------------------------------------------------\u001b[0m",
      "\u001b[1;31mZeroDivisionError\u001b[0m                         Traceback (most recent call last)",
      "Cell \u001b[1;32mIn[3], line 1\u001b[0m\n\u001b[1;32m----> 1\u001b[0m \u001b[38;5;241;43m5\u001b[39;49m\u001b[38;5;241;43m/\u001b[39;49m\u001b[38;5;241;43m0\u001b[39;49m  \u001b[38;5;66;03m#division by zero\u001b[39;00m\n",
      "\u001b[1;31mZeroDivisionError\u001b[0m: division by zero"
     ]
    }
   ],
   "source": [
    "5/0  #division by zero"
   ]
  },
  {
   "cell_type": "markdown",
   "id": "45044385-19d3-40cd-a7eb-5101bf3681cc",
   "metadata": {},
   "source": [
    "We put print(5/0), the line that caused the error, inside a try block. If the code in a try block works, Python skips over the except block. If the code in the try block causes an error, Python looks for an except block whose error matches the one that was raised and runs the code in that block.\n",
    "\n",
    "In this example, the code in the try block produces a ZeroDivisionError, so Python looks for an except block telling it how to respond. Python then runs the code in that block, and the user sees a friendly error message instead of a traceback:\n",
    "\n",
    "```\n",
    "You can't divide by zero!\n",
    "```\n",
    "\n",
    "If more code followed the try-except block, the program would continue running because we told Python how to handle the error. Let’s look at an example where catching an error can allow a program to continue running.\n",
    "\n",
    "### Using Exceptions to Prevent Crashes\n",
    "\n",
    "Handling errors correctly is especially important when the program has more work to do after the error occurs. This happens often in programs that prompt users for input. If the program responds to invalid input appropriately, it can prompt for more valid input instead of crashing.\n",
    "\n",
    "Let’s create a simple calculator that does only division:"
   ]
  },
  {
   "cell_type": "code",
   "execution_count": 4,
   "id": "a0f37dc9-08d9-4722-a4dc-0268c14ab3e8",
   "metadata": {},
   "outputs": [
    {
     "name": "stdout",
     "output_type": "stream",
     "text": [
      "Give me two numbers, and I'll divide them.\n",
      "Enter 'q' to quit.\n"
     ]
    },
    {
     "name": "stdout",
     "output_type": "stream",
     "text": [
      "\n",
      "First number:  2\n",
      "Second number:  3\n"
     ]
    },
    {
     "name": "stdout",
     "output_type": "stream",
     "text": [
      "0.6666666666666666\n"
     ]
    },
    {
     "name": "stdout",
     "output_type": "stream",
     "text": [
      "\n",
      "First number:  1\n",
      "Second number:  3\n"
     ]
    },
    {
     "name": "stdout",
     "output_type": "stream",
     "text": [
      "0.3333333333333333\n"
     ]
    },
    {
     "name": "stdout",
     "output_type": "stream",
     "text": [
      "\n",
      "First number:  1\n",
      "Second number:  0\n"
     ]
    },
    {
     "name": "stdout",
     "output_type": "stream",
     "text": [
      "You can't divide by 0!\n"
     ]
    },
    {
     "name": "stdout",
     "output_type": "stream",
     "text": [
      "\n",
      "First number:  q\n"
     ]
    }
   ],
   "source": [
    "print(\"Give me two numbers, and I'll divide them.\")\n",
    "print(\"Enter 'q' to quit.\")\n",
    "\n",
    "while True:\n",
    "    first_number = input(\"\\nFirst number: \")\n",
    "    if first_number == 'q':\n",
    "        break\n",
    "    second_number = input(\"Second number: \")\n",
    "    if second_number == 'q':\n",
    "        break\n",
    "    try:\n",
    "        answer = int(first_number) / int(second_number)\n",
    "    except ZeroDivisionError:\n",
    "        print(\"You can't divide by 0!\")\n",
    "    else:\n",
    "        print(answer)"
   ]
  },
  {
   "cell_type": "code",
   "execution_count": 5,
   "id": "439782af-0a30-45ac-ba0f-c06f0f024778",
   "metadata": {},
   "outputs": [
    {
     "name": "stdout",
     "output_type": "stream",
     "text": [
      "Give me two numbers, and I'll divide them.\n",
      "Enter 'q' to quit.\n"
     ]
    },
    {
     "name": "stdout",
     "output_type": "stream",
     "text": [
      "\n",
      "First number:  ggg\n",
      "Second number:  gg\n"
     ]
    },
    {
     "name": "stdout",
     "output_type": "stream",
     "text": [
      "You must enter a mumber\n"
     ]
    },
    {
     "name": "stdout",
     "output_type": "stream",
     "text": [
      "\n",
      "First number:  q\n"
     ]
    }
   ],
   "source": [
    "print(\"Give me two numbers, and I'll divide them.\")\n",
    "print(\"Enter 'q' to quit.\")\n",
    "\n",
    "while True:\n",
    "    first_number = input(\"\\nFirst number: \")\n",
    "    if first_number == 'q':\n",
    "        break\n",
    "    second_number = input(\"Second number: \")\n",
    "    if second_number == 'q':\n",
    "        break\n",
    "    try:\n",
    "        answer = int(first_number) / int(second_number)\n",
    "    except ValueError:\n",
    "        print('You must enter a mumber')\n",
    "    except ZeroDivisionError:\n",
    "        print(\"You can't divide by 0!\")\n",
    "    else:\n",
    "        print(answer)"
   ]
  },
  {
   "cell_type": "code",
   "execution_count": 7,
   "id": "ef871103-9d80-41a4-9e25-630571ff390e",
   "metadata": {},
   "outputs": [
    {
     "name": "stdout",
     "output_type": "stream",
     "text": [
      "Give me two numbers, and I'll divide them.\n",
      "Enter 'q' to quit.\n"
     ]
    },
    {
     "name": "stdout",
     "output_type": "stream",
     "text": [
      "\n",
      "First number:  g\n",
      "Second number:  g\n"
     ]
    },
    {
     "name": "stdout",
     "output_type": "stream",
     "text": [
      "Somethong went wrong\n"
     ]
    },
    {
     "name": "stdout",
     "output_type": "stream",
     "text": [
      "\n",
      "First number:  q\n"
     ]
    }
   ],
   "source": [
    "print(\"Give me two numbers, and I'll divide them.\")\n",
    "print(\"Enter 'q' to quit.\")\n",
    "\n",
    "while True:\n",
    "    first_number = input(\"\\nFirst number: \")\n",
    "    if first_number == 'q':\n",
    "        break\n",
    "    second_number = input(\"Second number: \")\n",
    "    if second_number == 'q':\n",
    "        break\n",
    "    try:\n",
    "        answer = int(first_number) / int(second_number)\n",
    "    except:\n",
    "        print(\"Somethong went wrong\")\n",
    "    else:\n",
    "        print(answer)"
   ]
  },
  {
   "cell_type": "code",
   "execution_count": 13,
   "id": "c12b75f6-d70a-4a03-a95d-9388806d0b5b",
   "metadata": {},
   "outputs": [
    {
     "name": "stdout",
     "output_type": "stream",
     "text": [
      "Give me two numbers, and I'll divide them.\n",
      "Enter 'q' to quit.\n"
     ]
    },
    {
     "name": "stdout",
     "output_type": "stream",
     "text": [
      "\n",
      "First number:  78\n",
      "Second number:  9\n"
     ]
    },
    {
     "name": "stdout",
     "output_type": "stream",
     "text": [
      "8.666666666666666\n"
     ]
    },
    {
     "name": "stdout",
     "output_type": "stream",
     "text": [
      "\n",
      "First number:  89\n",
      "Second number:  0\n"
     ]
    },
    {
     "name": "stdout",
     "output_type": "stream",
     "text": [
      "division by zero\n"
     ]
    },
    {
     "name": "stdout",
     "output_type": "stream",
     "text": [
      "\n",
      "First number:  88\n",
      "Second number:  hh\n"
     ]
    },
    {
     "name": "stdout",
     "output_type": "stream",
     "text": [
      "invalid literal for int() with base 10: 'hh'\n"
     ]
    },
    {
     "name": "stdout",
     "output_type": "stream",
     "text": [
      "\n",
      "First number:  q\n"
     ]
    }
   ],
   "source": [
    "#know the error type\n",
    "print(\"Give me two numbers, and I'll divide them.\")\n",
    "print(\"Enter 'q' to quit.\")\n",
    "\n",
    "while True:\n",
    "    first_number = input(\"\\nFirst number: \")\n",
    "    if first_number == 'q':\n",
    "        break\n",
    "    second_number = input(\"Second number: \")\n",
    "    if second_number == 'q':\n",
    "        break\n",
    "    try:\n",
    "        answer = int(first_number) / int(second_number)\n",
    "    except Exception as e:\n",
    "        print(e)\n",
    "    else:\n",
    "        print(answer)"
   ]
  },
  {
   "cell_type": "markdown",
   "id": "3c10544b-e3e0-4403-8c59-11378672643c",
   "metadata": {},
   "source": [
    "The try-except-else block works like this: Python attempts to run the code in the try block. The only code that should go in a try block is code that might cause an exception to be raised. Sometimes you’ll have additional code that should run only if the try block was successful; this code goes in the else block. The except block tells Python what to do in case a certain exception arises when it tries to run the code in the try block. By anticipating likely sources of errors, you can write robust programs that continue to run even when they encounter invalid data and missing resources. Your code will be resistant to innocent user mistakes and malicious attacks.\n",
    "\n",
    "### Handling the FileNotFoundError Exception\n",
    "\n",
    "One common issue when working with files is handling missing files. The file you’re looking for might be in a different location, the filename may be misspelled, or the file may not exist at all. You can handle all of these situations in a straightforward way with a try-except block.\n",
    "\n",
    "Let’s try to read a file that doesn’t exist. The following program tries to read in the contents of Alice in Wonderland, but I haven’t saved the file alice.txt in the same directory as alice.py:"
   ]
  },
  {
   "cell_type": "code",
   "execution_count": 8,
   "id": "57e69c78-c501-4f27-b3c1-8d02ad02b707",
   "metadata": {},
   "outputs": [
    {
     "ename": "FileNotFoundError",
     "evalue": "[Errno 2] No such file or directory: 'alice.txt'",
     "output_type": "error",
     "traceback": [
      "\u001b[1;31m---------------------------------------------------------------------------\u001b[0m",
      "\u001b[1;31mFileNotFoundError\u001b[0m                         Traceback (most recent call last)",
      "Cell \u001b[1;32mIn[8], line 3\u001b[0m\n\u001b[0;32m      1\u001b[0m filename \u001b[38;5;241m=\u001b[39m \u001b[38;5;124m'\u001b[39m\u001b[38;5;124malice.txt\u001b[39m\u001b[38;5;124m'\u001b[39m\n\u001b[1;32m----> 3\u001b[0m \u001b[38;5;28;01mwith\u001b[39;00m \u001b[38;5;28;43mopen\u001b[39;49m\u001b[43m(\u001b[49m\u001b[43mfilename\u001b[49m\u001b[43m,\u001b[49m\u001b[43m \u001b[49m\u001b[43mencoding\u001b[49m\u001b[38;5;241;43m=\u001b[39;49m\u001b[38;5;124;43m'\u001b[39;49m\u001b[38;5;124;43mutf-8\u001b[39;49m\u001b[38;5;124;43m'\u001b[39;49m\u001b[43m)\u001b[49m \u001b[38;5;28;01mas\u001b[39;00m f:\n\u001b[0;32m      4\u001b[0m     contents \u001b[38;5;241m=\u001b[39m f\u001b[38;5;241m.\u001b[39mread()\n",
      "File \u001b[1;32m~\\miniconda3\\envs\\geos\\lib\\site-packages\\IPython\\core\\interactiveshell.py:282\u001b[0m, in \u001b[0;36m_modified_open\u001b[1;34m(file, *args, **kwargs)\u001b[0m\n\u001b[0;32m    275\u001b[0m \u001b[38;5;28;01mif\u001b[39;00m file \u001b[38;5;129;01min\u001b[39;00m {\u001b[38;5;241m0\u001b[39m, \u001b[38;5;241m1\u001b[39m, \u001b[38;5;241m2\u001b[39m}:\n\u001b[0;32m    276\u001b[0m     \u001b[38;5;28;01mraise\u001b[39;00m \u001b[38;5;167;01mValueError\u001b[39;00m(\n\u001b[0;32m    277\u001b[0m         \u001b[38;5;124mf\u001b[39m\u001b[38;5;124m\"\u001b[39m\u001b[38;5;124mIPython won\u001b[39m\u001b[38;5;124m'\u001b[39m\u001b[38;5;124mt let you open fd=\u001b[39m\u001b[38;5;132;01m{\u001b[39;00mfile\u001b[38;5;132;01m}\u001b[39;00m\u001b[38;5;124m by default \u001b[39m\u001b[38;5;124m\"\u001b[39m\n\u001b[0;32m    278\u001b[0m         \u001b[38;5;124m\"\u001b[39m\u001b[38;5;124mas it is likely to crash IPython. If you know what you are doing, \u001b[39m\u001b[38;5;124m\"\u001b[39m\n\u001b[0;32m    279\u001b[0m         \u001b[38;5;124m\"\u001b[39m\u001b[38;5;124myou can use builtins\u001b[39m\u001b[38;5;124m'\u001b[39m\u001b[38;5;124m open.\u001b[39m\u001b[38;5;124m\"\u001b[39m\n\u001b[0;32m    280\u001b[0m     )\n\u001b[1;32m--> 282\u001b[0m \u001b[38;5;28;01mreturn\u001b[39;00m io_open(file, \u001b[38;5;241m*\u001b[39margs, \u001b[38;5;241m*\u001b[39m\u001b[38;5;241m*\u001b[39mkwargs)\n",
      "\u001b[1;31mFileNotFoundError\u001b[0m: [Errno 2] No such file or directory: 'alice.txt'"
     ]
    }
   ],
   "source": [
    "filename = 'alice.txt'\n",
    "\n",
    "with open(filename, encoding='utf-8') as f:\n",
    "    contents = f.read()"
   ]
  },
  {
   "cell_type": "code",
   "execution_count": 10,
   "id": "8c45948e-9ba5-4af9-8fa5-fd5b6d6aed52",
   "metadata": {},
   "outputs": [
    {
     "name": "stdout",
     "output_type": "stream",
     "text": [
      "Sorry, the file alice.txt does not exist.\n"
     ]
    }
   ],
   "source": [
    "filename = 'alice.txt'\n",
    "try:\n",
    "    with open(filename, encoding='utf-8') as f:\n",
    "        contents = f.read()\n",
    "except FileNotFoundError:\n",
    "    print(f\"Sorry, the file {filename} does not exist.\")"
   ]
  },
  {
   "cell_type": "markdown",
   "id": "5b09092a-70cf-4796-bef7-5eb8b05508c9",
   "metadata": {},
   "source": [
    "### Analyzing Text\n",
    "\n",
    "You can analyze text files containing entire books. Many classic works of literature are available as simple text files because they are in the public domain. The texts used in this section come from Project Gutenberg (http://gutenberg.org/). Project Gutenberg maintains a collection of literary works that are available in the public domain, and it’s a great resource if you’re interested in working with literary texts in your programming projects.\n",
    "\n",
    "Let’s pull in the text of Alice in Wonderland and try to count the number of words in the text. We’ll use the string method split(), which can build a list of words from a string. Here’s what split() does with a string containing just the title \"Alice in Wonderland\":"
   ]
  },
  {
   "cell_type": "code",
   "execution_count": 11,
   "id": "4cc34c22-7f29-43e8-b1c1-475c53575f55",
   "metadata": {},
   "outputs": [
    {
     "data": {
      "text/plain": [
       "['Alice', 'in', 'Wonderland']"
      ]
     },
     "execution_count": 11,
     "metadata": {},
     "output_type": "execute_result"
    }
   ],
   "source": [
    "title = \"Alice in Wonderland\"\n",
    "title.split()"
   ]
  },
  {
   "cell_type": "markdown",
   "id": "d864af20-8ef9-4a1c-812f-3520d80cc70b",
   "metadata": {},
   "source": [
    "The split() method separates a string into parts wherever it finds a space and stores all the parts of the string in a list. The result is a list of words from the string, although some punctuation may also appear with some of the words. To count the number of words in Alice in Wonderland, we’ll use split() on the entire text. Then we’ll count the items in the list to get a rough idea of the number of words in the text:"
   ]
  },
  {
   "cell_type": "code",
   "execution_count": 12,
   "id": "ebd81f61-fc3a-4c39-b15c-294d7ff42993",
   "metadata": {},
   "outputs": [
    {
     "name": "stdout",
     "output_type": "stream",
     "text": [
      "The file data/alice.txt has about 29465 words.\n"
     ]
    }
   ],
   "source": [
    "filename = 'data/alice.txt'\n",
    "\n",
    "try:\n",
    "    with open(filename, encoding='utf-8') as f:\n",
    "        contents = f.read()\n",
    "except FileNotFoundError:\n",
    "    print(f\"Sorry, the file {filename} does not exist.\")\n",
    "else:\n",
    "    # Count the approximate number of words in the file.\n",
    "    words = contents.split()\n",
    "    num_words = len(words)\n",
    "    print(f\"The file {filename} has about {num_words} words.\")"
   ]
  },
  {
   "cell_type": "code",
   "execution_count": 36,
   "id": "a43cd84b-662a-4ec8-b19e-7815dcb3a9f7",
   "metadata": {},
   "outputs": [
    {
     "name": "stdout",
     "output_type": "stream",
     "text": [
      "The file data/alice.txt has about 6018 words.\n"
     ]
    }
   ],
   "source": [
    "filename = 'data/alice.txt'\n",
    "\n",
    "try:\n",
    "    with open(filename, encoding='utf-8') as f:\n",
    "        contents = f.read()\n",
    "except FileNotFoundError:\n",
    "    print(f\"Sorry, the file {filename} does not exist.\")\n",
    "else:\n",
    "    # Count the approximate number of words in the file.\n",
    "    words = contents.split()\n",
    "    num_words = len(set(words)) #unique words\n",
    "    print(f\"The file {filename} has about {num_words} words.\")"
   ]
  },
  {
   "cell_type": "markdown",
   "id": "5b5069a1-ba45-4611-9564-4dd9da724a12",
   "metadata": {},
   "source": [
    "# Finish\n",
    "## References\n",
    "\n",
    "-   Matthes, Eric (2022). _Python Crash Course, 3rd Edition: A Hands-On, Project-Based Introduction to Programming_. No Starch Press. ISBN: 978-1593279288. ([Publisher website](https://nostarch.com/python-crash-course-3rd-edition))\n",
    "- Dr.Qiusheng Wu online lecture"
   ]
  }
 ],
 "metadata": {
  "kernelspec": {
   "display_name": "Python 3 (ipykernel)",
   "language": "python",
   "name": "python3"
  },
  "language_info": {
   "codemirror_mode": {
    "name": "ipython",
    "version": 3
   },
   "file_extension": ".py",
   "mimetype": "text/x-python",
   "name": "python",
   "nbconvert_exporter": "python",
   "pygments_lexer": "ipython3",
   "version": "3.9.16"
  }
 },
 "nbformat": 4,
 "nbformat_minor": 5
}
