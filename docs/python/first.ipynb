{
 "cells": [
  {
   "cell_type": "markdown",
   "id": "cde7ccef",
   "metadata": {},
   "source": [
    "# First lecture"
   ]
  },
  {
   "cell_type": "markdown",
   "id": "5e4b8f27",
   "metadata": {},
   "source": [
    "[![image](https://colab.research.google.com/assets/colab-badge.svg)](https://colab.research.google.com/github/zyang91/GEOG-510/blob/main/python_code/GEOG510_variabel_types.ipynb)"
   ]
  },
  {
   "cell_type": "markdown",
   "id": "8c9728b1",
   "metadata": {},
   "source": [
    "Zhanchao Yang"
   ]
  },
  {
   "cell_type": "markdown",
   "id": "e39c475c",
   "metadata": {},
   "source": [
    "##  Variables and Date Types"
   ]
  },
  {
   "cell_type": "code",
   "execution_count": 1,
   "id": "7c5c0954",
   "metadata": {},
   "outputs": [
    {
     "name": "stdout",
     "output_type": "stream",
     "text": [
      "Hello Python World\n"
     ]
    }
   ],
   "source": [
    "message= \"Hello Python World\"\n",
    "print(message)"
   ]
  },
  {
   "cell_type": "code",
   "execution_count": 2,
   "id": "be5e2a31",
   "metadata": {},
   "outputs": [
    {
     "data": {
      "text/plain": [
       "'Hello Python World'"
      ]
     },
     "execution_count": 2,
     "metadata": {},
     "output_type": "execute_result"
    }
   ],
   "source": [
    "message"
   ]
  },
  {
   "cell_type": "code",
   "execution_count": 3,
   "id": "d3d2bd37",
   "metadata": {},
   "outputs": [
    {
     "data": {
      "text/plain": [
       "'hello world'"
      ]
     },
     "execution_count": 3,
     "metadata": {},
     "output_type": "execute_result"
    }
   ],
   "source": [
    "message= \"hello world\"\n",
    "message"
   ]
  },
  {
   "cell_type": "markdown",
   "id": "90e7c59a",
   "metadata": {},
   "source": [
    "### Avoid Name errors"
   ]
  },
  {
   "cell_type": "code",
   "execution_count": 4,
   "id": "c496af5e",
   "metadata": {},
   "outputs": [
    {
     "ename": "NameError",
     "evalue": "name 'mesage' is not defined",
     "output_type": "error",
     "traceback": [
      "\u001b[1;31m---------------------------------------------------------------------------\u001b[0m",
      "\u001b[1;31mNameError\u001b[0m                                 Traceback (most recent call last)",
      "Cell \u001b[1;32mIn[4], line 1\u001b[0m\n\u001b[1;32m----> 1\u001b[0m \u001b[38;5;28mprint\u001b[39m(\u001b[43mmesage\u001b[49m)\n",
      "\u001b[1;31mNameError\u001b[0m: name 'mesage' is not defined"
     ]
    }
   ],
   "source": [
    "print(mesage)"
   ]
  },
  {
   "cell_type": "markdown",
   "id": "9790e683",
   "metadata": {},
   "source": [
    "### Changing Case in a String with Methods\n",
    "\n",
    "One of the simplest tasks you can do with strings is change the case of the words in a string. Look at the following code, and try to determine what’s happening:"
   ]
  },
  {
   "cell_type": "code",
   "execution_count": 6,
   "id": "da330937",
   "metadata": {},
   "outputs": [
    {
     "name": "stdout",
     "output_type": "stream",
     "text": [
      "Zhanchao Yang\n"
     ]
    }
   ],
   "source": [
    "name= 'zhanchao yang'\n",
    "print(name.title())"
   ]
  },
  {
   "cell_type": "code",
   "execution_count": 7,
   "id": "b2cebb09",
   "metadata": {},
   "outputs": [
    {
     "data": {
      "text/plain": [
       "'Zhanchao yang'"
      ]
     },
     "execution_count": 7,
     "metadata": {},
     "output_type": "execute_result"
    }
   ],
   "source": [
    "name.capitalize()"
   ]
  },
  {
   "cell_type": "code",
   "execution_count": 8,
   "id": "68f7cf13",
   "metadata": {},
   "outputs": [
    {
     "data": {
      "text/plain": [
       "'Zhanchao Yang'"
      ]
     },
     "execution_count": 8,
     "metadata": {},
     "output_type": "execute_result"
    }
   ],
   "source": [
    "name.title()"
   ]
  },
  {
   "cell_type": "code",
   "execution_count": 10,
   "id": "b71a2b58",
   "metadata": {},
   "outputs": [
    {
     "data": {
      "text/plain": [
       "'ZHANCHAO YANG'"
      ]
     },
     "execution_count": 10,
     "metadata": {},
     "output_type": "execute_result"
    }
   ],
   "source": [
    "name.upper()"
   ]
  },
  {
   "cell_type": "code",
   "execution_count": 11,
   "id": "903e6a15",
   "metadata": {},
   "outputs": [
    {
     "data": {
      "text/plain": [
       "'zhanchao yang'"
      ]
     },
     "execution_count": 11,
     "metadata": {},
     "output_type": "execute_result"
    }
   ],
   "source": [
    "name.lower()"
   ]
  },
  {
   "cell_type": "code",
   "execution_count": 15,
   "id": "3b2643d0",
   "metadata": {},
   "outputs": [
    {
     "name": "stdout",
     "output_type": "stream",
     "text": [
      "Zhanchao Yang\n"
     ]
    }
   ],
   "source": [
    "first_name=\"zhanchao\"\n",
    "last_name=\"yang\"\n",
    "full_name= f\"{first_name} {last_name}\"\n",
    "print(full_name.title())"
   ]
  },
  {
   "cell_type": "code",
   "execution_count": 16,
   "id": "6f347f57",
   "metadata": {},
   "outputs": [
    {
     "name": "stdout",
     "output_type": "stream",
     "text": [
      "Hello, Zhanchao Yang!\n"
     ]
    }
   ],
   "source": [
    "message = f\"Hello, {full_name.title()}!\"\n",
    "print(message)"
   ]
  },
  {
   "cell_type": "code",
   "execution_count": 17,
   "id": "6fa44479",
   "metadata": {},
   "outputs": [],
   "source": [
    " full_name=\"{} {}\".format(first_name, last_name)"
   ]
  },
  {
   "cell_type": "code",
   "execution_count": 18,
   "id": "392f67be",
   "metadata": {},
   "outputs": [
    {
     "data": {
      "text/plain": [
       "'zhanchao yang'"
      ]
     },
     "execution_count": 18,
     "metadata": {},
     "output_type": "execute_result"
    }
   ],
   "source": [
    "full_name"
   ]
  },
  {
   "cell_type": "markdown",
   "id": "bc4a856a",
   "metadata": {},
   "source": [
    "### Adding Whitespace to Strings with Tabs or Newlines\n",
    "\n",
    "In programming, whitespace refers to any nonprinting character, such as spaces, tabs, and end-of-line symbols. You can use whitespace to organize your output so it’s easier for users to read.\n",
    "To add a tab to your text, use the character combination \\t as shown at:"
   ]
  },
  {
   "cell_type": "code",
   "execution_count": 20,
   "id": "fd59813b",
   "metadata": {},
   "outputs": [
    {
     "name": "stdout",
     "output_type": "stream",
     "text": [
      "Hello\n",
      "\tHello\n"
     ]
    }
   ],
   "source": [
    "print(\"Hello\")\n",
    "print(\"\\tHello\")"
   ]
  },
  {
   "cell_type": "code",
   "execution_count": 21,
   "id": "074703fb",
   "metadata": {},
   "outputs": [
    {
     "name": "stdout",
     "output_type": "stream",
     "text": [
      "\t\t\tHello\n"
     ]
    }
   ],
   "source": [
    "print(\"\\t\\t\\tHello\")"
   ]
  },
  {
   "cell_type": "code",
   "execution_count": 23,
   "id": "e47a9659",
   "metadata": {},
   "outputs": [
    {
     "data": {
      "text/plain": [
       "'D:\\\\GEOG445'"
      ]
     },
     "execution_count": 23,
     "metadata": {},
     "output_type": "execute_result"
    }
   ],
   "source": [
    "filepath=r'D:\\GEOG445'\n",
    "filepath"
   ]
  },
  {
   "cell_type": "code",
   "execution_count": 25,
   "id": "ba4960a7",
   "metadata": {},
   "outputs": [
    {
     "name": "stdout",
     "output_type": "stream",
     "text": [
      "laguage:\n",
      "\tpython\n",
      "\tJavascript\n"
     ]
    }
   ],
   "source": [
    "print(\"laguage:\\n\\tpython\\n\\tJavascript\")"
   ]
  },
  {
   "cell_type": "markdown",
   "id": "d7ae5774",
   "metadata": {},
   "source": [
    "### Stripping Whitespace\n",
    "\n",
    "Extra whitespace can be confusing in your programs. To programmers 'python' and 'python ' look pretty much the same. But to a program, they are two different strings. Python detects the extra space in 'python ' and\n",
    "considers it significant unless you tell it otherwise.\n",
    "whitespace from data that people enter. Python can look for extra whitespace on the right and left sides of a\n",
    "string. To ensure that no whitespace exists at the right end of a string, use the rstrip() method."
   ]
  },
  {
   "cell_type": "code",
   "execution_count": 32,
   "id": "81ee07e6",
   "metadata": {},
   "outputs": [],
   "source": [
    "favorite_language= ' python  Zhanchao'"
   ]
  },
  {
   "cell_type": "code",
   "execution_count": 33,
   "id": "c0314cd2",
   "metadata": {},
   "outputs": [
    {
     "name": "stdout",
     "output_type": "stream",
     "text": [
      " python  Zhanchao\n"
     ]
    }
   ],
   "source": [
    "print(favorite_language)"
   ]
  },
  {
   "cell_type": "code",
   "execution_count": 34,
   "id": "887d54b6",
   "metadata": {},
   "outputs": [
    {
     "name": "stdout",
     "output_type": "stream",
     "text": [
      " python  Zhanchao\n"
     ]
    }
   ],
   "source": [
    "print(favorite_language.rstrip())"
   ]
  },
  {
   "cell_type": "code",
   "execution_count": 35,
   "id": "2d680cf9",
   "metadata": {},
   "outputs": [
    {
     "name": "stdout",
     "output_type": "stream",
     "text": [
      "python  Zhanchao\n"
     ]
    }
   ],
   "source": [
    "print(favorite_language.lstrip())"
   ]
  },
  {
   "cell_type": "code",
   "execution_count": 36,
   "id": "28d4eef2",
   "metadata": {},
   "outputs": [
    {
     "name": "stdout",
     "output_type": "stream",
     "text": [
      "python  Zhanchao\n"
     ]
    }
   ],
   "source": [
    "print(favorite_language.strip())"
   ]
  },
  {
   "cell_type": "code",
   "execution_count": 37,
   "id": "cc118893",
   "metadata": {},
   "outputs": [],
   "source": [
    "text = 'Extra whitespace can be confusing in your programs.'"
   ]
  },
  {
   "cell_type": "code",
   "execution_count": 38,
   "id": "952bea85",
   "metadata": {},
   "outputs": [
    {
     "data": {
      "text/plain": [
       "'Extrawhitespacecanbeconfusinginyourprograms.'"
      ]
     },
     "execution_count": 38,
     "metadata": {},
     "output_type": "execute_result"
    }
   ],
   "source": [
    "text.replace(' ','')"
   ]
  },
  {
   "cell_type": "code",
   "execution_count": 39,
   "id": "e1c48946",
   "metadata": {},
   "outputs": [
    {
     "data": {
      "text/plain": [
       "'pythonZhanchao'"
      ]
     },
     "execution_count": 39,
     "metadata": {},
     "output_type": "execute_result"
    }
   ],
   "source": [
    "favorite_language.replace(' ','')"
   ]
  },
  {
   "cell_type": "code",
   "execution_count": 40,
   "id": "66b9901a",
   "metadata": {},
   "outputs": [
    {
     "data": {
      "text/plain": [
       "'Extra-whitespace-can-be-confusing-in-your-programs.'"
      ]
     },
     "execution_count": 40,
     "metadata": {},
     "output_type": "execute_result"
    }
   ],
   "source": [
    "text.replace(' ','-')"
   ]
  },
  {
   "cell_type": "markdown",
   "id": "12082b71",
   "metadata": {},
   "source": [
    "### Avoiding Syntax Errors with Strings\n",
    "\n",
    "One kind of error that you might see with some regularity is a syntax error. A syntax error occurs when Python doesn’t recognize a section of your pro gram as valid Python code. For example, if you use an apostrophe within\n",
    "single quotes, you’ll produce an error. This happens because Python interprets everything between the first single quote and the apostrophe as a string. It then tries to interpret the rest of the text as Python code, which\n",
    "causes errors."
   ]
  },
  {
   "cell_type": "code",
   "execution_count": 41,
   "id": "41236393",
   "metadata": {},
   "outputs": [],
   "source": [
    "# double quote, with single quote inside, it will work\n",
    "# escape sign also work"
   ]
  },
  {
   "cell_type": "code",
   "execution_count": 43,
   "id": "c38753aa",
   "metadata": {},
   "outputs": [
    {
     "ename": "SyntaxError",
     "evalue": "invalid syntax (2969828452.py, line 1)",
     "output_type": "error",
     "traceback": [
      "\u001b[1;36m  Cell \u001b[1;32mIn[43], line 1\u001b[1;36m\u001b[0m\n\u001b[1;33m    message='one of python's strength'\u001b[0m\n\u001b[1;37m                           ^\u001b[0m\n\u001b[1;31mSyntaxError\u001b[0m\u001b[1;31m:\u001b[0m invalid syntax\n"
     ]
    }
   ],
   "source": [
    "message='one of python's strength'"
   ]
  },
  {
   "cell_type": "code",
   "execution_count": 45,
   "id": "7ab50f72",
   "metadata": {},
   "outputs": [
    {
     "data": {
      "text/plain": [
       "\"one of python's strength\""
      ]
     },
     "execution_count": 45,
     "metadata": {},
     "output_type": "execute_result"
    }
   ],
   "source": [
    "message='one of python\\'s strength'\n",
    "message"
   ]
  },
  {
   "cell_type": "code",
   "execution_count": 46,
   "id": "5012d2a7",
   "metadata": {},
   "outputs": [
    {
     "data": {
      "text/plain": [
       "\"one of python's strength\""
      ]
     },
     "execution_count": 46,
     "metadata": {},
     "output_type": "execute_result"
    }
   ],
   "source": [
    "message=\"one of python's strength\"\n",
    "message"
   ]
  },
  {
   "cell_type": "markdown",
   "id": "2c59dec3",
   "metadata": {},
   "source": [
    "### Integers\n",
    "\n",
    "You can add ( +), subtract ( -), multiply (\\*), and divide ( /) integers in Python."
   ]
  },
  {
   "cell_type": "code",
   "execution_count": 47,
   "id": "a9ba2bb4",
   "metadata": {},
   "outputs": [],
   "source": [
    "# just as calculator"
   ]
  },
  {
   "cell_type": "code",
   "execution_count": 48,
   "id": "7d2bb11f",
   "metadata": {},
   "outputs": [
    {
     "data": {
      "text/plain": [
       "5"
      ]
     },
     "execution_count": 48,
     "metadata": {},
     "output_type": "execute_result"
    }
   ],
   "source": [
    "2 + 3"
   ]
  },
  {
   "cell_type": "markdown",
   "id": "dcb530a0",
   "metadata": {},
   "source": [
    "### Floats\n",
    "\n",
    "Python calls any number with a decimal point a float. This term is used in most programming languages, and it refers to the fact that a decimal point can appear at any position in a number. Every programming language must be carefully designed to properly manage decimal numbers so numbers behave appropriately no matter where the decimal point appears."
   ]
  },
  {
   "cell_type": "code",
   "execution_count": 49,
   "id": "48a60b1b",
   "metadata": {},
   "outputs": [
    {
     "data": {
      "text/plain": [
       "0.2"
      ]
     },
     "execution_count": 49,
     "metadata": {},
     "output_type": "execute_result"
    }
   ],
   "source": [
    "0.1+0.1"
   ]
  },
  {
   "cell_type": "code",
   "execution_count": 50,
   "id": "ecbac90c",
   "metadata": {},
   "outputs": [
    {
     "data": {
      "text/plain": [
       "0.4"
      ]
     },
     "execution_count": 50,
     "metadata": {},
     "output_type": "execute_result"
    }
   ],
   "source": [
    "2*0.2\n",
    "# automatic converted another type of data to another\n",
    "# integer to float"
   ]
  },
  {
   "cell_type": "code",
   "execution_count": 51,
   "id": "2e627f8d",
   "metadata": {},
   "outputs": [
    {
     "data": {
      "text/plain": [
       "'5050'"
      ]
     },
     "execution_count": 51,
     "metadata": {},
     "output_type": "execute_result"
    }
   ],
   "source": [
    "2*'50'\n",
    "# 2 multiplied string\n",
    "# don't work"
   ]
  },
  {
   "cell_type": "code",
   "execution_count": 52,
   "id": "66a37b3d",
   "metadata": {},
   "outputs": [
    {
     "data": {
      "text/plain": [
       "100"
      ]
     },
     "execution_count": 52,
     "metadata": {},
     "output_type": "execute_result"
    }
   ],
   "source": [
    "2* int('50')\n",
    "# convert string to number"
   ]
  },
  {
   "cell_type": "markdown",
   "id": "0bb5c19e",
   "metadata": {},
   "source": [
    "### Underscores in Numbers\n",
    "\n",
    "When you’re writing long numbers, you can group digits using underscores to make large numbers more readable. When you print a number that was defined using underscores, Python prints only the digits. Python ignores the underscores when storing these kinds of values. Even if you don’t group the digits in threes, the value will still be un­a ffected. To Python, 1000 is the same as 1_000, which is the same as 10_00. This feature works for integers and floats, but it’s only available in Python 3.6"
   ]
  },
  {
   "cell_type": "code",
   "execution_count": 53,
   "id": "785faaac",
   "metadata": {},
   "outputs": [],
   "source": [
    "universe_age=124_000_000"
   ]
  },
  {
   "cell_type": "code",
   "execution_count": 54,
   "id": "11d2fdc2",
   "metadata": {},
   "outputs": [
    {
     "data": {
      "text/plain": [
       "124000000"
      ]
     },
     "execution_count": 54,
     "metadata": {},
     "output_type": "execute_result"
    }
   ],
   "source": [
    "universe_age"
   ]
  },
  {
   "cell_type": "code",
   "execution_count": 56,
   "id": "f5818547",
   "metadata": {},
   "outputs": [
    {
     "data": {
      "text/plain": [
       "(1, 0)"
      ]
     },
     "execution_count": 56,
     "metadata": {},
     "output_type": "execute_result"
    }
   ],
   "source": [
    "# won't work with comma\n",
    "a=1,0000\n",
    "a"
   ]
  },
  {
   "cell_type": "markdown",
   "id": "8b0553f8",
   "metadata": {},
   "source": [
    "### Multiple Assignment\n",
    "\n",
    "You can assign values to more than one variable using just a single line. This can help shorten your programs and make them easier to read; you’ll use this technique most often when initializing a set of numbers."
   ]
  },
  {
   "cell_type": "code",
   "execution_count": 60,
   "id": "41ae34c1",
   "metadata": {},
   "outputs": [
    {
     "data": {
      "text/plain": [
       "3"
      ]
     },
     "execution_count": 60,
     "metadata": {},
     "output_type": "execute_result"
    }
   ],
   "source": [
    "x = 0\n",
    "y = 1\n",
    "x = 3 * y\n",
    "x"
   ]
  },
  {
   "cell_type": "code",
   "execution_count": 61,
   "id": "ef049090",
   "metadata": {},
   "outputs": [],
   "source": [
    "# must be paired up\n",
    "x,y,z=1,2,3"
   ]
  },
  {
   "cell_type": "markdown",
   "id": "c5a9e76e",
   "metadata": {},
   "source": [
    "## Comments\n",
    "\n",
    "Comments are an extremely useful feature in most programming languages. Everything you’ve written in your programs so far is Python code. As your programs become longer and more complicated, you should add notes within your programs that describe your overall approach to the problem you’re solving. A comment allows you to write notes in English within your programs.\n",
    "\n",
    "### How Do You Write Comments?\n",
    "\n",
    "In Python, the hash mark (#) indicates a comment. Anything following a hash mark in your code is ignored by the Python interpreter. For example:"
   ]
  },
  {
   "cell_type": "code",
   "execution_count": 62,
   "id": "267a5c17",
   "metadata": {},
   "outputs": [],
   "source": [
    "# y=5 "
   ]
  },
  {
   "cell_type": "markdown",
   "id": "d73e6c00",
   "metadata": {},
   "source": [
    "# finish"
   ]
  },
  {
   "cell_type": "markdown",
   "id": "e16a423e",
   "metadata": {},
   "source": [
    "## References\n",
    "\n",
    "-   Matthes, Eric (2022). _Python Crash Course, 3rd Edition: A Hands-On, Project-Based Introduction to Programming_. No Starch Press. ISBN: 978-1593279288. ([Publisher website](https://nostarch.com/python-crash-course-3rd-edition))\n",
    "- Dr.Qiusheng Wu online lecture"
   ]
  }
 ],
 "metadata": {
  "kernelspec": {
   "display_name": "Python 3 (ipykernel)",
   "language": "python",
   "name": "python3"
  },
  "language_info": {
   "codemirror_mode": {
    "name": "ipython",
    "version": 3
   },
   "file_extension": ".py",
   "mimetype": "text/x-python",
   "name": "python",
   "nbconvert_exporter": "python",
   "pygments_lexer": "ipython3",
   "version": "3.9.16"
  }
 },
 "nbformat": 4,
 "nbformat_minor": 5
}
