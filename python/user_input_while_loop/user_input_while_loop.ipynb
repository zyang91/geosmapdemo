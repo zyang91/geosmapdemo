{
 "cells": [
  {
   "attachments": {},
   "cell_type": "markdown",
   "id": "94fc077d",
   "metadata": {},
   "source": [
    "[![image](https://colab.research.google.com/assets/colab-badge.svg)](https://colab.research.google.com/github/zyang91/GEOG-510/blob/main/python_code/user_input_while_loop.ipynb)"
   ]
  },
  {
   "cell_type": "markdown",
   "id": "08260bb9",
   "metadata": {},
   "source": [
    "# Looping\n",
    "\n",
    "Most programs are written to solve an end user’s problem. To do so, you usually need to get some information from the user. For a simple example, let’s say someone wants to find out whether they’re old enough to vote. If you write a program to answer this question, you need to know the user’s age before you can provide an answer. The program will need to ask the user to enter, or input, their age; once the program has this input, it can compare it to the voting age to determine if the user is old enough and then report the result.\n",
    "\n",
    "In this chapter you’ll learn how to accept user input so your program can then work with it. When your program needs a name, you’ll be able to prompt the user for a name. When your program needs a list of names, you’ll be able to prompt the user for a series of names. To do this, you’ll use the input() function.\n",
    "\n",
    "You’ll also learn how to keep programs running as long as users want them to, so they can enter as much information as they need to; then, your program can work with that information. You’ll use Python’s while loop to keep programs running as long as certain conditions remain true.\n",
    "\n",
    "With the ability to work with user input and the ability to control how long your programs run, you’ll be able to write fully interactive programs.\n",
    "\n",
    "\n",
    "## HOW THE INPUT() FUNCTION WORKS\n",
    "\n",
    "The input() function pauses your program and waits for the user to enter some text. Once Python receives the user’s input, it assigns that input to a variable to make it convenient for you to work with.\n",
    "\n",
    "For example, the following program asks the user to enter some text, then displays that message back to the user:\n"
   ]
  },
  {
   "cell_type": "code",
   "execution_count": 2,
   "id": "46f1bf6c",
   "metadata": {},
   "outputs": [
    {
     "name": "stdout",
     "output_type": "stream",
     "text": [
      "Tell me something, and I will repeat it back to you: I am a student\n",
      "I am a student\n"
     ]
    }
   ],
   "source": [
    "message = input(\"Tell me something, and I will repeat it back to you: \")\n",
    "print(message)"
   ]
  },
  {
   "cell_type": "markdown",
   "id": "139e6f92",
   "metadata": {},
   "source": [
    "The input() function takes one argument: the prompt, or instructions, that we want to display to the user so they know what to do. In this example, when Python runs the first line, the user sees the prompt Tell me something, and I will repeat it back to you: . The program waits while the user enters their response and continues after the user presses ENTER. The response is assigned to the variable message, then print(message) displays the input back to the user:\n",
    "\n",
    "## Writing Clear Prompts\n",
    "\n",
    "Each time you use the input() function, you should include a clear, easy-to-follow prompt that tells the user exactly what kind of information you’re looking for. Any statement that tells the user what to enter should work. For example:"
   ]
  },
  {
   "cell_type": "code",
   "execution_count": 1,
   "id": "d868304e",
   "metadata": {
    "scrolled": true
   },
   "outputs": [
    {
     "name": "stdout",
     "output_type": "stream",
     "text": [
      "Please enter your name: Zhanchao Yang\n",
      "\n",
      "Hello, Zhanchao Yang!\n"
     ]
    }
   ],
   "source": [
    "name = input(\"Please enter your name: \")\n",
    "print(f\"\\nHello, {name}!\")"
   ]
  },
  {
   "cell_type": "code",
   "execution_count": 3,
   "id": "ff74743a",
   "metadata": {
    "scrolled": true
   },
   "outputs": [
    {
     "name": "stdout",
     "output_type": "stream",
     "text": [
      "If you tell us who you are, we can personalize the messages you see.\n",
      "What is your first name? Zhanchao Yang\n",
      "\n",
      "Hello, Zhanchao Yang!\n"
     ]
    }
   ],
   "source": [
    "prompt = \"If you tell us who you are, we can personalize the messages you see.\"\n",
    "prompt += \"\\nWhat is your first name? \"\n",
    "\n",
    "name = input(prompt)\n",
    "print(f\"\\nHello, {name}!\")"
   ]
  },
  {
   "cell_type": "markdown",
   "id": "83cfd7e4",
   "metadata": {},
   "source": [
    "This example shows one way to build a multi-line string. The first line assigns the first part of the message to the variable prompt. In the second line, the operator += takes the string that was assigned to prompt and adds the new string onto the end.\n",
    "\n",
    "The prompt now spans two lines, again with space after the question mark for clarity:\n",
    "\n",
    "## Using int() to Accept Numerical Input\n",
    "\n",
    "When you use the input() function, Python interprets everything the user enters as a string. Consider the following interpreter session, which asks for the user’s age:"
   ]
  },
  {
   "cell_type": "code",
   "execution_count": 4,
   "id": "80dac7c7",
   "metadata": {},
   "outputs": [
    {
     "name": "stdout",
     "output_type": "stream",
     "text": [
      "How old are you? 8\n"
     ]
    },
    {
     "data": {
      "text/plain": [
       "8"
      ]
     },
     "execution_count": 4,
     "metadata": {},
     "output_type": "execute_result"
    }
   ],
   "source": [
    "age = input(\"How old are you? \")\n",
    "age = int(age)\n",
    "age"
   ]
  },
  {
   "cell_type": "code",
   "execution_count": 6,
   "id": "8d63818d",
   "metadata": {},
   "outputs": [
    {
     "name": "stdout",
     "output_type": "stream",
     "text": [
      "How tall are you, in inches? 88\n",
      "\n",
      "You're tall enough to ride!\n"
     ]
    }
   ],
   "source": [
    "height = input(\"How tall are you, in inches? \")\n",
    "height = int(height)\n",
    "\n",
    "if height >= 48:\n",
    "     print(\"\\nYou're tall enough to ride!\")\n",
    "else:\n",
    "    print(\"\\nYou'll be able to ride when you're a little older.\")"
   ]
  },
  {
   "cell_type": "markdown",
   "id": "7d8b2a9a",
   "metadata": {},
   "source": [
    "## The Modulo Operator\n",
    "\n",
    "A useful tool for working with numerical information is the modulo operator (%), which divides one number by another number and returns the remainder:"
   ]
  },
  {
   "cell_type": "code",
   "execution_count": 8,
   "id": "dfa9b02e",
   "metadata": {
    "scrolled": true
   },
   "outputs": [
    {
     "data": {
      "text/plain": [
       "1"
      ]
     },
     "execution_count": 8,
     "metadata": {},
     "output_type": "execute_result"
    }
   ],
   "source": [
    "4%3"
   ]
  },
  {
   "cell_type": "code",
   "execution_count": 9,
   "id": "2e7f322e",
   "metadata": {},
   "outputs": [
    {
     "data": {
      "text/plain": [
       "0"
      ]
     },
     "execution_count": 9,
     "metadata": {},
     "output_type": "execute_result"
    }
   ],
   "source": [
    "6%3"
   ]
  },
  {
   "cell_type": "code",
   "execution_count": 10,
   "id": "8795f6d7",
   "metadata": {},
   "outputs": [
    {
     "name": "stdout",
     "output_type": "stream",
     "text": [
      "Enter a number, and I'll tell you if it's even or odd: 6\n",
      "\n",
      "The number 6 is even.\n"
     ]
    }
   ],
   "source": [
    "number = input(\"Enter a number, and I'll tell you if it's even or odd: \")\n",
    "number = int(number)\n",
    "\n",
    "if number % 2 == 0:\n",
    "    print(f\"\\nThe number {number} is even.\")\n",
    "else:\n",
    "    print(f\"\\nThe number {number} is odd.\")"
   ]
  },
  {
   "cell_type": "markdown",
   "id": "6fa16903",
   "metadata": {},
   "source": [
    "## INTRODUCING WHILE LOOPS\n",
    "\n",
    "The for loop takes a collection of items and executes a block of code once for each item in the collection. In contrast, the while loop runs as long as, or while, a certain condition is true.\n",
    "\n",
    "## The while Loop in Action\n",
    "\n",
    "You can use a while loop to count up through a series of numbers. For example, the following while loop counts from 1 to 5:"
   ]
  },
  {
   "cell_type": "code",
   "execution_count": 7,
   "id": "c8add7bc",
   "metadata": {},
   "outputs": [
    {
     "name": "stdout",
     "output_type": "stream",
     "text": [
      "1\n",
      "2\n",
      "3\n",
      "4\n",
      "5\n"
     ]
    }
   ],
   "source": [
    "current_number = 1\n",
    "while current_number <= 5:\n",
    "    print(current_number)\n",
    "    current_number += 1"
   ]
  },
  {
   "cell_type": "markdown",
   "id": "a974d9c0",
   "metadata": {},
   "source": [
    "Please do not design a program that never end. It will make the user shutdown the program, Example:"
   ]
  },
  {
   "cell_type": "code",
   "execution_count": 11,
   "id": "f5c08582",
   "metadata": {},
   "outputs": [],
   "source": [
    "# this program will run and never stop unless the user shutdown\n",
    "#while current_number >= 1:\n",
    "#    print(current_number)\n",
    "#    current_number += 1"
   ]
  },
  {
   "cell_type": "code",
   "execution_count": 12,
   "id": "76874b28",
   "metadata": {},
   "outputs": [
    {
     "name": "stdout",
     "output_type": "stream",
     "text": [
      "6\n",
      "9\n",
      "12\n",
      "15\n",
      "18\n",
      "21\n",
      "24\n",
      "27\n",
      "30\n",
      "33\n",
      "36\n",
      "39\n",
      "42\n",
      "45\n",
      "48\n"
     ]
    }
   ],
   "source": [
    "# method to solve the problem\n",
    "while current_number >= 1: #best to do condition there\n",
    "    print(current_number)\n",
    "    current_number += 3\n",
    "    if current_number >50:\n",
    "        break"
   ]
  },
  {
   "cell_type": "code",
   "execution_count": 17,
   "id": "3ae714ae",
   "metadata": {},
   "outputs": [
    {
     "name": "stdout",
     "output_type": "stream",
     "text": [
      "1\n",
      "4\n",
      "7\n",
      "10\n",
      "13\n",
      "16\n",
      "19\n",
      "22\n",
      "25\n",
      "28\n",
      "31\n",
      "34\n",
      "37\n",
      "40\n",
      "43\n",
      "46\n",
      "49\n"
     ]
    }
   ],
   "source": [
    "current_number = 1\n",
    "while current_number <50:\n",
    "    print(current_number)\n",
    "    current_number += 3"
   ]
  },
  {
   "cell_type": "markdown",
   "id": "33887d20",
   "metadata": {},
   "source": [
    "## Using continue in a Loop\n",
    "\n",
    "Rather than breaking out of a loop entirely without executing the rest of its code, you can use the continue statement to return to the beginning of the loop based on the result of a conditional test. For example, consider a loop that counts from 1 to 10 but prints only the odd numbers in that range:"
   ]
  },
  {
   "cell_type": "code",
   "execution_count": 18,
   "id": "5ff37630",
   "metadata": {},
   "outputs": [
    {
     "name": "stdout",
     "output_type": "stream",
     "text": [
      "1, is not the number we want.\n",
      "4, is not the number we want.\n",
      "7, is not the number we want.\n",
      "10, is not the number we want.\n",
      "13, is not the number we want.\n",
      "16, is not the number we want.\n",
      "19, is not the number we want.\n",
      "22, is not the number we want.\n",
      "25, is not the number we want.\n",
      "28, is not the number we want.\n",
      "31, is not the number we want.\n",
      "34, is not the number we want.\n",
      "37, is not the number we want.\n",
      "40, is not the number we want.\n",
      "43, is not the number we want.\n",
      "46, is not the number we want.\n",
      "49, is not the number we want.\n",
      "52, is not the number we want.\n",
      "55, is not the number we want.\n",
      "58, is not the number we want.\n",
      "61, is not the number we want.\n",
      "64, is not the number we want.\n",
      "67, is not the number we want.\n",
      "70, is not the number we want.\n",
      "73, is not the number we want.\n",
      "76, is not the number we want.\n",
      "79, is not the number we want.\n",
      "82, is not the number we want.\n",
      "85, is not the number we want.\n",
      "88, is not the number we want.\n",
      "91, is not the number we want.\n",
      "94, is not the number we want.\n",
      "97, is not the number we want.\n",
      "100, is not the number we want.\n"
     ]
    }
   ],
   "source": [
    "current_number = 1\n",
    "while current_number <=100:\n",
    "    if current_number % 3 ==0:\n",
    "        print(\"You win!\")\n",
    "    else:\n",
    "        print(f\"{current_number}, is not the number we want.\")\n",
    "    current_number += 3"
   ]
  },
  {
   "cell_type": "code",
   "execution_count": 19,
   "id": "15fcc6c4",
   "metadata": {},
   "outputs": [
    {
     "name": "stdout",
     "output_type": "stream",
     "text": [
      "1, is not the number we want.\n",
      "4, is not the number we want.\n",
      "7, is not the number we want.\n",
      "You win!\n",
      "13, is not the number we want.\n",
      "16, is not the number we want.\n",
      "19, is not the number we want.\n",
      "22, is not the number we want.\n",
      "You win!\n",
      "28, is not the number we want.\n",
      "31, is not the number we want.\n",
      "34, is not the number we want.\n",
      "37, is not the number we want.\n",
      "You win!\n",
      "43, is not the number we want.\n",
      "46, is not the number we want.\n",
      "49, is not the number we want.\n",
      "52, is not the number we want.\n",
      "You win!\n",
      "58, is not the number we want.\n",
      "61, is not the number we want.\n",
      "64, is not the number we want.\n",
      "67, is not the number we want.\n",
      "You win!\n",
      "73, is not the number we want.\n",
      "76, is not the number we want.\n",
      "79, is not the number we want.\n",
      "82, is not the number we want.\n",
      "You win!\n",
      "88, is not the number we want.\n",
      "91, is not the number we want.\n",
      "94, is not the number we want.\n",
      "97, is not the number we want.\n",
      "You win!\n"
     ]
    }
   ],
   "source": [
    "current_number = 1\n",
    "while current_number <=100:\n",
    "    if current_number % 5 ==0:\n",
    "        print(\"You win!\")\n",
    "    else:\n",
    "        print(f\"{current_number}, is not the number we want.\")\n",
    "    current_number += 3"
   ]
  },
  {
   "cell_type": "markdown",
   "id": "fdb8c61b",
   "metadata": {},
   "source": [
    "## Avoiding Infinite Loops\n",
    "\n",
    "Every while loop needs a way to stop running so it won’t continue to run forever. For example, this counting loop should count from 1 to 5:"
   ]
  },
  {
   "cell_type": "code",
   "execution_count": 20,
   "id": "5702f3ca",
   "metadata": {},
   "outputs": [
    {
     "name": "stdout",
     "output_type": "stream",
     "text": [
      "1\n",
      "2\n",
      "3\n",
      "4\n",
      "5\n"
     ]
    }
   ],
   "source": [
    "x = 1\n",
    "while x <= 5:\n",
    "    print(x)\n",
    "    x += 1"
   ]
  },
  {
   "cell_type": "code",
   "execution_count": 21,
   "id": "62fe5c97",
   "metadata": {},
   "outputs": [],
   "source": [
    "# # This loop runs forever!\n",
    "# x = 1\n",
    "# while x <= 5:\n",
    "#     print(x)"
   ]
  },
  {
   "cell_type": "markdown",
   "id": "93d96e80",
   "metadata": {},
   "source": [
    "## Letting the User Choose When to Quit\n",
    "\n",
    "We can make the parrot.py program run as long as the user wants by putting most of the program inside a while loop. We’ll define a quit value and then keep the program running as long as the user has not entered the quit value:"
   ]
  },
  {
   "cell_type": "code",
   "execution_count": 22,
   "id": "71750239",
   "metadata": {},
   "outputs": [
    {
     "name": "stdout",
     "output_type": "stream",
     "text": [
      "Enter a number, and I'll tell you if it's even or odd: 2\n",
      "\n",
      "The number 2 is even.\n",
      "Enter a number, and I'll tell you if it's even or odd: 3\n",
      "\n",
      "The number 3 is odd.\n",
      "Enter a number, and I'll tell you if it's even or odd: 3\n",
      "\n",
      "The number 3 is odd.\n",
      "Enter a number, and I'll tell you if it's even or odd: 0\n",
      "\n",
      "The number 0 is even.\n",
      "Enter a number, and I'll tell you if it's even or odd: quit\n"
     ]
    }
   ],
   "source": [
    "while True:\n",
    "    number = input(\"Enter a number, and I'll tell you if it's even or odd: \")\n",
    "    if number == 'quit':\n",
    "        break\n",
    "       \n",
    "    number = int(number)\n",
    "\n",
    "    if number % 2 == 0:\n",
    "        print(f\"\\nThe number {number} is even.\")\n",
    "    else:\n",
    "        print(f\"\\nThe number {number} is odd.\")"
   ]
  },
  {
   "cell_type": "code",
   "execution_count": 23,
   "id": "855f9c3e",
   "metadata": {},
   "outputs": [
    {
     "name": "stdout",
     "output_type": "stream",
     "text": [
      "Enter a number, and I'll tell you if it's even or odd: kkk\n",
      "Please enter a number.\n",
      "Enter a number, and I'll tell you if it's even or odd: jjj\n",
      "Please enter a number.\n",
      "Enter a number, and I'll tell you if it's even or odd: 8\n",
      "\n",
      "The number 8 is even.\n",
      "Enter a number, and I'll tell you if it's even or odd: quit\n"
     ]
    }
   ],
   "source": [
    "while True:\n",
    "    number = input(\"Enter a number, and I'll tell you if it's even or odd: \")\n",
    "    if number == 'quit':\n",
    "        break\n",
    "    try:   \n",
    "        number = int(number)\n",
    "    except:\n",
    "        print('Please enter a number.')\n",
    "        continue\n",
    "\n",
    "    if number % 2 == 0:\n",
    "        print(f\"\\nThe number {number} is even.\")\n",
    "    else:\n",
    "        print(f\"\\nThe number {number} is odd.\")"
   ]
  },
  {
   "cell_type": "markdown",
   "id": "c67afff8",
   "metadata": {},
   "source": [
    "# Finish"
   ]
  },
  {
   "cell_type": "markdown",
   "id": "58233460",
   "metadata": {},
   "source": [
    "## References\n",
    "\n",
    "-   Matthes, Eric (2022). _Python Crash Course, 3rd Edition: A Hands-On, Project-Based Introduction to Programming_. No Starch Press. ISBN: 978-1593279288. ([Publisher website](https://nostarch.com/python-crash-course-3rd-edition))\n",
    "- Dr.Qiusheng Wu online lecture"
   ]
  }
 ],
 "metadata": {
  "kernelspec": {
   "display_name": "Python 3 (ipykernel)",
   "language": "python",
   "name": "python3"
  },
  "language_info": {
   "codemirror_mode": {
    "name": "ipython",
    "version": 3
   },
   "file_extension": ".py",
   "mimetype": "text/x-python",
   "name": "python",
   "nbconvert_exporter": "python",
   "pygments_lexer": "ipython3",
   "version": "3.9.16"
  }
 },
 "nbformat": 4,
 "nbformat_minor": 5
}
