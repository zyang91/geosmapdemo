{
 "cells": [
  {
   "cell_type": "markdown",
   "id": "bfbef714",
   "metadata": {},
   "source": [
    "# Introducing List\n",
    "In this lecture and the next you’ll learn what lists are and how to start working with the elements in a list. Lists allow you to store sets of information in one place, whether you have just a few items or millions of items. Lists are one of Python’s most powerful features readily accessible to new programmers, and they tie together many important concepts in programming.\n",
    "\n",
    "\n",
    "## Type in Python\n",
    "\n",
    "Python have a built-in method called as type which generally come in handy while figuring out the type of variable used in the program in the runtime.\n",
    "\n",
    "If a single argument (object) is passed to type() built-in, it returns type of the given object. If three arguments (name, bases and dict) are passed, it returns a new type object."
   ]
  },
  {
   "cell_type": "markdown",
   "id": "9591d5e5",
   "metadata": {},
   "source": [
    "[![image](https://colab.research.google.com/assets/colab-badge.svg)](https://colab.research.google.com/github/zyang91/GEOG-510/blob/main/python_code/GEOG510_list.ipynb)"
   ]
  },
  {
   "cell_type": "code",
   "execution_count": 1,
   "id": "dc893462",
   "metadata": {},
   "outputs": [],
   "source": [
    "x = 5\n",
    "y = \"What going on?\"\n",
    "z = [1,2,3]\n"
   ]
  },
  {
   "cell_type": "code",
   "execution_count": 3,
   "id": "9e176c98",
   "metadata": {},
   "outputs": [
    {
     "name": "stdout",
     "output_type": "stream",
     "text": [
      "<class 'int'>\n",
      "<class 'str'>\n",
      "<class 'list'>\n"
     ]
    }
   ],
   "source": [
    "print(type(x))\n",
    "print(type(y))\n",
    "print(type(z))"
   ]
  },
  {
   "cell_type": "markdown",
   "id": "2fa9ad7c",
   "metadata": {},
   "source": [
    "## What is a List?\n",
    "\n",
    "A list is a collection of items in a particular order. You can make a list that includes the letters of the alphabet, the digits from 0–9, or the names of all the people in your family. You can put anything you want into a list, and the items in your list don’t have to be related in any particular way. Because a list usually contains more than one element, it’s a good idea to make the name of your list plural, such as letters, digits, or names. In Python, square brackets ([]) indicate a list, and individual elements in the list are separated by commas. Here’s a simple example of a list that contains a few kinds of bicycles:"
   ]
  },
  {
   "cell_type": "code",
   "execution_count": 8,
   "id": "3835918d",
   "metadata": {},
   "outputs": [
    {
     "data": {
      "text/plain": [
       "['trees', 'command', 'apple', 4, 'redlines']"
      ]
     },
     "execution_count": 8,
     "metadata": {},
     "output_type": "execute_result"
    }
   ],
   "source": [
    "bicycle = ['trees', 'command', 'apple', 4, 'redlines']\n",
    "bicycle"
   ]
  },
  {
   "cell_type": "markdown",
   "id": "0f84b3cb",
   "metadata": {},
   "source": [
    "### Accessing Elements in a List\n",
    "\n",
    "Accessing Elements in a List Lists are ordered collections, so you can access any element in a list by telling Python the position, or index, of the item desired. To access an element in a list, write the name of the list followed by the index of the item enclosed in square brackets. For example, let’s pull out the first bicycle in the list bicycles:"
   ]
  },
  {
   "cell_type": "code",
   "execution_count": 6,
   "id": "0290a5cb",
   "metadata": {},
   "outputs": [
    {
     "name": "stdout",
     "output_type": "stream",
     "text": [
      "trees\n"
     ]
    }
   ],
   "source": [
    "print(bicycle[0])"
   ]
  },
  {
   "cell_type": "markdown",
   "id": "d8006020",
   "metadata": {},
   "source": [
    "You can also use the string methods from Chapter 2 on any element in this list. For example, you can format the element 'trek' more neatly by using the title() method:"
   ]
  },
  {
   "cell_type": "code",
   "execution_count": 7,
   "id": "00903419",
   "metadata": {
    "scrolled": false
   },
   "outputs": [
    {
     "name": "stdout",
     "output_type": "stream",
     "text": [
      "Trees\n"
     ]
    }
   ],
   "source": [
    "print(bicycle[0].title())"
   ]
  },
  {
   "cell_type": "markdown",
   "id": "a53cfada",
   "metadata": {},
   "source": [
    "### Index Positions Start at 0, Not 1\n",
    "\n",
    "Python considers the first item in a list to be at position 0, not position 1. This is true of most programming languages, and the reason has to do with how the list operations are implemented at a lower level. If you’re receiving unexpected results, determine whether you are making a simple off-by-one error.\n",
    "\n",
    "The second item in a list has an index of 1. Using this counting sys tem, you can get any element you want from a list by subtracting one from its position in the list. For instance, to access the fourth item in a list, you request the item at index 3.\n",
    "\n",
    "The following asks for the bicycles at index 1 and index 3:"
   ]
  },
  {
   "cell_type": "code",
   "execution_count": 9,
   "id": "2866832e",
   "metadata": {
    "scrolled": true
   },
   "outputs": [
    {
     "name": "stdout",
     "output_type": "stream",
     "text": [
      "Apple\n"
     ]
    }
   ],
   "source": [
    "print(bicycle[2].title())"
   ]
  },
  {
   "cell_type": "markdown",
   "id": "1d238518",
   "metadata": {},
   "source": [
    "Python has a special syntax for accessing the last element in a list. By ask ing for the item at index -1, Python always returns the last item in the list:"
   ]
  },
  {
   "cell_type": "code",
   "execution_count": 11,
   "id": "999ee63d",
   "metadata": {},
   "outputs": [
    {
     "name": "stdout",
     "output_type": "stream",
     "text": [
      "4\n"
     ]
    }
   ],
   "source": [
    "print(bicycle[-2])\n",
    "# count from back"
   ]
  },
  {
   "cell_type": "code",
   "execution_count": 12,
   "id": "bcff5ef3",
   "metadata": {},
   "outputs": [
    {
     "name": "stdout",
     "output_type": "stream",
     "text": [
      "Redlines\n"
     ]
    }
   ],
   "source": [
    "print(bicycle[-1].title())"
   ]
  },
  {
   "cell_type": "code",
   "execution_count": 14,
   "id": "eda694f2",
   "metadata": {},
   "outputs": [
    {
     "data": {
      "text/plain": [
       "'command'"
      ]
     },
     "execution_count": 14,
     "metadata": {},
     "output_type": "execute_result"
    }
   ],
   "source": [
    "sel = bicycle[1]\n",
    "sel"
   ]
  },
  {
   "cell_type": "code",
   "execution_count": 16,
   "id": "70c994eb",
   "metadata": {},
   "outputs": [
    {
     "data": {
      "text/plain": [
       "'Command'"
      ]
     },
     "execution_count": 16,
     "metadata": {},
     "output_type": "execute_result"
    }
   ],
   "source": [
    "sel.upper().title()"
   ]
  },
  {
   "cell_type": "code",
   "execution_count": 20,
   "id": "8dc070d2",
   "metadata": {},
   "outputs": [
    {
     "data": {
      "text/plain": [
       "'o'"
      ]
     },
     "execution_count": 20,
     "metadata": {},
     "output_type": "execute_result"
    }
   ],
   "source": [
    "sel.upper().title()[1]\n",
    "# text is considered list\n",
    "# index must be short, not larger than the maximum\n",
    "# sel[7]"
   ]
  },
  {
   "cell_type": "markdown",
   "id": "3b61a0ba",
   "metadata": {},
   "source": [
    "### Using Individual Values from a List\n",
    "\n",
    "You can use individual values from a list just as you would any other variable. For example, you can use f-strings to create a message based on a value from a list. Let’s try pulling the first bicycle from the list and composing a message using that value."
   ]
  },
  {
   "cell_type": "code",
   "execution_count": 21,
   "id": "efed645f",
   "metadata": {},
   "outputs": [
    {
     "name": "stdout",
     "output_type": "stream",
     "text": [
      "My first bicycle was a Trek.\n"
     ]
    }
   ],
   "source": [
    "bicycles = ['trek', 'cannondale', 'redline', 'specialized']\n",
    "message = f\"My first bicycle was a {bicycles[0].title()}.\"\n",
    "print(message)"
   ]
  },
  {
   "cell_type": "markdown",
   "id": "2c89d540",
   "metadata": {},
   "source": [
    "## Changing, Adding, and Removing Elements\n",
    "\n",
    "Most lists you create will be dynamic, meaning you’ll build a list and then add and remove elements from it as your program runs its course. For example, you might create a game in which a player has to shoot aliens out of the sky. You could store the initial set of aliens in a list and then remove an alien from the list each time one is shot down. Each time a new alien appears on the screen, you add it to the list. Your list of aliens will increase and decrease in length throughout the course of the game.\n",
    "\n",
    "### Modifying Elements in a List\n",
    "\n",
    "The syntax for modifying an element is similar to the syntax for accessing an element in a list. To change an element, use the name of the list followed by the index of the element you want to change, and then provide the new value you want that item to have.\n",
    "For example, let’s say we have a list of motorcycles, and the first item in the list is 'honda'. How would we change the value of this first item?"
   ]
  },
  {
   "cell_type": "code",
   "execution_count": 22,
   "id": "91893108",
   "metadata": {},
   "outputs": [
    {
     "data": {
      "text/plain": [
       "['Eric', 'John', 'deng']"
      ]
     },
     "execution_count": 22,
     "metadata": {},
     "output_type": "execute_result"
    }
   ],
   "source": [
    "motorcycles = ['Eric', 'John', 'deng']\n",
    "motorcycles"
   ]
  },
  {
   "cell_type": "code",
   "execution_count": 23,
   "id": "f24157bc",
   "metadata": {},
   "outputs": [
    {
     "data": {
      "text/plain": [
       "['Cheng', 'John', 'deng']"
      ]
     },
     "execution_count": 23,
     "metadata": {},
     "output_type": "execute_result"
    }
   ],
   "source": [
    "motorcycles[0]= 'Cheng'\n",
    "motorcycles"
   ]
  },
  {
   "cell_type": "markdown",
   "id": "5d3071bd",
   "metadata": {},
   "source": [
    "### Adding Elements to a List\n",
    "\n",
    "You might want to add a new element to a list for many reasons. For example, you might want to make new aliens appear in a game, add new data to a visualization, or add new registered users to a website you’ve built. Python provides several ways to add new data to existing lists.\n",
    "\n",
    "#### Appending Elements to the End of a List\n",
    "\n",
    "The simplest way to add a new element to a list is to append the item to the list. When you append an item to a list, the new element is added to the end of the list. Using the same list we had in the previous example, we’ll add the new element 'ducati' to the end of the list:"
   ]
  },
  {
   "cell_type": "code",
   "execution_count": 24,
   "id": "121cd918",
   "metadata": {},
   "outputs": [
    {
     "data": {
      "text/plain": [
       "['Cheng', 'John', 'deng', 'Roy']"
      ]
     },
     "execution_count": 24,
     "metadata": {},
     "output_type": "execute_result"
    }
   ],
   "source": [
    "motorcycles.append('Roy')\n",
    "motorcycles"
   ]
  },
  {
   "cell_type": "markdown",
   "id": "ca99ebbc",
   "metadata": {},
   "source": [
    "The append() method makes it easy to build lists dynamically. For example, you can start with an empty list and then add items to the list using a series of append() calls. Using an empty list, let’s add the elements 'honda', 'yamaha', and 'suzuki' to the list:"
   ]
  },
  {
   "cell_type": "code",
   "execution_count": 26,
   "id": "132c6118",
   "metadata": {},
   "outputs": [
    {
     "data": {
      "text/plain": [
       "['Eric', 'Deng', 'John']"
      ]
     },
     "execution_count": 26,
     "metadata": {},
     "output_type": "execute_result"
    }
   ],
   "source": [
    "motorcyles = []\n",
    "motorcyles.append('Eric')\n",
    "motorcyles.append('Deng')\n",
    "motorcyles.append('John')\n",
    "motorcyles"
   ]
  },
  {
   "cell_type": "markdown",
   "id": "ba23906a",
   "metadata": {},
   "source": [
    "##### different between (), and []"
   ]
  },
  {
   "cell_type": "code",
   "execution_count": 27,
   "id": "9101ee3e",
   "metadata": {},
   "outputs": [],
   "source": [
    "a =() # tuple"
   ]
  },
  {
   "cell_type": "code",
   "execution_count": 28,
   "id": "1858f549",
   "metadata": {},
   "outputs": [],
   "source": [
    "b =[] # list"
   ]
  },
  {
   "cell_type": "code",
   "execution_count": 29,
   "id": "93ff580c",
   "metadata": {},
   "outputs": [],
   "source": [
    "c ={} # dictionary"
   ]
  },
  {
   "cell_type": "markdown",
   "id": "307059a6",
   "metadata": {},
   "source": [
    "### Inserting Elements into a List\n",
    "\n",
    "You can add a new element at any position in your list by using the insert() method. You do this by specifying the index of the new element and the value of the new item."
   ]
  },
  {
   "cell_type": "code",
   "execution_count": 32,
   "id": "ae732e56",
   "metadata": {},
   "outputs": [
    {
     "data": {
      "text/plain": [
       "['Cheng', 'Eric', 'Yang', 'Hu']"
      ]
     },
     "execution_count": 32,
     "metadata": {},
     "output_type": "execute_result"
    }
   ],
   "source": [
    "motorcycles = ['Eric', 'Yang', 'Hu']\n",
    "motorcycles.insert(0, 'Cheng')\n",
    "motorcycles"
   ]
  },
  {
   "cell_type": "code",
   "execution_count": 33,
   "id": "a057c77c",
   "metadata": {},
   "outputs": [
    {
     "data": {
      "text/plain": [
       "['Cheng', 'Eric', 'Liu', 'Yang', 'Hu']"
      ]
     },
     "execution_count": 33,
     "metadata": {},
     "output_type": "execute_result"
    }
   ],
   "source": [
    "motorcycles.insert(2, 'Liu')\n",
    "motorcycles"
   ]
  },
  {
   "cell_type": "markdown",
   "id": "a13ac302",
   "metadata": {},
   "source": [
    "### Removing Elements from a List\n",
    "\n",
    "Often, you’ll want to remove an item or a set of items from a list. For example, when a player shoots down an alien from the sky, you’ll most likely want to remove it from the list of active aliens. Or when a user decides to cancel their account on a web application you created, you’ll want to remove that user from the list of active users. You can remove an item according to its position in the list or according to its value. Removing an Item Using the del Statement If you know the position of the item you want to remove from a list, you can use the del statement."
   ]
  },
  {
   "cell_type": "code",
   "execution_count": 34,
   "id": "dd9fdf10",
   "metadata": {},
   "outputs": [
    {
     "data": {
      "text/plain": [
       "['Eric', 'Liu', 'Yang', 'Hu']"
      ]
     },
     "execution_count": 34,
     "metadata": {},
     "output_type": "execute_result"
    }
   ],
   "source": [
    "del motorcycles[0]\n",
    "motorcycles"
   ]
  },
  {
   "cell_type": "code",
   "execution_count": 35,
   "id": "429e8828",
   "metadata": {},
   "outputs": [
    {
     "data": {
      "text/plain": [
       "['Eric', 'Yang', 'Hu']"
      ]
     },
     "execution_count": 35,
     "metadata": {},
     "output_type": "execute_result"
    }
   ],
   "source": [
    "del motorcycles[1]\n",
    "motorcycles"
   ]
  },
  {
   "cell_type": "code",
   "execution_count": 36,
   "id": "7b0db3ed",
   "metadata": {},
   "outputs": [],
   "source": [
    "del motorcycles # no longer exist"
   ]
  },
  {
   "cell_type": "code",
   "execution_count": 37,
   "id": "b4e00402",
   "metadata": {},
   "outputs": [
    {
     "ename": "NameError",
     "evalue": "name 'motorcycles' is not defined",
     "output_type": "error",
     "traceback": [
      "\u001b[1;31m---------------------------------------------------------------------------\u001b[0m",
      "\u001b[1;31mNameError\u001b[0m                                 Traceback (most recent call last)",
      "Cell \u001b[1;32mIn[37], line 1\u001b[0m\n\u001b[1;32m----> 1\u001b[0m \u001b[43mmotorcycles\u001b[49m\n",
      "\u001b[1;31mNameError\u001b[0m: name 'motorcycles' is not defined"
     ]
    }
   ],
   "source": [
    "motorcycles"
   ]
  },
  {
   "cell_type": "markdown",
   "id": "1fccbd21",
   "metadata": {},
   "source": [
    "### del function can delete anything; delete function, variables, list, or item within the list etc."
   ]
  },
  {
   "cell_type": "markdown",
   "id": "3252e779",
   "metadata": {},
   "source": [
    "### Removing an Item Using the pop() Method\n",
    "\n",
    "Sometimes you’ll want to use the value of an item after you remove it from a list. For example, you might want to get the x and y position of an alien that was just shot down, so you can draw an explosion at that position. In a web application, you might want to remove a user from a list of active members and then add that user to a list of inactive members. The pop() method removes the last item in a list, but it lets you work with that item after removing it. The term pop comes from thinking of a list as a stack of items and popping one item off the top of the stack. In this analogy, the top of a stack corresponds to the end of a list."
   ]
  },
  {
   "cell_type": "code",
   "execution_count": 38,
   "id": "66ad2ace",
   "metadata": {},
   "outputs": [
    {
     "data": {
      "text/plain": [
       "'yang'"
      ]
     },
     "execution_count": 38,
     "metadata": {},
     "output_type": "execute_result"
    }
   ],
   "source": [
    "motor = ['honda', 'chen', 'yang']\n",
    "pop_motor = motor.pop()\n",
    "pop_motor # last in the list"
   ]
  },
  {
   "cell_type": "code",
   "execution_count": 40,
   "id": "b167ffb7",
   "metadata": {},
   "outputs": [
    {
     "name": "stdout",
     "output_type": "stream",
     "text": [
      "the last motorcycle I owned was a Chen.\n"
     ]
    }
   ],
   "source": [
    "last_own=motor.pop()\n",
    "print(f\"the last motorcycle I owned was a {last_own.title()}.\")"
   ]
  },
  {
   "cell_type": "markdown",
   "id": "7ca57254",
   "metadata": {},
   "source": [
    "### Popping Items from any Position in a List\n",
    "\n",
    "You can use pop() to remove an item from any position in a list by including the index of the item you want to remove in parentheses."
   ]
  },
  {
   "cell_type": "code",
   "execution_count": 41,
   "id": "c01a90c7",
   "metadata": {},
   "outputs": [
    {
     "name": "stdout",
     "output_type": "stream",
     "text": [
      "the last motorcycle I owned was a Honda.\n"
     ]
    }
   ],
   "source": [
    "first_owned = motor.pop(0)\n",
    "print(f\"the last motorcycle I owned was a {first_owned.title()}.\")"
   ]
  },
  {
   "cell_type": "markdown",
   "id": "0b6fd564",
   "metadata": {},
   "source": [
    "### Removing an Item by Value\n",
    "\n",
    "Sometimes you won’t know the position of the value you want to remove from a list. If you only know the value of the item you want to remove, you can use the remove() method. For example, let’s say we want to remove the value 'ducati' from the list of motorcycles."
   ]
  },
  {
   "cell_type": "code",
   "execution_count": 56,
   "id": "922030a8",
   "metadata": {},
   "outputs": [
    {
     "data": {
      "text/plain": [
       "['yamha', 'honda', 'suzuki', 'chen']"
      ]
     },
     "execution_count": 56,
     "metadata": {},
     "output_type": "execute_result"
    }
   ],
   "source": [
    "\n",
    "motor.append('chen')\n",
    "motor"
   ]
  },
  {
   "cell_type": "code",
   "execution_count": 57,
   "id": "c54614a2",
   "metadata": {},
   "outputs": [
    {
     "data": {
      "text/plain": [
       "['yamha', 'honda', 'suzuki']"
      ]
     },
     "execution_count": 57,
     "metadata": {},
     "output_type": "execute_result"
    }
   ],
   "source": [
    "motor.remove('chen')\n",
    "motor"
   ]
  },
  {
   "cell_type": "code",
   "execution_count": 58,
   "id": "d265226b",
   "metadata": {},
   "outputs": [
    {
     "name": "stdout",
     "output_type": "stream",
     "text": [
      "['honda', 'yamaha', 'suzuki', 'ducati']\n",
      "['honda', 'yamaha', 'suzuki']\n",
      "\n",
      "A Ducati is too expensive for me.\n"
     ]
    }
   ],
   "source": [
    "motorcycles = ['honda', 'yamaha', 'suzuki', 'ducati']\n",
    "print(motorcycles)\n",
    "too_expensive = 'ducati'\n",
    "motorcycles.remove(too_expensive)\n",
    "print(motorcycles)\n",
    "print(f\"\\nA {too_expensive.title()} is too expensive for me.\")"
   ]
  },
  {
   "cell_type": "markdown",
   "id": "73d5102e",
   "metadata": {},
   "source": [
    "## Organizing a List\n",
    "\n",
    "Often, your lists will be created in an unpredictable order, because you can’t always control the order in which your users provide their data. Although this is unavoidable in most circumstances, you’ll frequently want to present your information in a particular order. Sometimes you’ll want to preserve the original order of your list, and other times you’ll want to change the original order. Python provides a number of different ways to organize your lists, depending on the situation.\n",
    "\n",
    "### Sorting a List Permanently with the sort() Method\n",
    "\n",
    "Python’s sort() method makes it relatively easy to sort a list. Imagine we have a list of cars and want to change the order of the list to store them alphabetically. To keep the task simple, let’s assume that all the values in the list are lowercase."
   ]
  },
  {
   "cell_type": "code",
   "execution_count": 59,
   "id": "7d96e70b",
   "metadata": {},
   "outputs": [
    {
     "data": {
      "text/plain": [
       "['audi', 'bwc', 'hongqi', 'toyota']"
      ]
     },
     "execution_count": 59,
     "metadata": {},
     "output_type": "execute_result"
    }
   ],
   "source": [
    "cars = ['audi','hongqi','toyota', 'bwc']\n",
    "cars.sort()\n",
    "cars"
   ]
  },
  {
   "cell_type": "markdown",
   "id": "d444ef44",
   "metadata": {},
   "source": [
    "You can also sort this list in reverse alphabetical order by passing the argument reverse=True to the sort() method. The following example sorts the list of cars in reverse alphabetical order:"
   ]
  },
  {
   "cell_type": "code",
   "execution_count": 61,
   "id": "9812ce0a",
   "metadata": {},
   "outputs": [
    {
     "data": {
      "text/plain": [
       "['toyota', 'hongqi', 'bwc', 'audi']"
      ]
     },
     "execution_count": 61,
     "metadata": {},
     "output_type": "execute_result"
    }
   ],
   "source": [
    "cars.sort(reverse=True)\n",
    "cars"
   ]
  },
  {
   "cell_type": "markdown",
   "id": "48a43986",
   "metadata": {},
   "source": [
    "### Sorting a List Temporarily with the sorted() Function\n",
    "\n",
    "To maintain the original order of a list but present it in a sorted order, you can use the sorted() function. The sorted() function lets you display your list in a particular order but doesn’t affect the actual order of the list. Let’s try this function on the list of cars."
   ]
  },
  {
   "cell_type": "code",
   "execution_count": 62,
   "id": "dc25f020",
   "metadata": {},
   "outputs": [
    {
     "name": "stdout",
     "output_type": "stream",
     "text": [
      "Here is the original list:\n",
      "['bmw', 'audi', 'toyota', 'subaru']\n",
      "\n",
      "Here is the sorted list:\n",
      "['audi', 'bmw', 'subaru', 'toyota']\n",
      "\n",
      "Here is the original list again:\n",
      "['bmw', 'audi', 'toyota', 'subaru']\n"
     ]
    }
   ],
   "source": [
    "cars = ['bmw', 'audi', 'toyota', 'subaru']\n",
    "print(\"Here is the original list:\")\n",
    "print(cars)\n",
    "print(\"\\nHere is the sorted list:\")\n",
    "print(sorted(cars))\n",
    "print(\"\\nHere is the original list again:\")\n",
    "print(cars)"
   ]
  },
  {
   "cell_type": "markdown",
   "id": "c71fcc22",
   "metadata": {},
   "source": [
    "### Printing a List in Reverse Order\n",
    "\n",
    "To reverse the original order of a list, you can use the reverse() method. If we originally stored the list of cars in chronological order according to when we owned them, we could easily rearrange the list into reverse chronological order:"
   ]
  },
  {
   "cell_type": "code",
   "execution_count": 63,
   "id": "243d94c5",
   "metadata": {},
   "outputs": [
    {
     "data": {
      "text/plain": [
       "['subaru', 'toyota', 'audi', 'bmw']"
      ]
     },
     "execution_count": 63,
     "metadata": {},
     "output_type": "execute_result"
    }
   ],
   "source": [
    "cars.reverse()\n",
    "cars"
   ]
  },
  {
   "cell_type": "markdown",
   "id": "1c1eaed4",
   "metadata": {},
   "source": [
    "### Finding the Length of a List\n",
    "\n",
    "You can quickly find the length of a list by using the len() function. The list in this example has four items, so its length is 4:"
   ]
  },
  {
   "cell_type": "code",
   "execution_count": 64,
   "id": "e6692826",
   "metadata": {},
   "outputs": [
    {
     "data": {
      "text/plain": [
       "4"
      ]
     },
     "execution_count": 64,
     "metadata": {},
     "output_type": "execute_result"
    }
   ],
   "source": [
    "len(cars)"
   ]
  },
  {
   "cell_type": "code",
   "execution_count": 65,
   "id": "6c914874",
   "metadata": {},
   "outputs": [
    {
     "data": {
      "text/plain": [
       "8"
      ]
     },
     "execution_count": 65,
     "metadata": {},
     "output_type": "execute_result"
    }
   ],
   "source": [
    "cars = ['bmw', 'audi', 'toyota', 'subaru', 1, 3, 4, 20]\n",
    "len(cars)"
   ]
  },
  {
   "cell_type": "markdown",
   "id": "d1f28a89",
   "metadata": {},
   "source": [
    "## Avoiding Index Errors When Working with Lists\n",
    "\n",
    "One type of error is common to see when you’re working with lists for the first time. Let’s say you have a list with three items, and you ask for the fourth item:"
   ]
  },
  {
   "cell_type": "code",
   "execution_count": 66,
   "id": "c11be3a0",
   "metadata": {},
   "outputs": [
    {
     "ename": "IndexError",
     "evalue": "list index out of range",
     "output_type": "error",
     "traceback": [
      "\u001b[1;31m---------------------------------------------------------------------------\u001b[0m",
      "\u001b[1;31mIndexError\u001b[0m                                Traceback (most recent call last)",
      "Cell \u001b[1;32mIn[66], line 1\u001b[0m\n\u001b[1;32m----> 1\u001b[0m \u001b[38;5;28mprint\u001b[39m(\u001b[43mcars\u001b[49m\u001b[43m[\u001b[49m\u001b[38;5;241;43m8\u001b[39;49m\u001b[43m]\u001b[49m)\n",
      "\u001b[1;31mIndexError\u001b[0m: list index out of range"
     ]
    }
   ],
   "source": [
    "print(cars[8])"
   ]
  },
  {
   "cell_type": "markdown",
   "id": "7fbec6ce",
   "metadata": {},
   "source": [
    "# Finish"
   ]
  },
  {
   "cell_type": "markdown",
   "id": "ee90e37e",
   "metadata": {},
   "source": [
    "## References\n",
    "\n",
    "-   Matthes, Eric (2022). _Python Crash Course, 3rd Edition: A Hands-On, Project-Based Introduction to Programming_. No Starch Press. ISBN: 978-1593279288. ([Publisher website](https://nostarch.com/python-crash-course-3rd-edition))\n",
    "- Dr.Qiusheng Wu online lecture"
   ]
  }
 ],
 "metadata": {
  "kernelspec": {
   "display_name": "Python 3 (ipykernel)",
   "language": "python",
   "name": "python3"
  },
  "language_info": {
   "codemirror_mode": {
    "name": "ipython",
    "version": 3
   },
   "file_extension": ".py",
   "mimetype": "text/x-python",
   "name": "python",
   "nbconvert_exporter": "python",
   "pygments_lexer": "ipython3",
   "version": "3.9.16"
  }
 },
 "nbformat": 4,
 "nbformat_minor": 5
}
