{
 "cells": [
  {
   "cell_type": "markdown",
   "id": "2e60f92b",
   "metadata": {},
   "source": [
    "# Working with Lists\n",
    "In this lecture you’ll learn how to loop through an entire list using just a few lines of code regardless of how long the list is. Looping allows you to take the same action, or set of actions, with every item in a list. As a result, you’ll be able to work efficiently with lists of any length, including those with thousands or even millions of items.\n",
    "\n",
    "\n",
    "\n",
    "## Looping Through an Entire List\n",
    "You’ll often want to run through all entries in a list, performing the same task with each item. For example, in a game you might want to move every element on the screen by the same amount, or in a list of numbers you might want to perform the same statistical operation on every element. Or perhaps you’ll want to display each headline from a list of articles on a website. When you want to do the same action with every item in a list, you can use Python’s for loop.\n",
    "Let’s say we have a list of magicians’ names, and we want to print out each name in the list. We could do this by retrieving each name from the list individually, but this approach could cause several problems. For one, it would be repetitive to do this with a long list of names. Also, we’d have to change our code each time the list’s length changed. A for loop avoids both of these issues by letting Python manage these issues internally. Let’s use a for loop to print out each name in a list of magicians:"
   ]
  },
  {
   "cell_type": "markdown",
   "id": "55ca30aa",
   "metadata": {},
   "source": [
    "[![image](https://colab.research.google.com/assets/colab-badge.svg)](https://colab.research.google.com/github/zyang91/GEOG-510/blob/main/python_code/working_with_list.ipynb)"
   ]
  },
  {
   "cell_type": "code",
   "execution_count": 3,
   "id": "378f234f",
   "metadata": {},
   "outputs": [
    {
     "name": "stdout",
     "output_type": "stream",
     "text": [
      "Alice\n",
      "David\n",
      "Caroline\n"
     ]
    }
   ],
   "source": [
    "magicians = ['Alice', 'david', 'caroline']\n",
    "for a in magicians:\n",
    "    print(a.title())"
   ]
  },
  {
   "cell_type": "markdown",
   "id": "61af97d9",
   "metadata": {},
   "source": [
    "When you’re using loops for the first time, keep in mind that the set of steps is repeated once for each item in the list, no matter how many items are in the list. If you have a million items in your list, Python repeats these steps a million times—and usually very quickly. Also keep in mind when writing your own for loops that you can choose any name you want for the temporary variable that will be associated with each value in the list. However, it’s helpful to choose a meaningful name that represents a single item from the list.\n",
    "\n",
    "These naming conventions can help you follow the action being done on each item within a for loop. Using singular and plural names can help you identify whether a section of code is working with a single element from the list or the entire list.\n",
    "\n",
    "### Doing More Work Within a for Loop\n",
    "\n",
    "You can do just about anything with each item in a for loop. Let’s build on the previous example by printing a message to each magician, telling them that they performed a great trick:"
   ]
  },
  {
   "cell_type": "code",
   "execution_count": 4,
   "id": "5b994a40",
   "metadata": {},
   "outputs": [
    {
     "name": "stdout",
     "output_type": "stream",
     "text": [
      "Alice, that was a great trick!\n",
      "David, that was a great trick!\n",
      "Caroline, that was a great trick!\n"
     ]
    }
   ],
   "source": [
    "for magician in magicians:\n",
    "    print(f\"{magician.title()}, that was a great trick!\")\n",
    "    "
   ]
  },
  {
   "cell_type": "code",
   "execution_count": 5,
   "id": "9283803e",
   "metadata": {},
   "outputs": [
    {
     "name": "stdout",
     "output_type": "stream",
     "text": [
      "Alice, that was a great trick!\n",
      "I can't wait to see your next trick, Alice.\n",
      "\n",
      "David, that was a great trick!\n",
      "I can't wait to see your next trick, David.\n",
      "\n",
      "Caroline, that was a great trick!\n",
      "I can't wait to see your next trick, Caroline.\n",
      "\n"
     ]
    }
   ],
   "source": [
    "for magician in magicians:\n",
    "    print(f\"{magician.title()}, that was a great trick!\")\n",
    "    print(f\"I can't wait to see your next trick, {magician.title()}.\\n\")"
   ]
  },
  {
   "cell_type": "markdown",
   "id": "76fe9bd5",
   "metadata": {},
   "source": [
    "### Doing Something After a for Loop\n",
    "\n",
    "What happens once a for loop has finished executing? Usually, you’ll want to summarize a block of output or move on to other work that your program must accomplish. Any lines of code after the for loop that are not indented are executed once without repetition. Let’s write a thank you to the group of magicians as a whole, thanking them for putting on an excellent show. To display this group message after all of the individual messages have been printed, we place the thank you message after the for loop without indentation:"
   ]
  },
  {
   "cell_type": "code",
   "execution_count": 6,
   "id": "6a19c921",
   "metadata": {},
   "outputs": [
    {
     "name": "stdout",
     "output_type": "stream",
     "text": [
      "Alice, that was a great trick!\n",
      "I can't wait to see your next trick, Alice.\n",
      "\n",
      "David, that was a great trick!\n",
      "I can't wait to see your next trick, David.\n",
      "\n",
      "Carolina, that was a great trick!\n",
      "I can't wait to see your next trick, Carolina.\n",
      "\n",
      "Thank you, everyone. That was a great magic show!\n"
     ]
    }
   ],
   "source": [
    "magicians = ['alice', 'david', 'carolina']\n",
    "for magician in magicians:\n",
    "    print(f\"{magician.title()}, that was a great trick!\")\n",
    "    print(f\"I can't wait to see your next trick, {magician.title()}.\\n\")\n",
    "    \n",
    "print(\"Thank you, everyone. That was a great magic show!\")"
   ]
  },
  {
   "cell_type": "code",
   "execution_count": 8,
   "id": "e780ebff",
   "metadata": {},
   "outputs": [
    {
     "data": {
      "text/plain": [
       "'carolina'"
      ]
     },
     "execution_count": 8,
     "metadata": {},
     "output_type": "execute_result"
    }
   ],
   "source": [
    "magician #in memories, variable last time they were assigned"
   ]
  },
  {
   "cell_type": "markdown",
   "id": "ad0dfdd0",
   "metadata": {},
   "source": [
    "## Avoiding Indentation Errors\n",
    "\n",
    "Python uses indentation to determine how a line, or group of lines, is related to the rest of the program. In the previous examples, the lines that printed messages to individual magicians were part of the for loop because they were indented. Python’s use of indentation makes code very easy to read. Basically, it uses whitespace to force you to write neatly formatted code with a clear visual structure. In longer Python programs, you’ll notice blocks of code indented at a few different levels. These indentation levels help you gain a general sense of the overall program’s organization.\n",
    "\n",
    "As you begin to write code that relies on proper indentation, you’ll need to watch for a few common indentation errors. For example, people sometimes indent lines of code that don’t need to be indented or forget to indent lines that need to be indented. Seeing examples of these errors now will help you avoid them in the future and correct them when they do appear in your own programs.\n",
    "\n",
    "Let’s examine some of the more common indentation errors.\n",
    "\n",
    "### Forgetting to Indent\n",
    "\n",
    "Always indent the line after the for statement in a loop. If you forget, Python will remind you:"
   ]
  },
  {
   "cell_type": "code",
   "execution_count": 9,
   "id": "a27c77b8",
   "metadata": {
    "scrolled": true
   },
   "outputs": [
    {
     "ename": "IndentationError",
     "evalue": "expected an indented block (2510761304.py, line 3)",
     "output_type": "error",
     "traceback": [
      "\u001b[1;36m  Cell \u001b[1;32mIn[9], line 3\u001b[1;36m\u001b[0m\n\u001b[1;33m    print(magician)\u001b[0m\n\u001b[1;37m    ^\u001b[0m\n\u001b[1;31mIndentationError\u001b[0m\u001b[1;31m:\u001b[0m expected an indented block\n"
     ]
    }
   ],
   "source": [
    "magicians = ['alice', 'david', 'carolina']\n",
    "for magician in magicians:\n",
    "print(magician)"
   ]
  },
  {
   "cell_type": "code",
   "execution_count": 15,
   "id": "637efc7d",
   "metadata": {},
   "outputs": [
    {
     "name": "stdout",
     "output_type": "stream",
     "text": [
      "carolina\n"
     ]
    }
   ],
   "source": [
    "magicians = ['alice', 'david', 'carolina']\n",
    "for magician in magicians:\n",
    "    pass\n",
    "print(magician)"
   ]
  },
  {
   "cell_type": "code",
   "execution_count": 12,
   "id": "ed027fff",
   "metadata": {
    "scrolled": true
   },
   "outputs": [
    {
     "name": "stdout",
     "output_type": "stream",
     "text": [
      "Alice, that was a great trick!\n",
      "I can't wait to see your next trick, Alice.\n",
      "\n",
      "David, that was a great trick!\n",
      "I can't wait to see your next trick, David.\n",
      "\n",
      "Carolina, that was a great trick!\n",
      "I can't wait to see your next trick, Carolina.\n",
      "\n",
      "I can't wait to see your next trick, Corlina.\n",
      "\n",
      "Thank you, everyone. That was a great magic show!\n"
     ]
    }
   ],
   "source": [
    "magicians = ['alice', 'david', 'carolina']\n",
    "for magician in magicians:\n",
    "    print(f\"{magician.title()}, that was a great trick!\")\n",
    "    print(f\"I can't wait to see your next trick, {magician.title()}.\\n\")\n",
    "    if magician =='carolina':\n",
    "        print(\"I can't wait to see your next trick, Corlina.\\n\") \n",
    "print(\"Thank you, everyone. That was a great magic show!\")"
   ]
  },
  {
   "cell_type": "code",
   "execution_count": 13,
   "id": "65cfd710",
   "metadata": {},
   "outputs": [
    {
     "name": "stdout",
     "output_type": "stream",
     "text": [
      "Alice, that was a great trick!\n",
      "I can't wait to see your next trick, Alice.\n",
      "\n",
      "I can't wait to see your next trick, Corlina.\n",
      "\n",
      "David, that was a great trick!\n",
      "I can't wait to see your next trick, David.\n",
      "\n",
      "I can't wait to see your next trick, Corlina.\n",
      "\n",
      "Carolina, that was a great trick!\n",
      "I can't wait to see your next trick, Carolina.\n",
      "\n",
      "Thank you, everyone. That was a great magic show!\n"
     ]
    }
   ],
   "source": [
    "magicians = ['alice', 'david', 'carolina']\n",
    "for magician in magicians:\n",
    "    print(f\"{magician.title()}, that was a great trick!\")\n",
    "    print(f\"I can't wait to see your next trick, {magician.title()}.\\n\")\n",
    "    if magician !='carolina':\n",
    "        print(\"I can't wait to see your next trick, Corlina.\\n\") \n",
    "print(\"Thank you, everyone. That was a great magic show!\")"
   ]
  },
  {
   "cell_type": "markdown",
   "id": "25cbd4bd",
   "metadata": {},
   "source": [
    "### Forgetting to Indent Additional Lines\n",
    "\n",
    "Sometimes your loop will run without any errors but won’t produce the expected result. This can happen when you’re trying to do several tasks in a loop and you forget to indent some of its lines. For example, this is what happens when we forget to indent the second line in the loop that tells each magician we’re looking forward to their next trick:"
   ]
  },
  {
   "cell_type": "code",
   "execution_count": 10,
   "id": "3bb27400",
   "metadata": {},
   "outputs": [
    {
     "name": "stdout",
     "output_type": "stream",
     "text": [
      "Alice, that was a great trick!\n",
      "David, that was a great trick!\n",
      "Carolina, that was a great trick!\n",
      "I can't wait to see your next trick, Carolina.\n",
      "\n"
     ]
    }
   ],
   "source": [
    "magicians = ['alice', 'david', 'carolina']\n",
    "for magician in magicians:\n",
    "    print(f\"{magician.title()}, that was a great trick!\")\n",
    "print(f\"I can't wait to see your next trick, {magician.title()}.\\n\")# not indent"
   ]
  },
  {
   "cell_type": "markdown",
   "id": "e0fee79d",
   "metadata": {},
   "source": [
    "### Indenting Unnecessarily\n",
    "\n",
    "If you accidentally indent a line that doesn’t need to be indented, Python informs you about the unexpected indent:"
   ]
  },
  {
   "cell_type": "code",
   "execution_count": 11,
   "id": "f20019c3",
   "metadata": {},
   "outputs": [
    {
     "ename": "IndentationError",
     "evalue": "unexpected indent (31849877.py, line 2)",
     "output_type": "error",
     "traceback": [
      "\u001b[1;36m  Cell \u001b[1;32mIn[11], line 2\u001b[1;36m\u001b[0m\n\u001b[1;33m    print(message)\u001b[0m\n\u001b[1;37m    ^\u001b[0m\n\u001b[1;31mIndentationError\u001b[0m\u001b[1;31m:\u001b[0m unexpected indent\n"
     ]
    }
   ],
   "source": [
    " message = \"Hello Python world!\"\n",
    "    print(message)"
   ]
  },
  {
   "cell_type": "markdown",
   "id": "99c7e76a",
   "metadata": {},
   "source": [
    "### Indenting Unnecessarily\n",
    "\n",
    "After the Loop If you accidentally indent code that should run after a loop has finished, that code will be repeated once for each item in the list. Sometimes this prompts Python to report an error, but often this will result in a logical error. For example, let’s see what happens when we accidentally indent the line that thanked the magicians as a group for putting on a good show:"
   ]
  },
  {
   "cell_type": "code",
   "execution_count": 14,
   "id": "ef2cfd78",
   "metadata": {},
   "outputs": [
    {
     "name": "stdout",
     "output_type": "stream",
     "text": [
      "Alice, that was a great trick!\n",
      "I can't wait to see your next trick, Alice.\n",
      "\n",
      "Thank you everyone, that was a great magic show!\n",
      "David, that was a great trick!\n",
      "I can't wait to see your next trick, David.\n",
      "\n",
      "Thank you everyone, that was a great magic show!\n",
      "Carolina, that was a great trick!\n",
      "I can't wait to see your next trick, Carolina.\n",
      "\n",
      "Thank you everyone, that was a great magic show!\n"
     ]
    }
   ],
   "source": [
    "magicians = ['alice', 'david', 'carolina']\n",
    "for magician in magicians:\n",
    "    print(f\"{magician.title()}, that was a great trick!\")\n",
    "    print(f\"I can't wait to see your next trick, {magician.title()}.\\n\")\n",
    "\n",
    "    print(\"Thank you everyone, that was a great magic show!\")"
   ]
  },
  {
   "cell_type": "markdown",
   "id": "d5ef7234",
   "metadata": {},
   "source": [
    "How to print element index and content together?"
   ]
  },
  {
   "cell_type": "code",
   "execution_count": 16,
   "id": "7d9f2413",
   "metadata": {},
   "outputs": [
    {
     "name": "stdout",
     "output_type": "stream",
     "text": [
      "0: alice\n",
      "1: david\n",
      "2: carolina\n"
     ]
    }
   ],
   "source": [
    "magicians = ['alice', 'david', 'carolina']\n",
    "for index, magician in enumerate(magicians):\n",
    "    print(f\"{index}: {magician}\")"
   ]
  },
  {
   "cell_type": "markdown",
   "id": "c4c9bbd5",
   "metadata": {},
   "source": [
    "### Forgetting the Colon\n",
    "\n",
    "The colon at the end of a for statement tells Python to interpret the next line as the start of a loop."
   ]
  },
  {
   "cell_type": "code",
   "execution_count": 17,
   "id": "780f2598",
   "metadata": {},
   "outputs": [
    {
     "ename": "SyntaxError",
     "evalue": "invalid syntax (518316207.py, line 2)",
     "output_type": "error",
     "traceback": [
      "\u001b[1;36m  Cell \u001b[1;32mIn[17], line 2\u001b[1;36m\u001b[0m\n\u001b[1;33m    for magician in magicians\u001b[0m\n\u001b[1;37m                             ^\u001b[0m\n\u001b[1;31mSyntaxError\u001b[0m\u001b[1;31m:\u001b[0m invalid syntax\n"
     ]
    }
   ],
   "source": [
    "magicians = ['alice', 'david', 'carolina']\n",
    "for magician in magicians\n",
    "    print(magician)"
   ]
  },
  {
   "cell_type": "markdown",
   "id": "55584634",
   "metadata": {},
   "source": [
    "## Making Numerical Lists\n",
    "\n",
    "Many reasons exist to store a set of numbers. For example, you’ll need to keep track of the positions of each character in a game, and you might want to keep track of a player’s high scores as well. In data visualizations, you’ll almost always work with sets of numbers, such as temperatures, distances, population sizes, or latitude and longitude values, among other types of numerical sets.\n",
    "\n",
    "Lists are ideal for storing sets of numbers, and Python provides a variety of tools to help you work efficiently with lists of numbers. Once you understand how to use these tools effectively, your code will work well even when your lists contain millions of items.\n",
    "\n",
    "### Using the range() Function\n",
    "\n",
    "Python’s range() function makes it easy to generate a series of numbers. For example, you can use the range() function to print a series of numbers like this:"
   ]
  },
  {
   "cell_type": "code",
   "execution_count": 18,
   "id": "2b8b4016",
   "metadata": {},
   "outputs": [
    {
     "data": {
      "text/plain": [
       "range(1, 5)"
      ]
     },
     "execution_count": 18,
     "metadata": {},
     "output_type": "execute_result"
    }
   ],
   "source": [
    "range(1,5)"
   ]
  },
  {
   "cell_type": "code",
   "execution_count": 19,
   "id": "0c4f891c",
   "metadata": {},
   "outputs": [
    {
     "name": "stdout",
     "output_type": "stream",
     "text": [
      "1\n",
      "2\n",
      "3\n",
      "4\n"
     ]
    }
   ],
   "source": [
    "for value in range(1, 5):# only 1 to 4\n",
    "    print(value)"
   ]
  },
  {
   "cell_type": "code",
   "execution_count": 23,
   "id": "1760a9e7",
   "metadata": {},
   "outputs": [
    {
     "name": "stdout",
     "output_type": "stream",
     "text": [
      "1\n",
      "2\n",
      "3\n",
      "4\n",
      "5\n"
     ]
    }
   ],
   "source": [
    "for value in range(1, 6):\n",
    "    print(value)"
   ]
  },
  {
   "cell_type": "code",
   "execution_count": 22,
   "id": "9717ad8b",
   "metadata": {},
   "outputs": [
    {
     "data": {
      "text/plain": [
       "[1, 2, 3, 4]"
      ]
     },
     "execution_count": 22,
     "metadata": {},
     "output_type": "execute_result"
    }
   ],
   "source": [
    "list(range(1,5))"
   ]
  },
  {
   "cell_type": "markdown",
   "id": "280dd166",
   "metadata": {},
   "source": [
    "### Using range() to Make a List of Numbers\n",
    "\n",
    "If you want to make a list of numbers, you can convert the results of range() directly into a list using the list() function. When you wrap list() around a call to the range() function, the output will be a list of numbers. In the example in the previous section, we simply printed out a series of numbers. We can use list() to convert that same set of numbers into a list:"
   ]
  },
  {
   "cell_type": "code",
   "execution_count": 24,
   "id": "e3045bb1",
   "metadata": {},
   "outputs": [
    {
     "name": "stdout",
     "output_type": "stream",
     "text": [
      "[1, 2, 3, 4, 5]\n"
     ]
    }
   ],
   "source": [
    "numbers = list(range(1, 6))\n",
    "print(numbers)"
   ]
  },
  {
   "cell_type": "markdown",
   "id": "aeba38b6",
   "metadata": {},
   "source": [
    "We can also use the range() function to tell Python to skip numbers in a given range. If you pass a third argument to range(), Python uses that value as a step size when generating numbers. For example, here’s how to list the even numbers between 1 and 10:"
   ]
  },
  {
   "cell_type": "code",
   "execution_count": 25,
   "id": "aa155295",
   "metadata": {
    "scrolled": true
   },
   "outputs": [
    {
     "name": "stdout",
     "output_type": "stream",
     "text": [
      "[2, 4, 6, 8, 10]\n"
     ]
    }
   ],
   "source": [
    "even_numbers = list(range(2, 11, 2))\n",
    "print(even_numbers)"
   ]
  },
  {
   "cell_type": "code",
   "execution_count": 27,
   "id": "e9f4cf03",
   "metadata": {
    "scrolled": false
   },
   "outputs": [
    {
     "name": "stdout",
     "output_type": "stream",
     "text": [
      "[2, 4, 6, 8, 10, 12, 14, 16, 18, 20, 22, 24, 26, 28, 30, 32, 34, 36, 38, 40, 42, 44, 46, 48, 50, 52, 54, 56, 58, 60, 62, 64, 66, 68, 70, 72, 74, 76, 78, 80, 82, 84, 86, 88, 90, 92, 94, 96, 98, 100]\n"
     ]
    }
   ],
   "source": [
    "even_numbers = list(range(2, 101, 2))#second number is stop carteria)\n",
    "print(even_numbers)"
   ]
  },
  {
   "cell_type": "code",
   "execution_count": 28,
   "id": "cda85ede",
   "metadata": {},
   "outputs": [
    {
     "name": "stdout",
     "output_type": "stream",
     "text": [
      "[1, 3, 5, 7, 9, 11, 13, 15, 17, 19, 21, 23, 25, 27, 29, 31, 33, 35, 37, 39, 41, 43, 45, 47, 49, 51, 53, 55, 57, 59, 61, 63, 65, 67, 69, 71, 73, 75, 77, 79, 81, 83, 85, 87, 89, 91, 93, 95, 97, 99]\n"
     ]
    }
   ],
   "source": [
    "odd_numbers = list(range(1, 100, 2))\n",
    "print(odd_numbers)"
   ]
  },
  {
   "cell_type": "code",
   "execution_count": 30,
   "id": "2ea94988",
   "metadata": {},
   "outputs": [
    {
     "name": "stdout",
     "output_type": "stream",
     "text": [
      "[0, 2, 4, 6, 8, 10, 12, 14, 16, 18, 20, 22, 24, 26, 28, 30, 32, 34, 36, 38, 40, 42, 44, 46, 48, 50, 52, 54, 56, 58, 60, 62, 64, 66, 68, 70, 72, 74, 76, 78, 80, 82, 84, 86, 88, 90, 92, 94, 96, 98]\n"
     ]
    }
   ],
   "source": [
    "even_numbers = list(range(0, 100, 2))\n",
    "print(even_numbers)"
   ]
  },
  {
   "cell_type": "markdown",
   "id": "007c9e3c",
   "metadata": {},
   "source": [
    "You can create almost any set of numbers you want to using the range() function. For example, consider how you might make a list of the first 10 square numbers (that is, the square of each integer from 1 through 10). In Python, two asterisks (\\*\\*) represent exponents. Here’s how you might put the first 10 square numbers into a list:"
   ]
  },
  {
   "cell_type": "code",
   "execution_count": 26,
   "id": "58fe3be3",
   "metadata": {},
   "outputs": [
    {
     "name": "stdout",
     "output_type": "stream",
     "text": [
      "[1, 4, 9, 16, 25, 36, 49, 64, 81, 100]\n"
     ]
    }
   ],
   "source": [
    "squares = []\n",
    "for value in range(1, 11):\n",
    "    square = value ** 2\n",
    "    squares.append(square)\n",
    "print(squares)"
   ]
  },
  {
   "cell_type": "code",
   "execution_count": 31,
   "id": "29b3be8b",
   "metadata": {},
   "outputs": [
    {
     "name": "stdout",
     "output_type": "stream",
     "text": [
      "[1, 4, 9, 16, 25, 36, 49, 64, 81, 100]\n"
     ]
    }
   ],
   "source": [
    "squares = []\n",
    "for value in range(1,11):\n",
    "    squares.append(value**2)\n",
    "print(squares)"
   ]
  },
  {
   "cell_type": "markdown",
   "id": "df8be543",
   "metadata": {},
   "source": [
    "### Simple Statistics with a List of Numbers\n",
    "\n",
    "A few Python functions are helpful when working with lists of numbers. For example, you can easily find the minimum, maximum, and sum of a list of numbers:"
   ]
  },
  {
   "cell_type": "code",
   "execution_count": 33,
   "id": "e9e7e58e",
   "metadata": {},
   "outputs": [
    {
     "name": "stdout",
     "output_type": "stream",
     "text": [
      "0\n",
      "9\n",
      "45\n"
     ]
    }
   ],
   "source": [
    "digits = [1, 2, 3, 4, 5, 6, 7, 8, 9, 0]\n",
    "print(min(digits))\n",
    "print(max(digits))\n",
    "print(sum(digits))"
   ]
  },
  {
   "cell_type": "code",
   "execution_count": 36,
   "id": "bec9e689",
   "metadata": {},
   "outputs": [
    {
     "data": {
      "text/plain": [
       "4.5"
      ]
     },
     "execution_count": 36,
     "metadata": {},
     "output_type": "execute_result"
    }
   ],
   "source": [
    "sum(digits)/len(digits)"
   ]
  },
  {
   "cell_type": "markdown",
   "id": "010a7233",
   "metadata": {},
   "source": [
    "### List Comprehensions\n",
    "\n",
    "The approach described earlier for generating the list squares consisted of using three or four lines of code. A list comprehension allows you to generate this same list in just one line of code. A list comprehension combines the for loop and the creation of new elements into one line, and automatically appends each new element. List comprehensions are not always presented to beginners, but I have included them here because you’ll most likely see them as soon as you start looking at other people’s code.\n",
    "\n",
    "The following example builds the same list of square numbers you saw earlier but uses a list comprehension:"
   ]
  },
  {
   "cell_type": "code",
   "execution_count": 37,
   "id": "572f5489",
   "metadata": {},
   "outputs": [
    {
     "name": "stdout",
     "output_type": "stream",
     "text": [
      "[1, 4, 9, 16, 25, 36, 49, 64, 81, 100]\n"
     ]
    }
   ],
   "source": [
    "squares = [value**2 for value in range(1, 11)]\n",
    "print(squares)"
   ]
  },
  {
   "cell_type": "markdown",
   "id": "fda1c0d5",
   "metadata": {},
   "source": [
    "To use this syntax, begin with a descriptive name for the list, such as squares. Next, open a set of square brackets and define the expression for the values you want to store in the new list. In this example the expression is value ** 2, which raises the value to the second power. Then, write a for loop to generate the numbers you want to feed into the expression, and close the square brackets. The for loop in this example is for value in range(1, 11), which feeds the values 1 through 10 into the expression value ** 2. Notice that no colon is used at the end of the for statement.\n",
    "\n",
    "## Working with Part of a List\n",
    "\n",
    "In Lecture 3 you learned how to access single elements in a list, and in this chapter you’ve been learning how to work through all the elements in a list. You can also work with a specific group of items in a list, which Python calls a slice.\n",
    "\n",
    "### Slicing a List\n",
    "\n",
    "To make a slice, you specify the index of the first and last elements you want to work with. As with the range() function, Python stops one item before the second index you specify. To output the first three elements in a list, you would request indices 0 through 3, which would return elements 0, 1, and 2. The following example involves a list of players on a team:"
   ]
  },
  {
   "cell_type": "code",
   "execution_count": 3,
   "id": "0c7b154c",
   "metadata": {},
   "outputs": [
    {
     "name": "stdout",
     "output_type": "stream",
     "text": [
      "['Eric', 'deng', 'chen']\n"
     ]
    }
   ],
   "source": [
    "people = ['Eric', 'deng', 'chen', 'tompkins', 'Alice']\n",
    "print(people[0:3])"
   ]
  },
  {
   "cell_type": "code",
   "execution_count": 4,
   "id": "7df8ad24",
   "metadata": {},
   "outputs": [
    {
     "name": "stdout",
     "output_type": "stream",
     "text": [
      "['deng', 'chen', 'tompkins']\n"
     ]
    }
   ],
   "source": [
    "print(people[1:4])"
   ]
  },
  {
   "cell_type": "code",
   "execution_count": 5,
   "id": "a53d262c",
   "metadata": {},
   "outputs": [
    {
     "name": "stdout",
     "output_type": "stream",
     "text": [
      "['Eric', 'deng', 'chen', 'tompkins']\n"
     ]
    }
   ],
   "source": [
    "print(people[:4]) # no word, meaning beginning from 0"
   ]
  },
  {
   "cell_type": "code",
   "execution_count": 6,
   "id": "a1abf62e",
   "metadata": {
    "scrolled": true
   },
   "outputs": [
    {
     "name": "stdout",
     "output_type": "stream",
     "text": [
      "['chen', 'tompkins', 'Alice']\n"
     ]
    }
   ],
   "source": [
    "print(people[2:]) # no end, means all the way to the end"
   ]
  },
  {
   "cell_type": "code",
   "execution_count": 7,
   "id": "81e84116",
   "metadata": {},
   "outputs": [
    {
     "name": "stdout",
     "output_type": "stream",
     "text": [
      "['Eric', 'deng', 'chen', 'tompkins', 'Alice']\n"
     ]
    }
   ],
   "source": [
    "print(people[:]) # all the list, copy the list"
   ]
  },
  {
   "cell_type": "markdown",
   "id": "0be976a1",
   "metadata": {},
   "source": [
    "This syntax allows you to output all of the elements from any point in your list to the end regardless of the length of the list. Recall that a negative index returns an element a certain distance from the end of a list; therefore, you can output any slice from the end of a list. For example, if we want to output the last three players on the roster, we can use the slice players[-3:]:"
   ]
  },
  {
   "cell_type": "code",
   "execution_count": 8,
   "id": "cdf03a1f",
   "metadata": {},
   "outputs": [
    {
     "name": "stdout",
     "output_type": "stream",
     "text": [
      "['chen', 'tompkins', 'Alice']\n"
     ]
    }
   ],
   "source": [
    "print(people[-3:]) # negative still means count from the end"
   ]
  },
  {
   "cell_type": "code",
   "execution_count": 9,
   "id": "a866c87a",
   "metadata": {
    "scrolled": true
   },
   "outputs": [
    {
     "name": "stdout",
     "output_type": "stream",
     "text": [
      "['Eric', 'deng', 'chen', 'tompkins']\n"
     ]
    }
   ],
   "source": [
    "print(people[:-1])"
   ]
  },
  {
   "cell_type": "markdown",
   "id": "f619638e",
   "metadata": {},
   "source": [
    "should be integer, can be positive or negative"
   ]
  },
  {
   "cell_type": "markdown",
   "id": "46067769",
   "metadata": {},
   "source": [
    "### Looping Through a Slice\n",
    "\n",
    "You can use a slice in a for loop if you want to loop through a subset of the elements in a list. In the next example we loop through the first three players and print their names as part of a simple roster:"
   ]
  },
  {
   "cell_type": "code",
   "execution_count": 10,
   "id": "ff629266",
   "metadata": {},
   "outputs": [
    {
     "name": "stdout",
     "output_type": "stream",
     "text": [
      "Here are the first three players on my team:\n",
      "Eric\n",
      "Deng\n",
      "Chen\n"
     ]
    }
   ],
   "source": [
    "print(\"Here are the first three players on my team:\")\n",
    "for player in people[:3]:\n",
    "    print(player.title())"
   ]
  },
  {
   "cell_type": "markdown",
   "id": "1f022db0",
   "metadata": {},
   "source": [
    "### Copying a List\n",
    "\n",
    "Often, you’ll want to start with an existing list and make an entirely new list based on the first one. Let’s explore how copying a list works and examine one situation in which copying a list is useful.\n",
    "\n",
    "To copy a list, you can make a slice that includes the entire original list by omitting the first index and the second index ([:]). This tells Python to make a slice that starts at the first item and ends with the last item, producing a copy of the entire list.\n",
    "\n",
    "For example, imagine we have a list of our favorite foods and want to make a separate list of foods that a friend likes. This friend likes everything in our list so far, so we can create their list by copying ours:"
   ]
  },
  {
   "cell_type": "code",
   "execution_count": 11,
   "id": "80fae2ab",
   "metadata": {},
   "outputs": [
    {
     "name": "stdout",
     "output_type": "stream",
     "text": [
      "My favorite foods are:\n",
      "['pizza', 'falafel', 'carrot cake']\n",
      "\n",
      "My friend's favorite foods are:\n",
      "['pizza', 'falafel', 'carrot cake']\n"
     ]
    }
   ],
   "source": [
    "my_foods = ['pizza', 'falafel', 'carrot cake']\n",
    "friend_foods = my_foods[:]\n",
    "print(\"My favorite foods are:\")\n",
    "print(my_foods)\n",
    "print(\"\\nMy friend's favorite foods are:\")\n",
    "print(friend_foods)"
   ]
  },
  {
   "cell_type": "markdown",
   "id": "0c8e4959",
   "metadata": {},
   "source": [
    "To prove that we actually have two separate lists, we’ll add a new food to each list and show that each list keeps track of the appropriate person’s favorite foods:"
   ]
  },
  {
   "cell_type": "code",
   "execution_count": 15,
   "id": "4de62c1d",
   "metadata": {},
   "outputs": [
    {
     "name": "stdout",
     "output_type": "stream",
     "text": [
      "My facorite food are:\n",
      "Pizza\n",
      "Falafel\n",
      "Carrot Cake\n",
      "Apple\n",
      "\n",
      "My friend's favorite food are:\n",
      "Pizza\n",
      "Falafel\n",
      "Carrot Cake\n",
      "Pear\n"
     ]
    }
   ],
   "source": [
    "my_foods = ['pizza', 'falafel', 'carrot cake']\n",
    "friend_foods = my_foods[:]\n",
    "my_foods.append('apple')\n",
    "friend_foods.append('pear')\n",
    "print('My facorite food are:')\n",
    "for food in my_foods:\n",
    "    print(food.title())\n",
    "print(\"\\nMy friend's favorite food are:\")\n",
    "for item in friend_foods:\n",
    "    print(item.title())\n"
   ]
  },
  {
   "cell_type": "code",
   "execution_count": 16,
   "id": "380a7d76",
   "metadata": {},
   "outputs": [
    {
     "name": "stdout",
     "output_type": "stream",
     "text": [
      "My favorite foods are:\n",
      "['pizza', 'falafel', 'carrot cake', 'cannoli', 'ice cream']\n",
      "\n",
      "My friend's favorite foods are:\n",
      "['pizza', 'falafel', 'carrot cake', 'cannoli', 'ice cream']\n"
     ]
    }
   ],
   "source": [
    "my_foods = ['pizza', 'falafel', 'carrot cake']\n",
    "# This doesn't work:\n",
    "friend_foods = my_foods\n",
    "my_foods.append('cannoli')\n",
    "friend_foods.append('ice cream')\n",
    "print(\"My favorite foods are:\")\n",
    "print(my_foods)\n",
    "print(\"\\nMy friend's favorite foods are:\")\n",
    "print(friend_foods)\n",
    "# compare this one with the previous one."
   ]
  },
  {
   "cell_type": "markdown",
   "id": "f8a48e01",
   "metadata": {},
   "source": [
    "## Tuples\n",
    "\n",
    "Lists work well for storing collections of items that can change throughout the life of a program. The ability to modify lists is particularly important when you’re working with a list of users on a website or a list of characters in a game. However, sometimes you’ll want to create a list of items that cannot change. Tuples allow you to do just that. Python refers to values that cannot change as immutable, and an immutable list is called a tuple.\n",
    "\n",
    "### Defining a Tuple\n",
    "\n",
    "A tuple looks just like a list except you use parentheses instead of square brackets. Once you define a tuple, you can access individual elements by using each item’s index, just as you would for a list. For example, if we have a rectangle that should always be a certain size, we can ensure that its size doesn’t change by putting the dimensions into a tuple:"
   ]
  },
  {
   "cell_type": "markdown",
   "id": "dfa7d1e5",
   "metadata": {},
   "source": [
    "## Different between list and tuple\n",
    "- list uses [], tuple uses ()\n",
    "- list is mutable, which means you can change the values\n",
    "- tuple, users can not change the original content easily\n"
   ]
  },
  {
   "cell_type": "code",
   "execution_count": 34,
   "id": "3f116cd4",
   "metadata": {},
   "outputs": [
    {
     "data": {
      "text/plain": [
       "['mary', 'Eric', 'Yang']"
      ]
     },
     "execution_count": 34,
     "metadata": {},
     "output_type": "execute_result"
    }
   ],
   "source": [
    "lists = ['mary', 'Eric', 'Yang']\n",
    "lists"
   ]
  },
  {
   "cell_type": "code",
   "execution_count": 35,
   "id": "eb872a19",
   "metadata": {},
   "outputs": [
    {
     "data": {
      "text/plain": [
       "['Jassica', 'Eric', 'Yang']"
      ]
     },
     "execution_count": 35,
     "metadata": {},
     "output_type": "execute_result"
    }
   ],
   "source": [
    "lists[0]= 'Jassica'\n",
    "lists"
   ]
  },
  {
   "cell_type": "code",
   "execution_count": 20,
   "id": "3b0f7263",
   "metadata": {},
   "outputs": [
    {
     "data": {
      "text/plain": [
       "('mary', 'Eric', 'Yang')"
      ]
     },
     "execution_count": 20,
     "metadata": {},
     "output_type": "execute_result"
    }
   ],
   "source": [
    "tuples = ('mary', 'Eric', 'Yang')\n",
    "tuples"
   ]
  },
  {
   "cell_type": "code",
   "execution_count": 21,
   "id": "92b4d5c1",
   "metadata": {},
   "outputs": [
    {
     "ename": "TypeError",
     "evalue": "'tuple' object does not support item assignment",
     "output_type": "error",
     "traceback": [
      "\u001b[1;31m---------------------------------------------------------------------------\u001b[0m",
      "\u001b[1;31mTypeError\u001b[0m                                 Traceback (most recent call last)",
      "Cell \u001b[1;32mIn[21], line 1\u001b[0m\n\u001b[1;32m----> 1\u001b[0m \u001b[38;5;28;43mtuple\u001b[39;49m\u001b[43m[\u001b[49m\u001b[38;5;241;43m0\u001b[39;49m\u001b[43m]\u001b[49m \u001b[38;5;241m=\u001b[39m \u001b[38;5;124m'\u001b[39m\u001b[38;5;124mjessica\u001b[39m\u001b[38;5;124m'\u001b[39m\n\u001b[0;32m      2\u001b[0m \u001b[38;5;28mtuple\u001b[39m\n",
      "\u001b[1;31mTypeError\u001b[0m: 'tuple' object does not support item assignment"
     ]
    }
   ],
   "source": [
    "tuples[0] = 'jessica' #'tuple' object does not support item assignment\n",
    "tuples"
   ]
  },
  {
   "cell_type": "code",
   "execution_count": 22,
   "id": "4b71f75d",
   "metadata": {},
   "outputs": [
    {
     "data": {
      "text/plain": [
       "'mary'"
      ]
     },
     "execution_count": 22,
     "metadata": {},
     "output_type": "execute_result"
    }
   ],
   "source": [
    "tuples[0] #indexing"
   ]
  },
  {
   "cell_type": "markdown",
   "id": "90e50e85",
   "metadata": {},
   "source": [
    "everything you can do in list, can be done in tuple, unless you cannot change the item within the tuple easily"
   ]
  },
  {
   "cell_type": "code",
   "execution_count": 27,
   "id": "f3ca913d",
   "metadata": {
    "scrolled": true
   },
   "outputs": [
    {
     "data": {
      "text/plain": [
       "('mary', 'Eric')"
      ]
     },
     "execution_count": 27,
     "metadata": {},
     "output_type": "execute_result"
    }
   ],
   "source": [
    "tuples[:2]"
   ]
  },
  {
   "cell_type": "markdown",
   "id": "233741a1",
   "metadata": {},
   "source": [
    "Tuples are technically defined by the presence of a comma; the parentheses make them look neater and more readable. If you want to define a tuple with one element, you need to include a trailing comma:"
   ]
  },
  {
   "cell_type": "code",
   "execution_count": 29,
   "id": "30a3e627",
   "metadata": {},
   "outputs": [
    {
     "data": {
      "text/plain": [
       "(3,)"
      ]
     },
     "execution_count": 29,
     "metadata": {},
     "output_type": "execute_result"
    }
   ],
   "source": [
    "my_t = (3,)\n",
    "my_t"
   ]
  },
  {
   "cell_type": "markdown",
   "id": "66a7bcc9",
   "metadata": {},
   "source": [
    "### Looping Through All Values in a Tuple\n",
    "\n",
    "You can loop over all the values in a tuple using a for loop, just as you did with a list:"
   ]
  },
  {
   "cell_type": "code",
   "execution_count": 30,
   "id": "0f58c923",
   "metadata": {
    "scrolled": true
   },
   "outputs": [
    {
     "name": "stdout",
     "output_type": "stream",
     "text": [
      "Mary\n",
      "Eric\n",
      "Yang\n"
     ]
    }
   ],
   "source": [
    "for item in tuple:\n",
    "    print(item.title())"
   ]
  },
  {
   "cell_type": "markdown",
   "id": "911b38ac",
   "metadata": {},
   "source": [
    "### Writing over a Tuple\n",
    "\n",
    "Although you can’t modify a tuple, you can assign a new value to a variable that represents a tuple. So if we wanted to change our dimensions, we could redefine the entire tuple:"
   ]
  },
  {
   "cell_type": "code",
   "execution_count": 31,
   "id": "e8930a1c",
   "metadata": {},
   "outputs": [
    {
     "name": "stdout",
     "output_type": "stream",
     "text": [
      "Original dimensions:\n",
      "200\n",
      "50\n",
      "\n",
      "Modified dimensions:\n",
      "400\n",
      "100\n"
     ]
    }
   ],
   "source": [
    "dimensions = (200, 50)\n",
    "print(\"Original dimensions:\")\n",
    "for dimension in dimensions:\n",
    "    print(dimension)\n",
    "\n",
    "# way to change the tuple value: redefine the tuple\n",
    "dimensions = (400, 100)\n",
    "print(\"\\nModified dimensions:\")\n",
    "for dimension in dimensions:\n",
    "    print(dimension)"
   ]
  },
  {
   "cell_type": "markdown",
   "id": "89ef57b1",
   "metadata": {},
   "source": [
    "# Finish"
   ]
  },
  {
   "cell_type": "markdown",
   "id": "caeb42d6",
   "metadata": {},
   "source": [
    "## References\n",
    "\n",
    "-   Matthes, Eric (2022). _Python Crash Course, 3rd Edition: A Hands-On, Project-Based Introduction to Programming_. No Starch Press. ISBN: 978-1593279288. ([Publisher website](https://nostarch.com/python-crash-course-3rd-edition))\n",
    "- Dr.Qiusheng Wu online lecture"
   ]
  }
 ],
 "metadata": {
  "kernelspec": {
   "display_name": "Python 3 (ipykernel)",
   "language": "python",
   "name": "python3"
  },
  "language_info": {
   "codemirror_mode": {
    "name": "ipython",
    "version": 3
   },
   "file_extension": ".py",
   "mimetype": "text/x-python",
   "name": "python",
   "nbconvert_exporter": "python",
   "pygments_lexer": "ipython3",
   "version": "3.9.16"
  }
 },
 "nbformat": 4,
 "nbformat_minor": 5
}
