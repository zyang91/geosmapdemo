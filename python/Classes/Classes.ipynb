{
 "cells": [
  {
   "attachments": {},
   "cell_type": "markdown",
   "id": "37d8f3d7",
   "metadata": {},
   "source": [
    "[![image](https://colab.research.google.com/assets/colab-badge.svg)](https://colab.research.google.com/github/zyang91/GEOG-510/blob/main/python_code/Classes.ipynb)"
   ]
  },
  {
   "cell_type": "markdown",
   "id": "18899714",
   "metadata": {},
   "source": [
    "# Classes\n",
    "\n",
    "Object-oriented programming is one of the most effective approaches to writing software. In object-oriented programming you write classes that represent real-world things and situations, and you create objects based on these classes. When you write a class, you define the general behavior that a whole category of objects can have. When you create individual objects from the class, each object is automatically equipped with the general behavior; you can then give each object whatever unique traits you desire. You’ll be amazed how well real-world situations can be modeled with object-oriented programming.\n",
    "\n",
    "Making an object from a class is called instantiation, and you work with instances of a class. In this chapter you’ll write classes and create instances of those classes. You’ll specify the kind of information that can be stored in instances, and you’ll define actions that can be taken with these instances. You’ll also write classes that extend the functionality of existing classes, so similar classes can share code efficiently. You’ll store your classes in modules and import classes written by other programmers into your own program files.\n",
    "\n",
    "Understanding object-oriented programming will help you see the world as a programmer does. It’ll help you really know your code, not just what’s happening line by line, but also the bigger concepts behind it. Knowing the logic behind classes will train you to think logically so you can write programs that effectively address almost any problem you encounter.\n",
    "\n",
    "Classes also make life easier for you and the other programmers you’ll work with as you take on increasingly complex challenges. When you and other programmers write code based on the same kind of logic, you’ll be able to understand each other’s work. Your programs will make sense to many collaborators, allowing everyone to accomplish more.\n",
    "\n",
    "\n",
    "## CREATING AND USING A CLASS <a class='anchor' id='creating-a-class'></a>\n",
    "\n",
    "You can model almost anything using classes. Let’s start by writing a simple class, Dog, that represents a dog—not one dog in particular, but any dog. What do we know about most pet dogs? Well, they all have a name and age. We also know that most dogs sit and roll over. Those two pieces of information (name and age) and those two behaviors (sit and roll over) will go in our Dog class because they’re common to most dogs. This class will tell Python how to make an object representing a dog. After our class is written, we’ll use it to make individual instances, each of which represents one specific dog.\n",
    "\n",
    "### Creating the Dog Class\n",
    "\n",
    "Each instance created from the Dog class will store a name and an age, and we’ll give each dog the ability to sit() and roll_over():"
   ]
  },
  {
   "cell_type": "code",
   "execution_count": 1,
   "id": "e71ef912",
   "metadata": {},
   "outputs": [],
   "source": [
    "class Dog: #title case when create class\n",
    "    \"\"\"A simple attempt to model a dog.\"\"\"\n",
    "\n",
    "    def __init__(self, name, age): #construct \n",
    "        \"\"\"Initialize name and age attributes.\"\"\"\n",
    "        self.name = name\n",
    "        self.age = age\n",
    "\n",
    "    def sit(self): #method\n",
    "        \"\"\"Simulate a dog sitting in response to a command.\"\"\"\n",
    "        print(f\"{self.name} is now sitting.\")\n",
    "\n",
    "    def roll_over(self):\n",
    "        \"\"\"Simulate rolling over in response to a command.\"\"\"\n",
    "        print(f\"{self.name} rolled over!\")"
   ]
  },
  {
   "cell_type": "markdown",
   "id": "03363090",
   "metadata": {},
   "source": [
    "There’s a lot to notice here, but don’t worry. You’ll see this structure throughout this chapter and have lots of time to get used to it. At ➊ we define a class called Dog. By convention, capitalized names refer to classes in Python. There are no parentheses in the class definition because we’re creating this class from scratch. At ➋ we write a docstring describing what this class does.\n",
    "\n",
    "#### The `__init__()` Method\n",
    "\n",
    "A function that’s part of a class is a method. Everything you learned about functions applies to methods as well; the only practical difference for now is the way we’ll call methods. The `__init__()` method at ➌ is a special method that Python runs automatically whenever we create a new instance based on the Dog class. This method has two leading underscores and two trailing underscores, a convention that helps prevent Python’s default method names from conflicting with your method names. Make sure to use two underscores on each side of `__init__()`. If you use just one on each side, the method won’t be called automatically when you use your class, which can result in errors that are difficult to identify.\n",
    "\n",
    "We define the `__init__()` method to have three parameters: self, name, and age. The self parameter is required in the method definition, and it must come first before the other parameters. It must be included in the definition because when Python calls this method later (to create an instance of Dog), the method call will automatically pass the self argument. Every method call associated with an instance automatically passes self, which is a reference to the instance itself; it gives the individual instance access to the attributes and methods in the class. When we make an instance of Dog, Python will call the `__init__()` method from the Dog class. We’ll pass Dog() a name and an age as arguments; self is passed automatically, so we don’t need to pass it. Whenever we want to make an instance from the Dog class, we’ll provide values for only the last two parameters, name and age.\n",
    "\n",
    "The two variables defined at ➍ each have the prefix self. Any variable prefixed with self is available to every method in the class, and we’ll also be able to access these variables through any instance created from the class. The line self.name = name takes the value associated with the parameter name and assigns it to the variable name, which is then attached to the instance being created. The same process happens with self.age = age. Variables that are accessible through instances like this are called attributes.\n",
    "\n",
    "The Dog class has two other methods defined: sit() and roll_over() ➎. Because these methods don’t need additional information to run, we just define them to have one parameter, self. The instances we create later will have access to these methods. In other words, they’ll be able to sit and roll over. For now, sit() and roll_over() don’t do much. They simply print a message saying the dog is sitting or rolling over. But the concept can be extended to realistic situations: if this class were part of an actual computer game, these methods would contain code to make an animated dog sit and roll over. If this class was written to control a robot, these methods would direct movements that cause a robotic dog to sit and roll over.\n",
    "\n",
    "### Making an Instance from a Class\n",
    "\n",
    "Think of a class as a set of instructions for how to make an instance. The class Dog is a set of instructions that tells Python how to make individual instances representing specific dogs.\n",
    "\n",
    "Let’s make an instance representing a specific dog:"
   ]
  },
  {
   "cell_type": "code",
   "execution_count": 2,
   "id": "67cc9cda",
   "metadata": {},
   "outputs": [
    {
     "name": "stdout",
     "output_type": "stream",
     "text": [
      "My dog's name is Willie.\n",
      "My dog is 6 years old.\n"
     ]
    }
   ],
   "source": [
    "my_dog = Dog('Willie', 6)\n",
    "print(f\"My dog's name is {my_dog.name}.\")\n",
    "print(f\"My dog is {my_dog.age} years old.\")"
   ]
  },
  {
   "cell_type": "code",
   "execution_count": 3,
   "id": "24f1a2e9",
   "metadata": {},
   "outputs": [
    {
     "name": "stdout",
     "output_type": "stream",
     "text": [
      "My owner is Eric\n",
      "My dog's name is Willie.\n",
      "My dog is 1 years old.\n"
     ]
    }
   ],
   "source": [
    "class Dog: #title case when create class\n",
    "    \"\"\"A simple attempt to model a dog.\"\"\"\n",
    "\n",
    "    def __init__(self, name, age = 1, **kwargs): #construct \n",
    "        \"\"\"Initialize name and age attributes.\"\"\"\n",
    "        self.name = name\n",
    "        self.age = age\n",
    "        if 'owner' in kwargs:\n",
    "            print(f\"My owner is {kwargs['owner']}\")\n",
    "\n",
    "    def sit(self): #method\n",
    "        \"\"\"Simulate a dog sitting in response to a command.\"\"\"\n",
    "        print(f\"{self.name} is now sitting.\")\n",
    "\n",
    "    def roll_over(self):\n",
    "        \"\"\"Simulate rolling over in response to a command.\"\"\"\n",
    "        print(f\"{self.name} rolled over!\")\n",
    "my_dog = Dog('Willie', owner ='Eric')\n",
    "print(f\"My dog's name is {my_dog.name}.\")\n",
    "print(f\"My dog is {my_dog.age} years old.\")"
   ]
  },
  {
   "cell_type": "markdown",
   "id": "e7881031",
   "metadata": {},
   "source": [
    "## Example\n",
    "script from leafmap Source code \n",
    "https://leafmap.org/leafmap/\n",
    "```python\n",
    "class Map(ipyleaflet.Map):\n",
    "\n",
    "    def __init__(self, **kwargs): #default setting\n",
    "        if \"center\" not in kwargs:\n",
    "            kwargs[\"center\"] = [20, 0]\n",
    "\n",
    "        if \"zoom\" not in kwargs:\n",
    "            kwargs[\"zoom\"] = 2\n",
    "\n",
    "        if \"max_zoom\" not in kwargs:\n",
    "            kwargs[\"max_zoom\"] = 24\n",
    "\n",
    "        if \"scroll_wheel_zoom\" not in kwargs:\n",
    "            kwargs[\"scroll_wheel_zoom\"] = True\n",
    "\n",
    "```"
   ]
  },
  {
   "cell_type": "code",
   "execution_count": 4,
   "id": "fcc12d87",
   "metadata": {},
   "outputs": [],
   "source": [
    "import leafmap"
   ]
  },
  {
   "cell_type": "code",
   "execution_count": 5,
   "id": "381ec46b",
   "metadata": {},
   "outputs": [
    {
     "data": {
      "application/vnd.jupyter.widget-view+json": {
       "model_id": "7db7a9cdd92445e786117a8ba3ea979b",
       "version_major": 2,
       "version_minor": 0
      },
      "text/plain": [
       "Map(center=[20, 0], controls=(ZoomControl(options=['position', 'zoom_in_text', 'zoom_in_title', 'zoom_out_text…"
      ]
     },
     "metadata": {},
     "output_type": "display_data"
    }
   ],
   "source": [
    "m= leafmap.Map()\n",
    "m"
   ]
  },
  {
   "cell_type": "code",
   "execution_count": 6,
   "id": "6ffac451",
   "metadata": {},
   "outputs": [
    {
     "data": {
      "application/vnd.jupyter.widget-view+json": {
       "model_id": "fdeda2fd94704f5a91fc0842810933d3",
       "version_major": 2,
       "version_minor": 0
      },
      "text/plain": [
       "Map(center=[40, -100], controls=(ZoomControl(options=['position', 'zoom_in_text', 'zoom_in_title', 'zoom_out_t…"
      ]
     },
     "metadata": {},
     "output_type": "display_data"
    }
   ],
   "source": [
    "m2 = leafmap.Map(center=[40,-100], zoom=4)\n",
    "m2"
   ]
  },
  {
   "cell_type": "code",
   "execution_count": 7,
   "id": "70b3ce63",
   "metadata": {},
   "outputs": [
    {
     "data": {
      "application/vnd.jupyter.widget-view+json": {
       "model_id": "7bd0f1a9edc343a296ddcc986d0eabfb",
       "version_major": 2,
       "version_minor": 0
      },
      "text/plain": [
       "Map(center=[40, -100], controls=(ZoomControl(options=['position', 'zoom_in_text', 'zoom_in_title', 'zoom_out_t…"
      ]
     },
     "metadata": {},
     "output_type": "display_data"
    }
   ],
   "source": [
    "m2 = leafmap.Map(center=[40,-100], zoom=4, toolbar_control=False) #eliminate the toolbar control\n",
    "m2"
   ]
  },
  {
   "cell_type": "code",
   "execution_count": 8,
   "id": "492d1bf7",
   "metadata": {},
   "outputs": [
    {
     "name": "stdout",
     "output_type": "stream",
     "text": [
      "Willie is now sitting.\n",
      "Willie rolled over!\n"
     ]
    }
   ],
   "source": [
    "my_dog = Dog('Willie', 6)\n",
    "my_dog.sit()\n",
    "my_dog.roll_over()"
   ]
  },
  {
   "cell_type": "code",
   "execution_count": 9,
   "id": "fcc10f9c",
   "metadata": {},
   "outputs": [],
   "source": [
    "class Dog: #title case when create class\n",
    "    \"\"\"A simple attempt to model a dog.\"\"\"\n",
    "\n",
    "    def __init__(self, name, age = 1, **kwargs): #construct \n",
    "        \"\"\"Initialize name and age attributes.\"\"\"\n",
    "        self.name = name\n",
    "        self.age = age\n",
    "        if 'owner' in kwargs:\n",
    "            self.owner = kwargs['owner']\n",
    "\n",
    "    def sit(self): #method\n",
    "        \"\"\"Simulate a dog sitting in response to a command.\"\"\"\n",
    "        print(f\"{self.name} is now sitting.\")\n",
    "\n",
    "    def roll_over(self):\n",
    "        \"\"\"Simulate rolling over in response to a command.\"\"\"\n",
    "        print(f\"{self.name} rolled over!\")\n"
   ]
  },
  {
   "cell_type": "code",
   "execution_count": 10,
   "id": "9fdcb344",
   "metadata": {},
   "outputs": [],
   "source": [
    "my_dog = Dog('Williw', 6, owner ='chen')\n"
   ]
  },
  {
   "cell_type": "code",
   "execution_count": 11,
   "id": "31e33878",
   "metadata": {},
   "outputs": [
    {
     "data": {
      "text/plain": [
       "'chen'"
      ]
     },
     "execution_count": 11,
     "metadata": {},
     "output_type": "execute_result"
    }
   ],
   "source": [
    "my_dog.owner"
   ]
  },
  {
   "cell_type": "markdown",
   "id": "a87e66bd",
   "metadata": {},
   "source": [
    "#### Accessing Attributes\n",
    "\n",
    "To access the attributes of an instance, you use dot notation. At ➋ we access the value of my_dog’s attribute name by writing:\n",
    "\n",
    "```\n",
    "my_dog.name\n",
    "```\n",
    "\n",
    "Dot notation is used often in Python. This syntax demonstrates how Python finds an attribute’s value. Here Python looks at the instance my_dog and then finds the attribute name associated with my_dog. This is the same attribute referred to as self.name in the class Dog. At ➌ we use the same approach to work with the attribute age.\n",
    "\n",
    "#### Calling Methods\n",
    "\n",
    "After we create an instance from the class Dog, we can use dot notation to call any method defined in Dog. Let’s make our dog sit and roll over:"
   ]
  },
  {
   "cell_type": "code",
   "execution_count": 12,
   "id": "b9a7ae5d",
   "metadata": {},
   "outputs": [
    {
     "name": "stdout",
     "output_type": "stream",
     "text": [
      "Willie is now sitting.\n",
      "Willie rolled over!\n"
     ]
    }
   ],
   "source": [
    "my_dog = Dog('Willie', 6)\n",
    "my_dog.sit()\n",
    "my_dog.roll_over()"
   ]
  },
  {
   "cell_type": "markdown",
   "id": "2e866c0e",
   "metadata": {},
   "source": [
    "## WORKING WITH CLASSES AND INSTANCES <a class='anchor' id='working-with-classes'></a>\n",
    "\n",
    "You can use classes to represent many real-world situations. Once you write a class, you’ll spend most of your time working with instances created from that class. One of the first tasks you’ll want to do is modify the attributes associated with a particular instance. You can modify the attributes of an instance directly or write methods that update attributes in specific ways.\n",
    "\n",
    "### The Car Class\n",
    "\n",
    "Let’s write a new class representing a car. Our class will store information about the kind of car we’re working with, and it will have a method that summarizes this information:"
   ]
  },
  {
   "cell_type": "code",
   "execution_count": 13,
   "id": "d5e4743c",
   "metadata": {},
   "outputs": [
    {
     "name": "stdout",
     "output_type": "stream",
     "text": [
      "2019 Audi A4\n"
     ]
    }
   ],
   "source": [
    "class Car:\n",
    "    \"\"\"A simple attempt to represent a car.\"\"\"\n",
    "\n",
    "    def __init__(self, make, model, year):\n",
    "        \"\"\"Initialize attributes to describe a car.\"\"\"\n",
    "        self.make = make\n",
    "        self.model = model\n",
    "        self.year = year\n",
    "\n",
    "    def get_descriptive_name(self):\n",
    "        \"\"\"Return a neatly formatted descriptive name.\"\"\"\n",
    "        long_name = f\"{self.year} {self.make} {self.model}\"\n",
    "        return long_name.title()\n",
    "\n",
    "my_new_car = Car('audi', 'a4', 2019)\n",
    "print(my_new_car.get_descriptive_name())"
   ]
  },
  {
   "cell_type": "markdown",
   "id": "cffd5a8f",
   "metadata": {},
   "source": [
    "### Setting a Default Value for an Attribute\n",
    "\n",
    "When an instance is created, attributes can be defined without being passed in as parameters. These attributes can be defined in the `__init__()` method, where they are assigned a default value.\n",
    "\n",
    "Let’s add an attribute called odometer_reading that always starts with a value of 0. We’ll also add a method read_odometer() that helps us read each car’s odometer:"
   ]
  },
  {
   "cell_type": "code",
   "execution_count": 14,
   "id": "adcd5943",
   "metadata": {},
   "outputs": [
    {
     "name": "stdout",
     "output_type": "stream",
     "text": [
      "2019 Audi A4\n",
      "This car has 0 miles on it.\n"
     ]
    }
   ],
   "source": [
    "class Car:\n",
    "    \"\"\"A simple attempt to represent a car.\"\"\"\n",
    "\n",
    "    def __init__(self, make, model, year): #only 1\n",
    "        \"\"\"Initialize attributes to describe a car.\"\"\"\n",
    "        self.make = make\n",
    "        self.model = model\n",
    "        self.year = year\n",
    "        self.odometer_reading = 0 #set the default value\n",
    "\n",
    "    def get_descriptive_name(self): #as many as possible\n",
    "        \"\"\"Return a neatly formatted descriptive name.\"\"\"\n",
    "        long_name = f\"{self.year} {self.make} {self.model}\"\n",
    "        return long_name.title()\n",
    "\n",
    "    def read_odometer(self):\n",
    "        \"\"\"Print a statement showing the car's mileage.\"\"\"\n",
    "        print(f\"This car has {self.odometer_reading} miles on it.\")\n",
    "\n",
    "my_new_car = Car('audi', 'a4', 2019)\n",
    "print(my_new_car.get_descriptive_name())\n",
    "my_new_car.read_odometer()"
   ]
  },
  {
   "cell_type": "markdown",
   "id": "5773cae5",
   "metadata": {},
   "source": [
    "### Modifying Attribute Values\n",
    "\n",
    "You can change an attribute’s value in three ways: you can change the value directly through an instance, set the value through a method, or increment the value (add a certain amount to it) through a method. Let’s look at each of these approaches.\n",
    "\n",
    "#### Modifying an Attribute’s Value Directly\n",
    "\n",
    "The simplest way to modify the value of an attribute is to access the attribute directly through an instance. Here we set the odometer reading to 23 directly:"
   ]
  },
  {
   "cell_type": "code",
   "execution_count": 15,
   "id": "c93f6808",
   "metadata": {},
   "outputs": [
    {
     "name": "stdout",
     "output_type": "stream",
     "text": [
      "2019 Audi A4\n",
      "This car has 23 miles on it.\n"
     ]
    }
   ],
   "source": [
    "my_new_car = Car('audi', 'a4', 2019)\n",
    "print(my_new_car.get_descriptive_name())\n",
    "my_new_car.odometer_reading = 23\n",
    "my_new_car.read_odometer()"
   ]
  },
  {
   "cell_type": "markdown",
   "id": "e645447e",
   "metadata": {},
   "source": [
    "#### Modifying an Attribute’s Value Through a Method\n",
    "\n",
    "It can be helpful to have methods that update certain attributes for you. Instead of accessing the attribute directly, you pass the new value to a method that handles the updating internally. Here’s an example showing a method called update_odometer():"
   ]
  },
  {
   "cell_type": "code",
   "execution_count": 16,
   "id": "1f44177f",
   "metadata": {},
   "outputs": [
    {
     "name": "stdout",
     "output_type": "stream",
     "text": [
      "2019 Audi A4\n",
      "This car has 23 miles on it.\n"
     ]
    }
   ],
   "source": [
    "class Car:\n",
    "    \"\"\"A simple attempt to represent a car.\"\"\"\n",
    "\n",
    "    def __init__(self, make, model, year):\n",
    "        \"\"\"Initialize attributes to describe a car.\"\"\"\n",
    "        self.make = make\n",
    "        self.model = model\n",
    "        self.year = year\n",
    "        self.odometer_reading = 0\n",
    "\n",
    "    def get_descriptive_name(self):\n",
    "        \"\"\"Return a neatly formatted descriptive name.\"\"\"\n",
    "        long_name = f\"{self.year} {self.make} {self.model}\"\n",
    "        return long_name.title()\n",
    "\n",
    "    def read_odometer(self):\n",
    "        \"\"\"Print a statement showing the car's mileage.\"\"\"\n",
    "        print(f\"This car has {self.odometer_reading} miles on it.\")\n",
    "\n",
    "    def update_odometer(self, mileage):\n",
    "        \"\"\"\n",
    "        Set the odometer reading to the given value.\n",
    "        Reject the change if it attempts to roll the odometer back.\n",
    "        \"\"\"\n",
    "        self.odometer_reading = mileage\n",
    "\n",
    "my_new_car = Car('audi', 'a4', 2019)\n",
    "print(my_new_car.get_descriptive_name())\n",
    "\n",
    "my_new_car.update_odometer(23)\n",
    "my_new_car.read_odometer()"
   ]
  },
  {
   "cell_type": "code",
   "execution_count": 17,
   "id": "8664249d",
   "metadata": {},
   "outputs": [
    {
     "name": "stdout",
     "output_type": "stream",
     "text": [
      "2019 Audi A4\n",
      "This car has 23 miles on it.\n",
      "You can't roll back an odometer!\n",
      "This car has 23 miles on it.\n"
     ]
    }
   ],
   "source": [
    "class Car:\n",
    "    \"\"\"A simple attempt to represent a car.\"\"\"\n",
    "\n",
    "    def __init__(self, make, model, year):\n",
    "        \"\"\"Initialize attributes to describe a car.\"\"\"\n",
    "        self.make = make\n",
    "        self.model = model\n",
    "        self.year = year\n",
    "        self.odometer_reading = 0\n",
    "\n",
    "    def get_descriptive_name(self):\n",
    "        \"\"\"Return a neatly formatted descriptive name.\"\"\"\n",
    "        long_name = f\"{self.year} {self.make} {self.model}\"\n",
    "        return long_name.title()\n",
    "\n",
    "    def read_odometer(self):\n",
    "        \"\"\"Print a statement showing the car's mileage.\"\"\"\n",
    "        print(f\"This car has {self.odometer_reading} miles on it.\")\n",
    "\n",
    "    def update_odometer(self, mileage):\n",
    "        \"\"\"\n",
    "        Set the odometer reading to the given value.\n",
    "        Reject the change if it attempts to roll the odometer back.\n",
    "        \"\"\"\n",
    "        if mileage >= self.odometer_reading:\n",
    "            self.odometer_reading = mileage\n",
    "        else:\n",
    "            print(\"You can't roll back an odometer!\")\n",
    "\n",
    "my_new_car = Car('audi', 'a4', 2019)\n",
    "print(my_new_car.get_descriptive_name())\n",
    "\n",
    "my_new_car.update_odometer(23)\n",
    "my_new_car.read_odometer()\n",
    "\n",
    "my_new_car.update_odometer(10)\n",
    "my_new_car.read_odometer()"
   ]
  },
  {
   "cell_type": "markdown",
   "id": "e0449060",
   "metadata": {},
   "source": [
    "#### Incrementing an Attribute’s Value Through a Method\n",
    "\n",
    "Sometimes you’ll want to increment an attribute’s value by a certain amount rather than set an entirely new value. Say we buy a used car and put 100 miles on it between the time we buy it and the time we register it. Here’s a method that allows us to pass this incremental amount and add that value to the odometer reading:"
   ]
  },
  {
   "cell_type": "code",
   "execution_count": 18,
   "id": "ea3299c3",
   "metadata": {},
   "outputs": [
    {
     "name": "stdout",
     "output_type": "stream",
     "text": [
      "2015 Subaru Outback\n",
      "This car has 23500 miles on it.\n",
      "This car has 23600 miles on it.\n"
     ]
    }
   ],
   "source": [
    "class Car:\n",
    "    \"\"\"A simple attempt to represent a car.\"\"\"\n",
    "\n",
    "    def __init__(self, make, model, year):\n",
    "        \"\"\"Initialize attributes to describe a car.\"\"\"\n",
    "        self.make = make\n",
    "        self.model = model\n",
    "        self.year = year\n",
    "        self.odometer_reading = 0\n",
    "\n",
    "    def get_descriptive_name(self):\n",
    "        \"\"\"Return a neatly formatted descriptive name.\"\"\"\n",
    "        long_name = f\"{self.year} {self.make} {self.model}\"\n",
    "        return long_name.title()\n",
    "\n",
    "    def read_odometer(self):\n",
    "        \"\"\"Print a statement showing the car's mileage.\"\"\"\n",
    "        print(f\"This car has {self.odometer_reading} miles on it.\")\n",
    "\n",
    "    def update_odometer(self, mileage):\n",
    "        \"\"\"\n",
    "        Set the odometer reading to the given value.\n",
    "        Reject the change if it attempts to roll the odometer back.\n",
    "        \"\"\"\n",
    "        if mileage >= self.odometer_reading:\n",
    "            self.odometer_reading = mileage\n",
    "        else:\n",
    "            print(\"You can't roll back an odometer!\")\n",
    "\n",
    "    def increment_odometer(self, miles):\n",
    "        \"\"\"Add the given amount to the odometer reading.\"\"\"\n",
    "        self.odometer_reading += miles\n",
    "\n",
    "my_used_car = Car('subaru', 'outback', 2015)\n",
    "print(my_used_car.get_descriptive_name())\n",
    "\n",
    "my_used_car.update_odometer(23_500)\n",
    "my_used_car.read_odometer()\n",
    "\n",
    "my_used_car.increment_odometer(100)\n",
    "my_used_car.read_odometer()"
   ]
  },
  {
   "cell_type": "markdown",
   "id": "e5c59626",
   "metadata": {},
   "source": [
    "# Finish"
   ]
  },
  {
   "cell_type": "markdown",
   "id": "071bb0db",
   "metadata": {},
   "source": [
    "## References\n",
    "\n",
    "-   Matthes, Eric (2022). _Python Crash Course, 3rd Edition: A Hands-On, Project-Based Introduction to Programming_. No Starch Press. ISBN: 978-1593279288. ([Publisher website](https://nostarch.com/python-crash-course-3rd-edition))\n",
    "- Dr.Qiusheng Wu online lecture"
   ]
  }
 ],
 "metadata": {
  "kernelspec": {
   "display_name": "Python 3 (ipykernel)",
   "language": "python",
   "name": "python3"
  },
  "language_info": {
   "codemirror_mode": {
    "name": "ipython",
    "version": 3
   },
   "file_extension": ".py",
   "mimetype": "text/x-python",
   "name": "python",
   "nbconvert_exporter": "python",
   "pygments_lexer": "ipython3",
   "version": "3.9.16"
  }
 },
 "nbformat": 4,
 "nbformat_minor": 5
}
